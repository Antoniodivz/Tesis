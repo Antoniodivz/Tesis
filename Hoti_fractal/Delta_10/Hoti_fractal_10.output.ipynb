{
 "cells": [
  {
   "cell_type": "markdown",
   "id": "removed-builder",
   "metadata": {
    "papermill": {
     "duration": null,
     "end_time": null,
     "exception": null,
     "start_time": null,
     "status": "completed"
    },
    "tags": []
   },
   "source": [
    "# Hoti"
   ]
  },
  {
   "cell_type": "code",
   "execution_count": null,
   "id": "regional-thought",
   "metadata": {
    "papermill": {
     "duration": null,
     "end_time": null,
     "exception": null,
     "start_time": null,
     "status": "completed"
    },
    "tags": []
   },
   "outputs": [],
   "source": [
    "from pylab import *\n",
    "mpl.rcParams.update({'font.size':18})"
   ]
  },
  {
   "cell_type": "code",
   "execution_count": null,
   "id": "prepared-boulder",
   "metadata": {
    "papermill": {
     "duration": null,
     "end_time": null,
     "exception": null,
     "start_time": null,
     "status": "completed"
    },
    "tags": []
   },
   "outputs": [],
   "source": [
    "import os\n",
    "\n",
    "if not os.path.exists(\"images\"):\n",
    "    os.mkdir(\"images\")\n",
    "\n",
    "if not os.path.exists(\"images/video_images\"):\n",
    "    os.mkdir(\"images/video_images\")\n",
    "\n",
    "if not os.path.exists(\"images/video_images3\"):\n",
    "    os.mkdir(\"images/video_images3\")"
   ]
  },
  {
   "cell_type": "markdown",
   "id": "latin-charm",
   "metadata": {
    "papermill": {
     "duration": null,
     "end_time": null,
     "exception": null,
     "start_time": null,
     "status": "completed"
    },
    "tags": []
   },
   "source": [
    "# Modelo finito "
   ]
  },
  {
   "cell_type": "code",
   "execution_count": null,
   "id": "super-victoria",
   "metadata": {
    "papermill": {
     "duration": null,
     "end_time": null,
     "exception": null,
     "start_time": null,
     "status": "completed"
    },
    "tags": []
   },
   "outputs": [],
   "source": [
    "x,y,f = np.loadtxt(\"LatticeSierpinski_18x18.xyz\",usecols=(1,2,4),skiprows=2,unpack=True)"
   ]
  },
  {
   "cell_type": "code",
   "execution_count": null,
   "id": "beautiful-camping",
   "metadata": {
    "papermill": {
     "duration": null,
     "end_time": null,
     "exception": null,
     "start_time": null,
     "status": "completed"
    },
    "tags": []
   },
   "outputs": [],
   "source": [
    "r = 1.1\n",
    "Dic = {}\n",
    "natoms = int( len(x) )\n",
    "for n in range(natoms):\n",
    "    a = sqrt( (x[n]-x)*(x[n]-x) + (y[n]-y)*(y[n]-y) ) < r\n",
    "    vecinos = [i for i, x in enumerate(a) if x and i!=n]\n",
    "    Dic[n] = vecinos"
   ]
  },
  {
   "cell_type": "code",
   "execution_count": null,
   "id": "assisted-learning",
   "metadata": {
    "papermill": {
     "duration": null,
     "end_time": null,
     "exception": null,
     "start_time": null,
     "status": "completed"
    },
    "tags": []
   },
   "outputs": [],
   "source": [
    "def Hoti_Hamiltonian(γ, λ):\n",
    "    H = np.zeros((natoms,natoms), dtype = 'complex')\n",
    "    Hop = {}\n",
    "    a = exp(-1J*pi)\n",
    "    δ = 1e-8\n",
    "    ϵ = 0.1\n",
    "    for n in Dic.keys():\n",
    "        vecinos = Dic[n]\n",
    "        hop = []\n",
    "        for v in vecinos:\n",
    "            f0 = f[n]\n",
    "            f1 = f[v]\n",
    "            if f0 == f1:\n",
    "                fase = γ \n",
    "            else: \n",
    "                fase = λ \n",
    "            H[n,v] = fase + fase*ϵ*rand()\n",
    "            H[v,n] = fase + fase*ϵ*rand()\n",
    "            \n",
    "            \n",
    "        if n%2==0:\n",
    "            H[n,n] = δ\n",
    "        else:\n",
    "            H[n,n] = -δ\n",
    "            \n",
    "            hop.append(fase)\n",
    "        Hop[n] = hop\n",
    "\n",
    "    f0 = 0\n",
    "    f1 = 0\n",
    "    fase = 1\n",
    "    for n in Dic.keys():\n",
    "        vecinos = Dic[n]\n",
    "        c = 0\n",
    "        for v in vecinos:\n",
    "            posx     = x[n]\n",
    "            posy     = y[n]\n",
    "            f0       = f[n]\n",
    "            f1       = f[v] \n",
    "            if f0 == f1:\n",
    "                fase = γ\n",
    "            else: \n",
    "                fase = λ\n",
    "\n",
    "            if ( posx%2==0 and posy%2==0  ):\n",
    "                if ( x[v] > x[n] ):\n",
    "                    H[(n,v)] = a*fase + fase*ϵ*rand()\n",
    "                    H[(v,n)] = a*fase + fase*ϵ*rand()\n",
    "            elif(posx%2==1 and posy%2==1):\n",
    "                if ( x[v] > x[n] ):\n",
    "                    H[(n,v)] = a*fase + fase*ϵ*rand()\n",
    "                    H[(v,n)] = a*fase + fase*ϵ*rand()\n",
    "            else:\n",
    "                pass\n",
    "    return H"
   ]
  },
  {
   "cell_type": "code",
   "execution_count": null,
   "id": "representative-longer",
   "metadata": {
    "papermill": {
     "duration": null,
     "end_time": null,
     "exception": null,
     "start_time": null,
     "status": "completed"
    },
    "tags": []
   },
   "outputs": [],
   "source": [
    "H0 = Hoti_Hamiltonian(1.0, 5.0)\n",
    "H1 = Hoti_Hamiltonian(1.0, 1.0)\n",
    "H2 = Hoti_Hamiltonian(5.0, 1.0)\n",
    "\n",
    "np.savetxt('halmitonian0.txt',H0)\n",
    "np.savetxt('halmitonian1.txt',H1)\n",
    "np.savetxt('halmitonian2.txt',H2)"
   ]
  },
  {
   "cell_type": "code",
   "execution_count": null,
   "id": "discrete-recorder",
   "metadata": {
    "papermill": {
     "duration": null,
     "end_time": null,
     "exception": null,
     "start_time": null,
     "status": "completed"
    },
    "tags": []
   },
   "outputs": [],
   "source": [
    "from plotly.subplots import make_subplots\n",
    "import plotly.graph_objects as go\n",
    "\n",
    "fig = make_subplots(rows=1, cols=3,\n",
    "                    subplot_titles=(\"γ/λ < 1 \",\"γ/λ = 1\", \"γ/λ > 1\"))\n",
    "\n",
    "fig.add_trace(\n",
    "    go.Heatmap(z=H0.real,coloraxis = \"coloraxis\"),\n",
    "    row=1, col=1)\n",
    "\n",
    "fig.add_trace(\n",
    "    go.Heatmap(z=H1.real,coloraxis = \"coloraxis\"),\n",
    "    row=1, col=2)\n",
    "\n",
    "fig.add_trace(\n",
    "    go.Heatmap(z=H2.real,coloraxis = \"coloraxis\"),\n",
    "    row=1, col=3)\n",
    "\n",
    "fig.update_xaxes(showgrid=False,showticklabels=False)\n",
    "fig.update_yaxes(showgrid=False,showticklabels=False)\n",
    "fig.update_layout(height=400, width=900, showlegend=False, title_text=\"\", coloraxis={'colorscale':'RdBu'})\n",
    "fig.show()\n",
    "fig.write_image(\"images/Hamiltonian_cero.pdf\")"
   ]
  },
  {
   "cell_type": "code",
   "execution_count": null,
   "id": "inside-catalyst",
   "metadata": {
    "papermill": {
     "duration": null,
     "end_time": null,
     "exception": null,
     "start_time": null,
     "status": "completed"
    },
    "tags": []
   },
   "outputs": [],
   "source": [
    "Ek0, U0 = eigh(H0)\n",
    "Ek0 = np.real(Ek0)\n",
    "\n",
    "Ek1, U1 = eigh(H1)\n",
    "Ek1 = np.real(Ek1)\n",
    "\n",
    "Ek2, U2 = eigh(H2)\n",
    "Ek2 = np.real(Ek2)\n",
    "\n",
    "\n",
    "savetxt(\"Energias0.txt\",Ek0,fmt = '%s', comments = '')\n",
    "savetxt(\"Estados0.txt\",U0,fmt = '%s', comments = '')\n",
    "\n",
    "savetxt(\"Energias1.txt\",Ek1,fmt = '%s', comments = '')\n",
    "savetxt(\"Estados1.txt\",U1,fmt = '%s', comments = '')\n",
    "\n",
    "savetxt(\"Energias2.txt\",Ek2,fmt = '%s', comments = '')\n",
    "savetxt(\"Estados2.txt\",U2,fmt = '%s', comments = '')"
   ]
  },
  {
   "cell_type": "code",
   "execution_count": null,
   "id": "parental-boutique",
   "metadata": {
    "papermill": {
     "duration": null,
     "end_time": null,
     "exception": null,
     "start_time": null,
     "status": "completed"
    },
    "tags": []
   },
   "outputs": [],
   "source": [
    "Ek0 = loadtxt(\"Energias0.txt\", unpack=True)\n",
    "U0  = loadtxt(\"Estados0.txt\", dtype=complex, unpack=True)\n",
    "\n",
    "Ek1 = loadtxt(\"Energias1.txt\", unpack=True)\n",
    "U1  = loadtxt(\"Estados1.txt\", dtype=complex, unpack=True)\n",
    "\n",
    "Ek2 = loadtxt(\"Energias2.txt\", unpack=True)\n",
    "U2  = loadtxt(\"Estados2.txt\", dtype=complex, unpack=True)"
   ]
  },
  {
   "cell_type": "code",
   "execution_count": null,
   "id": "written-venezuela",
   "metadata": {
    "papermill": {
     "duration": null,
     "end_time": null,
     "exception": null,
     "start_time": null,
     "status": "completed"
    },
    "scrolled": false,
    "tags": []
   },
   "outputs": [],
   "source": [
    "fig = make_subplots(rows=1, cols=3,\n",
    "                   subplot_titles=(\"γ/λ < 1 \",\"γ/λ = 1\", \"γ/λ > 1\"))\n",
    "\n",
    "bins = 100\n",
    "\n",
    "fig.add_trace(\n",
    "    go.Histogram(x=Ek0, nbinsx=bins), row=1, col=1)\n",
    "\n",
    "fig.add_trace(\n",
    "    go.Histogram(x=Ek1, nbinsx=bins), row=1, col=2)\n",
    "\n",
    "fig.add_trace(\n",
    "    go.Histogram(x=Ek2, nbinsx=bins), row=1, col=3)\n",
    "\n",
    "        \n",
    "fig.update_xaxes(title_text=\"E\")\n",
    "fig.update_yaxes(title_text=\"#E\")\n",
    "fig.update_layout(height=400, width=900, title_text=\"\", showlegend=False)\n",
    "fig.show()\n",
    "fig.write_image(\"images/Dos_cero.png\")"
   ]
  },
  {
   "cell_type": "code",
   "execution_count": null,
   "id": "monetary-desktop",
   "metadata": {
    "papermill": {
     "duration": null,
     "end_time": null,
     "exception": null,
     "start_time": null,
     "status": "completed"
    },
    "tags": []
   },
   "outputs": [],
   "source": [
    "def wave_function(Ek,U):\n",
    "    indexsort = argsort(Ek)\n",
    "    Est = [i for i,val in enumerate(Ek) if abs(val) < 0.2]\n",
    "    ek = np.mean(Ek[Est])\n",
    "    s = [np.real(U[i]*U.conjugate()[i]) for i in Est]\n",
    "    S = np.zeros(len(s[0]))\n",
    "    for i in range(len(s)):\n",
    "        S += s[i] \n",
    "    S = S/len(s)\n",
    "    Est = Est\n",
    "    return S,Est"
   ]
  },
  {
   "cell_type": "code",
   "execution_count": null,
   "id": "dying-artist",
   "metadata": {
    "papermill": {
     "duration": null,
     "end_time": null,
     "exception": null,
     "start_time": null,
     "status": "completed"
    },
    "tags": []
   },
   "outputs": [],
   "source": [
    "W0,Est = wave_function(Ek0,U0)"
   ]
  },
  {
   "cell_type": "code",
   "execution_count": null,
   "id": "interpreted-consensus",
   "metadata": {
    "papermill": {
     "duration": null,
     "end_time": null,
     "exception": null,
     "start_time": null,
     "status": "completed"
    },
    "tags": []
   },
   "outputs": [],
   "source": [
    "def density_of_states(Ek,U):\n",
    "    indexsort = argsort(Ek)\n",
    "    #Est = [i for i,val in enumerate(Ek) if abs(val) < 0.2]\n",
    "    ek = np.mean(Ek[Est])\n",
    "    s = [np.real(U[i]*U.conjugate()[i]) for i in Est]\n",
    "    S = np.zeros(len(s[0]))\n",
    "    for i in range(len(s)):\n",
    "        S += s[i] \n",
    "    S = S/len(s)\n",
    "    #print(Est)\n",
    "    return S"
   ]
  },
  {
   "cell_type": "code",
   "execution_count": null,
   "id": "verbal-handy",
   "metadata": {
    "papermill": {
     "duration": null,
     "end_time": null,
     "exception": null,
     "start_time": null,
     "status": "completed"
    },
    "tags": []
   },
   "outputs": [],
   "source": [
    "def density_of_states_array(Ek,U):\n",
    "    indexsort = argsort(Ek)\n",
    "    #Est = [i for i,val in enumerate(Ek) if abs(val) < 0.2]\n",
    "    ek = np.mean(Ek[Est])\n",
    "    s = [np.real(U[i]*U.conjugate()[i]) for i in Est]\n",
    "    S = np.zeros(len(s[0]))\n",
    "    for i in range(len(s)):\n",
    "        S += s[i] \n",
    "    S = S/len(s)\n",
    "    #print(Est)\n",
    "    return s"
   ]
  },
  {
   "cell_type": "code",
   "execution_count": null,
   "id": "prospective-speech",
   "metadata": {
    "papermill": {
     "duration": null,
     "end_time": null,
     "exception": null,
     "start_time": null,
     "status": "completed"
    },
    "tags": []
   },
   "outputs": [],
   "source": [
    "S0 = density_of_states(Ek0,U0)\n",
    "fig = go.Figure()\n",
    "fig.add_trace(go.Scatter(x=x+10, y=y+10,\n",
    "                    mode='markers',\n",
    "                    name='markers'))\n",
    "fig.add_trace(go.Scatter(\n",
    "    x=x+10,\n",
    "    y=y+10,\n",
    "    mode='markers',\n",
    "    marker=dict(size=S0*200)))\n",
    "fig.update_xaxes(showgrid=False,showticklabels=False)\n",
    "fig.update_yaxes(showgrid=False,showticklabels=False)\n",
    "fig.update_layout(showlegend=False,height=600, width=600, title_text=\"\")\n",
    "fig.show()\n",
    "fig.write_image(\"images/Proyection_cero.png\")"
   ]
  },
  {
   "cell_type": "code",
   "execution_count": null,
   "id": "square-engineer",
   "metadata": {
    "papermill": {
     "duration": null,
     "end_time": null,
     "exception": null,
     "start_time": null,
     "status": "completed"
    },
    "tags": []
   },
   "outputs": [],
   "source": [
    "S0 = density_of_states(Ek0,U0)\n",
    "wave = reshape(S0, (18,18))"
   ]
  },
  {
   "cell_type": "code",
   "execution_count": null,
   "id": "remarkable-writing",
   "metadata": {
    "papermill": {
     "duration": null,
     "end_time": null,
     "exception": null,
     "start_time": null,
     "status": "completed"
    },
    "tags": []
   },
   "outputs": [],
   "source": [
    "for i in range(18):\n",
    "    for j in range(18):\n",
    "        n = 1\n",
    "        if i<=8 and j <=8:\n",
    "            n = -1\n",
    "        elif i>8 and j >8:\n",
    "            n = -1\n",
    "        else :\n",
    "            n = 1\n",
    "        \n",
    "        wave[i,j] = wave[i,j]*n "
   ]
  },
  {
   "cell_type": "code",
   "execution_count": null,
   "id": "desperate-cologne",
   "metadata": {
    "papermill": {
     "duration": null,
     "end_time": null,
     "exception": null,
     "start_time": null,
     "status": "completed"
    },
    "tags": []
   },
   "outputs": [],
   "source": [
    "\n",
    "fig = go.Figure(data=[go.Surface(z=wave, colorscale='RdBu')])\n",
    "\n",
    "fig.update_layout(title='', autosize=False,\n",
    "                  width=700, height=700,\n",
    "                  margin=dict(l=65, r=50, b=65, t=90))\n",
    "\n",
    "fig.show()"
   ]
  },
  {
   "cell_type": "code",
   "execution_count": null,
   "id": "light-education",
   "metadata": {
    "papermill": {
     "duration": null,
     "end_time": null,
     "exception": null,
     "start_time": null,
     "status": "completed"
    },
    "scrolled": false,
    "tags": []
   },
   "outputs": [],
   "source": [
    "E_γλ = [] #run onece\n",
    "for γ in linspace(-2.5,2.5,51):\n",
    "    H = Hoti_Hamiltonian(γ,1)\n",
    "    Ek, U = eigh(H)\n",
    "    Ek = np.real(Ek)\n",
    "    indexsort = argsort(Ek)\n",
    "    E_γλ.append(Ek[indexsort])\n",
    "E = array(E_γλ)    \n",
    "savetxt(\"param_bands.txt\",E,fmt = '%s', comments = '')"
   ]
  },
  {
   "cell_type": "code",
   "execution_count": null,
   "id": "bulgarian-frequency",
   "metadata": {
    "papermill": {
     "duration": null,
     "end_time": null,
     "exception": null,
     "start_time": null,
     "status": "completed"
    },
    "tags": []
   },
   "outputs": [],
   "source": [
    "E = loadtxt(\"param_bands.txt\",unpack=True)\n",
    "n = len(E.T[0])\n",
    "posx = linspace(-2.5,2.5,51)\n",
    "fig = go.Figure()\n",
    "for i in range(n):\n",
    "    if i in Est:\n",
    "        fig.add_trace(go.Scatter(x=posx,y=E[i], marker_color=\"red\")) \n",
    "    else:\n",
    "        fig.add_trace(go.Scatter(x=posx,y=E[i], marker_color=\"blue\")) \n",
    "        \n",
    "fig.update_xaxes(showgrid=False,showticklabels=True, title_text=\"γ/λ\")\n",
    "fig.update_yaxes(showgrid=False,showticklabels=True, title_text=\"E\")\n",
    "fig.update_layout(showlegend=False, height=600, width=600, title_text=\"\")\n",
    "fig.show()\n",
    "fig.write_image(\"images/Bands_ce.png\")"
   ]
  },
  {
   "cell_type": "code",
   "execution_count": null,
   "id": "exterior-surge",
   "metadata": {
    "papermill": {
     "duration": null,
     "end_time": null,
     "exception": null,
     "start_time": null,
     "status": "completed"
    },
    "tags": []
   },
   "outputs": [],
   "source": [
    "n = len(E.T[0])\n",
    "posx = linspace(-2.5,2.5,51)\n",
    "fig = go.Figure()\n",
    "for i in range(n):\n",
    "    if i in Est:\n",
    "        fig.add_trace(go.Scatter(x=posx,y=log(abs(E[i])), marker_color=\"red\")) \n",
    "    else:\n",
    "        fig.add_trace(go.Scatter(x=posx,y=log(abs(E[i])), marker_color=\"blue\")) \n",
    "        \n",
    "fig.update_xaxes(showgrid=False,showticklabels=True, title_text=\"γ/λ\")\n",
    "fig.update_yaxes(showgrid=False,showticklabels=True, title_text=\"log |E| \")\n",
    "fig.update_layout(showlegend=False, height=600, width=600, title_text=\"\")\n",
    "fig.show()\n",
    "fig.write_image(\"images/Bands_ce_log.png\")"
   ]
  },
  {
   "cell_type": "markdown",
   "id": "efficient-stone",
   "metadata": {
    "papermill": {
     "duration": null,
     "end_time": null,
     "exception": null,
     "start_time": null,
     "status": "completed"
    },
    "tags": []
   },
   "source": [
    "# Modelo Infinito"
   ]
  },
  {
   "cell_type": "code",
   "execution_count": null,
   "id": "vocational-transparency",
   "metadata": {
    "papermill": {
     "duration": null,
     "end_time": null,
     "exception": null,
     "start_time": null,
     "status": "completed"
    },
    "tags": []
   },
   "outputs": [],
   "source": [
    "def SSH(kx,ky,γ,λ):\n",
    "    δ = 1e-5\n",
    "    H = np.array([[δ,γ+λ*exp(-1J*kx),0,γ-λ*exp(1J*ky)],\n",
    "                  [γ+λ*exp(1J*kx),-δ,-γ+λ*exp(1J*ky),0],\n",
    "                  [0,-γ+λ*exp(-1J*ky),-δ,γ+λ*exp(1J*kx)],\n",
    "                  [γ-λ*exp(-1J*ky),0,γ+λ*exp(-1J*kx),δ]])\n",
    "    return H"
   ]
  },
  {
   "cell_type": "code",
   "execution_count": null,
   "id": "atomic-native",
   "metadata": {
    "papermill": {
     "duration": null,
     "end_time": null,
     "exception": null,
     "start_time": null,
     "status": "completed"
    },
    "tags": []
   },
   "outputs": [],
   "source": [
    "Kx, Ky =  linspace(-pi,pi,50), linspace(-pi,pi,50)\n",
    "kxg,kyg = [],[]\n",
    "Edat = []\n",
    "for dat in [[0.0,5.0],[1.0,1.0],[5.0,1.0]]:\n",
    "    E = []\n",
    "    for kx in Kx:\n",
    "        for ky in Ky:\n",
    "            H = SSH(kx,ky,γ=dat[0],λ=dat[1])\n",
    "            Ek,vk = eigh(H)\n",
    "            E.append(Ek)\n",
    "            \n",
    "    E = array(E)\n",
    "    Edat.append(E)"
   ]
  },
  {
   "cell_type": "code",
   "execution_count": null,
   "id": "incorporated-sterling",
   "metadata": {
    "papermill": {
     "duration": null,
     "end_time": null,
     "exception": null,
     "start_time": null,
     "status": "completed"
    },
    "tags": []
   },
   "outputs": [],
   "source": [
    "fig = go.Figure()\n",
    "for i in range(len(Edat[0].T)):\n",
    "    M = reshape(Edat[0].T[i],(50,50))\n",
    "    fig.add_trace(go.Surface(z=M,  showscale=False, opacity=0.9))\n",
    "    fig.update_layout(showlegend=False, height=600, width=600, title_text=\"γ/λ < 1\")\n",
    "    \n",
    "fig.show()\n",
    "fig.write_image(\"images/bands_surface1.png\")"
   ]
  },
  {
   "cell_type": "code",
   "execution_count": null,
   "id": "emerging-intervention",
   "metadata": {
    "papermill": {
     "duration": null,
     "end_time": null,
     "exception": null,
     "start_time": null,
     "status": "completed"
    },
    "tags": []
   },
   "outputs": [],
   "source": [
    "fig = go.Figure()\n",
    "for i in range(len(Edat[1].T)):\n",
    "    M = reshape(Edat[1].T[i],(50,50))\n",
    "    fig.add_trace(go.Surface(z=M,  showscale=False, opacity=0.9))\n",
    "    fig.update_layout(showlegend=False, height=600, width=600, title_text=\"γ/λ = 1\")\n",
    "\n",
    "fig.show()\n",
    "fig.write_image(\"images/bands_surface2.png\")"
   ]
  },
  {
   "cell_type": "code",
   "execution_count": null,
   "id": "olive-pollution",
   "metadata": {
    "papermill": {
     "duration": null,
     "end_time": null,
     "exception": null,
     "start_time": null,
     "status": "completed"
    },
    "tags": []
   },
   "outputs": [],
   "source": [
    "fig = go.Figure()\n",
    "for i in range(len(Edat[2].T)):\n",
    "    M = reshape(Edat[2].T[i],(50,50))\n",
    "    fig.add_trace(go.Surface(z=M,  showscale=False, opacity=0.9))\n",
    "    fig.update_layout(showlegend=False,height=600, width=600, title_text=\"γ/λ > 1\")\n",
    "    \n",
    "fig.show()\n",
    "fig.write_image(\"images/bands_surface3.png\")"
   ]
  },
  {
   "cell_type": "markdown",
   "id": "unique-anthony",
   "metadata": {
    "papermill": {
     "duration": null,
     "end_time": null,
     "exception": null,
     "start_time": null,
     "status": "completed"
    },
    "tags": []
   },
   "source": [
    "# High Order Topological Pump"
   ]
  },
  {
   "cell_type": "code",
   "execution_count": null,
   "id": "agreed-trial",
   "metadata": {
    "papermill": {
     "duration": null,
     "end_time": null,
     "exception": null,
     "start_time": null,
     "status": "completed"
    },
    "tags": []
   },
   "outputs": [],
   "source": [
    "δ = 1e-3\n",
    "C   = 1.0     # cm^-1\n",
    "κ   = 1    # μm^-1\n",
    "L   = 1   # μm\n",
    "A   = 0.5     # μm\n",
    "γ, λ = 1.0,1.0\n",
    "fig = go.Figure()\n",
    "\n",
    "\n",
    "def func_cext(θ,A,λ):\n",
    "    return  λ*exp(-κ*(L+A*cos(θ)))\n",
    "\n",
    "def func_cint(θ,A,γ):\n",
    "    return γ*exp(-κ*(L-A*cos(θ)))\n"
   ]
  },
  {
   "cell_type": "code",
   "execution_count": null,
   "id": "judicial-group",
   "metadata": {
    "papermill": {
     "duration": null,
     "end_time": null,
     "exception": null,
     "start_time": null,
     "status": "completed"
    },
    "tags": []
   },
   "outputs": [],
   "source": [
    "def Hoti_Hamiltonian_transport(A, θ, γ):\n",
    "    H = np.zeros((natoms,natoms), dtype = 'complex')\n",
    "    a = exp(-1J*pi)\n",
    "    δ = 1e-5\n",
    "    λ = 1.0\n",
    "    ϵ = 0.1\n",
    "    for n in Dic.keys():\n",
    "        vecinos = Dic[n]\n",
    "        for v in vecinos:\n",
    "            f0 = f[n]\n",
    "            f1 = f[v]\n",
    "            if f0 == f1:\n",
    "                fase = func_cint(θ,A,γ) \n",
    "            else: \n",
    "                fase = func_cext(θ,A,λ)\n",
    "            H[n,v] = fase + fase*ϵ*rand()\n",
    "            H[v,n] = fase + fase*ϵ*rand()\n",
    "            \n",
    "        if n%2==0:\n",
    "            H[n,n] = δ*sin(θ)# + 1e-8*random()\n",
    "        else:\n",
    "            H[n,n] = -δ*sin(θ)# - 1e-8*random()\n",
    "            \n",
    "\n",
    "    f0 = 0\n",
    "    f1 = 0\n",
    "    fase = 1\n",
    "    for n in Dic.keys():\n",
    "        vecinos = Dic[n]\n",
    "        c = 0\n",
    "        for v in vecinos:\n",
    "            posx     = x[n]\n",
    "            posy     = y[n]\n",
    "            f0       = f[n]\n",
    "            f1       = f[v] \n",
    "            if f0 == f1:\n",
    "                fase = func_cint(θ,A,γ)\n",
    "            else: \n",
    "                fase = func_cext(θ,A,λ)\n",
    "\n",
    "            if ( posx%2==0 and posy%2==0  ):\n",
    "                if ( x[v] > x[n] ):\n",
    "                    H[(n,v)] = a*fase + fase*ϵ*rand()\n",
    "                    H[(v,n)] = a*fase + fase*ϵ*rand()\n",
    "            elif(posx%2==1 and posy%2==1):\n",
    "                if ( x[v] > x[n] ):\n",
    "                    H[(n,v)] = a*fase + fase*ϵ*rand()\n",
    "                    H[(v,n)] = a*fase + fase*ϵ*rand()\n",
    "            else:\n",
    "                pass\n",
    "    return H"
   ]
  },
  {
   "cell_type": "code",
   "execution_count": null,
   "id": "injured-employer",
   "metadata": {
    "papermill": {
     "duration": null,
     "end_time": null,
     "exception": null,
     "start_time": null,
     "status": "completed"
    },
    "tags": []
   },
   "outputs": [],
   "source": [
    "A  = 0.5\n",
    "H0 = Hoti_Hamiltonian_transport(A,-pi,1)\n",
    "H1 = Hoti_Hamiltonian_transport(A,0,1)\n",
    "H2 = Hoti_Hamiltonian_transport(A,pi,1)\n",
    "\n",
    "Ek0, U0 = eigh(H0)\n",
    "Ek0 = np.real(Ek0)\n",
    "\n",
    "Ek1, U1 = eigh(H1)\n",
    "Ek1 = np.real(Ek1)\n",
    "\n",
    "Ek2, U2 = eigh(H2)\n",
    "Ek2 = np.real(Ek2)\n",
    "\n",
    "savetxt(\"E0_pump.txt\",Ek0,fmt = '%s', comments = '')\n",
    "savetxt(\"Est0_pump.txt\",U0,fmt = '%s', comments = '')\n",
    "\n",
    "savetxt(\"E1_pump.txt\",Ek1,fmt = '%s', comments = '')\n",
    "savetxt(\"Est1_pump.txt\",U1,fmt = '%s', comments = '')\n",
    "\n",
    "savetxt(\"E2_pump.txt\",Ek2,fmt = '%s', comments = '')\n",
    "savetxt(\"Est2_pump.txt\",U2,fmt = '%s', comments = '')"
   ]
  },
  {
   "cell_type": "code",
   "execution_count": null,
   "id": "subtle-climb",
   "metadata": {
    "papermill": {
     "duration": null,
     "end_time": null,
     "exception": null,
     "start_time": null,
     "status": "completed"
    },
    "tags": []
   },
   "outputs": [],
   "source": [
    "Ek0 = loadtxt(\"E0_pump.txt\", unpack=True)\n",
    "U0  = loadtxt(\"Est0_pump.txt\", dtype=complex, unpack=True)\n",
    "\n",
    "Ek1 = loadtxt(\"E1_pump.txt\", unpack=True)\n",
    "U1  = loadtxt(\"Est1_pump.txt\", dtype=complex, unpack=True)\n",
    "\n",
    "Ek2 = loadtxt(\"E2_pump.txt\", unpack=True)\n",
    "U2  = loadtxt(\"Est2_pump.txt\", dtype=complex, unpack=True)"
   ]
  },
  {
   "cell_type": "code",
   "execution_count": null,
   "id": "pending-strand",
   "metadata": {
    "papermill": {
     "duration": null,
     "end_time": null,
     "exception": null,
     "start_time": null,
     "status": "completed"
    },
    "tags": []
   },
   "outputs": [],
   "source": [
    "fig = make_subplots(rows=1, cols=3,\n",
    "                   subplot_titles=(\"θ = -π \",\"θ = 0\", \"θ = π\"))\n",
    "\n",
    "bins = 101\n",
    "\n",
    "fig.add_trace(\n",
    "    go.Histogram(x=Ek0, nbinsx=bins), row=1, col=1)\n",
    "\n",
    "fig.add_trace(\n",
    "    go.Histogram(x=Ek1, nbinsx=bins), row=1, col=2)\n",
    "\n",
    "fig.add_trace(\n",
    "    go.Histogram(x=Ek2, nbinsx=bins), row=1, col=3)\n",
    "        \n",
    "fig.update_xaxes(title_text=\"E\")\n",
    "fig.update_yaxes(title_text=\"#E\")\n",
    "fig.update_layout(showlegend=False, height=400, width=900, title_text=\"\")\n",
    "fig.write_image(\"images/Dos_pump.png\")\n",
    "\n",
    "fig.show()"
   ]
  },
  {
   "cell_type": "code",
   "execution_count": null,
   "id": "aggressive-techno",
   "metadata": {
    "papermill": {
     "duration": null,
     "end_time": null,
     "exception": null,
     "start_time": null,
     "status": "completed"
    },
    "tags": []
   },
   "outputs": [],
   "source": [
    "fig = go.Figure()\n",
    "λ = 1.0\n",
    "A = 0.5\n",
    "\n",
    "θ = linspace(-pi,pi,100)\n",
    "fig.add_trace(go.Scatter(x=func_cint(θ,A,0)-func_cext(θ,A,λ),y=δ*sin(θ),name = \"γ/λ={}\".format(round(0,3)), mode='lines')) \n",
    "fig.add_trace(go.Scatter(x=func_cint(θ,A,0.36)-func_cext(θ,A,λ),y=δ*sin(θ),name = \"γ/λ={}\".format(round(0.36,3)), mode='lines')) \n",
    "fig.add_trace(go.Scatter(x=func_cint(θ,A,0.606)-func_cext(θ,A,λ),y=δ*sin(θ),name = \"γ/λ={}\".format(round(0.606,3)), mode='lines')) \n",
    "fig.add_trace(go.Scatter(x=func_cint(θ,A,1)-func_cext(θ,A,λ),y=δ*sin(θ),name = \"γ/λ={}\".format(round(1,3)), mode='lines')) \n",
    "\n",
    "    \n",
    "fig.add_trace(go.Scatter(x=[-0.7,0.5],y=[0,0],name = \"\", mode='lines', marker_color=\"black\",line=dict(width=1)))\n",
    "fig.add_trace(go.Scatter(x=[0,0],y=[-0.0012,0.0012],name = \"\", mode='lines', marker_color=\"black\",line=dict(width=1)))\n",
    "\n",
    "\n",
    "fig.update_xaxes(title_text='cint-cext', showgrid=True)\n",
    "fig.update_yaxes(title_text='δsenθ', showgrid=True)\n",
    "fig.update_layout(height=600, width=800, title_text=\"\")\n",
    "fig.write_image(\"images/param_pump.png\")\n",
    "    \n",
    "\n",
    "fig.show()"
   ]
  },
  {
   "cell_type": "code",
   "execution_count": null,
   "id": "rapid-chamber",
   "metadata": {
    "papermill": {
     "duration": null,
     "end_time": null,
     "exception": null,
     "start_time": null,
     "status": "completed"
    },
    "scrolled": false,
    "tags": []
   },
   "outputs": [],
   "source": [
    "fig = make_subplots(rows=10, cols=3,\n",
    "                   subplot_titles=(\"θ = -π \",\"θ = 0\", \"θ = π\"))\n",
    "\n",
    "bins = 1001\n",
    "\n",
    "n = 1\n",
    "\n",
    "for A in linspace(0,0.6,10):\n",
    "    H0 = Hoti_Hamiltonian_transport(A,-pi,0.61)\n",
    "    H1 = Hoti_Hamiltonian_transport(A,0,0.61)\n",
    "    H2 = Hoti_Hamiltonian_transport(A,pi,0.61)\n",
    "\n",
    "\n",
    "    Ek0, U0 = eigh(H0)\n",
    "    Ek0 = np.real(Ek0)\n",
    "\n",
    "    Ek1, U1 = eigh(H1)\n",
    "    Ek1 = np.real(Ek1)\n",
    "\n",
    "    Ek2, U2 = eigh(H2)\n",
    "    Ek2 = np.real(Ek2)\n",
    "\n",
    "\n",
    "    fig.add_trace(\n",
    "        go.Histogram(x=Ek0, nbinsx=bins), row=n, col=1)\n",
    "\n",
    "    fig.add_trace(\n",
    "        go.Histogram(x=Ek1, nbinsx=bins), row=n, col=2)\n",
    "\n",
    "    fig.add_trace(\n",
    "        go.Histogram(x=Ek2, nbinsx=bins), row=n, col=3)\n",
    "\n",
    "    fig.update_layout(showlegend=False,height=6*400, width=900, title_text=\"\")\n",
    "    n+=1    \n",
    "    #print(A)\n",
    "fig.update_xaxes(title_text=\"E\")\n",
    "fig.write_image(\"images/Dos_pump_paramA.png\")\n",
    "savetxt(\"Dos_pump_paramA.txt\",linspace(0,0.6,10),fmt = '%s', comments = '')\n",
    "\n",
    "fig.show()"
   ]
  },
  {
   "cell_type": "code",
   "execution_count": null,
   "id": "comfortable-audio",
   "metadata": {
    "papermill": {
     "duration": null,
     "end_time": null,
     "exception": null,
     "start_time": null,
     "status": "completed"
    },
    "tags": []
   },
   "outputs": [],
   "source": [
    "index = argsort(S0)[-4:]\n",
    "\n",
    "step = 51\n",
    "γs = linspace(0,5,step)\n",
    "θs = linspace(-pi,pi,step)\n",
    "\n",
    "M = zeros([step,step])\n",
    "\n",
    "\n",
    "for i in range(step):\n",
    "    for j in range(step):\n",
    "        H = Hoti_Hamiltonian_transport(A,θs[i],γs[j])\n",
    "        Ek, U = eigh(H)\n",
    "        Ek = np.real(Ek)\n",
    "        S = density_of_states(Ek.T,U.T)\n",
    "        M[i,j]  =  sum(S[index])/4\n",
    "        \n",
    "savetxt(\"param_pump_energy.txt\",M,fmt = '%s', comments = '')\n"
   ]
  },
  {
   "cell_type": "code",
   "execution_count": null,
   "id": "third-township",
   "metadata": {
    "papermill": {
     "duration": null,
     "end_time": null,
     "exception": null,
     "start_time": null,
     "status": "completed"
    },
    "tags": []
   },
   "outputs": [],
   "source": [
    "M = loadtxt(\"param_pump_energy.txt\",unpack=True)\n",
    "fig = go.Figure(go.Heatmap(x=θs,y=γs,z=log(M), colorscale='RdBu'))\n",
    "fig.update_layout(height=600, width=600, title_text=\"\")\n",
    "#fig.add_trace(go.Scatter(x=[0.133,0.133],y=[-pi,pi],name = \"\", mode='lines', marker_color=\"black\",line=dict(width=1)))\n",
    "#fig.add_trace(go.Scatter(x=[0.5,0.5],y=[-pi,pi],name = \"\", mode='lines', marker_color=\"black\",line=dict(width=1)))\n",
    "fig.update_xaxes(title_text='θ')\n",
    "fig.update_yaxes(title_text='γ/λ')\n",
    "fig.write_image(\"images/param_pump_energy.png\")\n",
    "fig.show()"
   ]
  },
  {
   "cell_type": "code",
   "execution_count": null,
   "id": "excellent-andrews",
   "metadata": {
    "papermill": {
     "duration": null,
     "end_time": null,
     "exception": null,
     "start_time": null,
     "status": "completed"
    },
    "tags": []
   },
   "outputs": [],
   "source": [
    "fig = go.Figure(data=[go.Surface(x=θs,y=γs,z=log(M), colorscale='RdBu')])\n",
    "\n",
    "fig.update_layout(title='', autosize=False,\n",
    "                  width=700, height=700,\n",
    "                  margin=dict(l=65, r=10, b=65, t=70))\n",
    "\n",
    "fig.show()"
   ]
  },
  {
   "cell_type": "code",
   "execution_count": null,
   "id": "casual-subscriber",
   "metadata": {
    "papermill": {
     "duration": null,
     "end_time": null,
     "exception": null,
     "start_time": null,
     "status": "completed"
    },
    "tags": []
   },
   "outputs": [],
   "source": [
    "step = 51\n",
    "γs = linspace(0,5,step)\n",
    "θs = linspace(-pi,pi,step)\n",
    "\n",
    "M = zeros([step,step])\n",
    "\n",
    "\n",
    "for i in range(step):\n",
    "    for j in range(step):\n",
    "        H = Hoti_Hamiltonian_transport(0.5,θs[i],γs[j])\n",
    "        Ek, U = eigh(H)\n",
    "        Ek = np.real(Ek)\n",
    "        M[i,j]  = min(abs(Ek))\n",
    "savetxt(\"param_pump_Density.txt\",M,fmt = '%s', comments = '')          "
   ]
  },
  {
   "cell_type": "code",
   "execution_count": null,
   "id": "included-birmingham",
   "metadata": {
    "papermill": {
     "duration": null,
     "end_time": null,
     "exception": null,
     "start_time": null,
     "status": "completed"
    },
    "tags": []
   },
   "outputs": [],
   "source": [
    "M = loadtxt(\"param_pump_Density.txt\",unpack=True)\n",
    "fig = go.Figure(go.Heatmap(x=θs,y=γs,z=M,colorscale='RdBu'))\n",
    "#fig.add_trace(go.Scatter(x=[0.133,0.133],y=[-pi,pi],name = \"\", mode='lines', marker_color=\"white\",line=dict(width=1)))\n",
    "#fig.add_trace(go.Scatter(x=[0.5,0.5],y=[-pi,pi],name = \"\", mode='lines', marker_color=\"white\",line=dict(width=1)))\n",
    "fig.update_layout(height=600, width=600, title_text=\"\")\n",
    "fig.update_xaxes(title_text='γ/λ')\n",
    "fig.update_yaxes(title_text='θ')\n",
    "fig.write_image(\"images/param_pump_Density.png\")\n",
    "fig.show()"
   ]
  },
  {
   "cell_type": "code",
   "execution_count": null,
   "id": "fantastic-frost",
   "metadata": {
    "papermill": {
     "duration": null,
     "end_time": null,
     "exception": null,
     "start_time": null,
     "status": "completed"
    },
    "tags": []
   },
   "outputs": [],
   "source": [
    "fig = go.Figure(data=[go.Surface(x=γs,y=θs,z=M, colorscale='RdBu')])\n",
    "\n",
    "fig.update_layout(title='', autosize=False,\n",
    "                  width=700, height=700,\n",
    "                  margin=dict(l=65, r=50, b=65, t=90))\n",
    "\n",
    "fig.show()"
   ]
  },
  {
   "cell_type": "code",
   "execution_count": null,
   "id": "failing-messenger",
   "metadata": {
    "papermill": {
     "duration": null,
     "end_time": null,
     "exception": null,
     "start_time": null,
     "status": "completed"
    },
    "tags": []
   },
   "outputs": [],
   "source": [
    "E_θ = []\n",
    "posx = []\n",
    "for θ in linspace(-pi,pi,50):\n",
    "    H = Hoti_Hamiltonian_transport(0.5,θ,0.6)\n",
    "    Ek, U = eigh(H)\n",
    "    Ek = np.real(Ek)\n",
    "    indexsort = argsort(Ek)\n",
    "    E_θ.append(Ek[indexsort])\n",
    "    posx.append(θ)\n",
    "E = array(E_θ)    \n",
    "savetxt(\"param_pump_A=0.5.txt\",E,fmt = '%s', comments = '')\n",
    "\n",
    "n = len(E[0])\n",
    "fig = go.Figure()\n",
    "for i in range(n):\n",
    "    if i in Est:\n",
    "        fig.add_trace(go.Scatter(x=posx,y=E.T[i], marker_color=\"red\")) \n",
    "    else:\n",
    "        fig.add_trace(go.Scatter(x=posx,y=E.T[i], marker_color=\"blue\")) \n",
    "        \n",
    "fig.update_xaxes(title_text='θ')\n",
    "fig.update_yaxes(title_text='E')\n",
    "fig.update_layout(height=600, width=600, title_text=\"\",showlegend=False)\n",
    "fig.write_image(\"images/param_pump_A=0.5.png\")\n",
    "\n",
    "fig.show()"
   ]
  },
  {
   "cell_type": "code",
   "execution_count": null,
   "id": "positive-thing",
   "metadata": {
    "papermill": {
     "duration": null,
     "end_time": null,
     "exception": null,
     "start_time": null,
     "status": "completed"
    },
    "tags": []
   },
   "outputs": [],
   "source": [
    "S0 = density_of_states(Ek0.T,U0.T)\n",
    "fig = go.Figure()\n",
    "fig.add_trace(go.Scatter(x=x, y=y,\n",
    "                    mode='markers',\n",
    "                    name='markers',\n",
    "                    marker_color='blue'    ))\n",
    "fig.add_trace(go.Scatter(\n",
    "    x=x,\n",
    "    y=y,\n",
    "    mode='markers',\n",
    "    marker=dict(size=S0*70/max(S0)),\n",
    "    marker_color='red'))\n",
    "fig.update_xaxes(showgrid=False,showticklabels=False)\n",
    "fig.update_yaxes(showgrid=False,showticklabels=False)\n",
    "fig.update_layout(showlegend=False,height=600, width=600, title_text=\"\")\n",
    "fig.write_image(\"images/poyection_4cero.png\")\n",
    "\n",
    "fig.show()"
   ]
  },
  {
   "cell_type": "code",
   "execution_count": null,
   "id": "illegal-reason",
   "metadata": {
    "papermill": {
     "duration": null,
     "end_time": null,
     "exception": null,
     "start_time": null,
     "status": "completed"
    },
    "tags": []
   },
   "outputs": [],
   "source": [
    "S_array = []\n",
    "Pi_array = linspace(-pi,pi,51)\n",
    "for θ in Pi_array:\n",
    "    H = Hoti_Hamiltonian_transport(0.5,θ,0.6)\n",
    "    Ek, U = eigh(H)\n",
    "    Ek = np.real(Ek)\n",
    "    S = density_of_states(Ek.T,U.T) \n",
    "    S_array.append(S)"
   ]
  },
  {
   "cell_type": "code",
   "execution_count": null,
   "id": "angry-pointer",
   "metadata": {
    "papermill": {
     "duration": null,
     "end_time": null,
     "exception": null,
     "start_time": null,
     "status": "completed"
    },
    "tags": []
   },
   "outputs": [],
   "source": [
    "fig = go.Figure(\n",
    "    \n",
    "    data = [go.Scatter(x=x, y=y,\n",
    "                    mode='markers',\n",
    "                    name='markers',\n",
    "                    marker=dict(color=\"blue\", size=5)),\n",
    "            go.Scatter(x=x, y=y,\n",
    "                    mode='markers',\n",
    "                    name='markers',\n",
    "                    marker=dict(color=\"blue\", size=1))\n",
    "           ],\n",
    "    \n",
    "    layout=go.Layout(\n",
    "        xaxis=dict(range=[min(x)-3, max(x)+3], autorange=False, zeroline=False,showgrid=False,showticklabels=False),\n",
    "        yaxis=dict(range=[min(y)-3, max(y)+3], autorange=False, zeroline=False,showgrid=False,showticklabels=False),\n",
    "        title_text=\"Evolution\", hovermode=\"closest\",width=600, height=600, \n",
    "        updatemenus=[dict(type=\"buttons\",\n",
    "                          buttons=[dict(label=\"Play\",\n",
    "                                        method=\"animate\",\n",
    "                                        args=[None])])]),\n",
    "    \n",
    "    frames=[go.Frame(\n",
    "        data=[go.Scatter(\n",
    "            x=x,\n",
    "            y=y,\n",
    "            mode=\"markers\",\n",
    "            marker=dict(color=\"red\", size=S_array[k]*600)),\n",
    "             ])\n",
    "\n",
    "        for k in range(len(S_array))]\n",
    "        \n",
    ")\n",
    "\n",
    "text = arange(len(S_array))\n",
    "for i, frame in enumerate(fig.frames):\n",
    "    frame.layout.title = \"pi = {}, frame: {}\".format(Pi_array[i],text[i])\n",
    "    \n",
    "fig.write_image(\"images/animated.jpg\")\n",
    "\n",
    "fig.show()"
   ]
  },
  {
   "cell_type": "code",
   "execution_count": null,
   "id": "suburban-combining",
   "metadata": {
    "papermill": {
     "duration": null,
     "end_time": null,
     "exception": null,
     "start_time": null,
     "status": "completed"
    },
    "scrolled": true,
    "tags": []
   },
   "outputs": [],
   "source": [
    "import plotly.figure_factory as ff\n",
    "Pi_array = linspace(-pi,pi,51)\n",
    "\n",
    "H0 = Hoti_Hamiltonian_transport(0.5,-pi,0.6)\n",
    "Ek0, U0 = eigh(H0)\n",
    "Ek0 = np.real(Ek0)\n",
    "s0 = density_of_states(Ek0.T,U0.T)\n",
    "n = 0\n",
    "for θ in Pi_array[1:]:\n",
    "    H1 = Hoti_Hamiltonian_transport(0.5,θ,0.6)\n",
    "    Ek1, U1 = eigh(H1)\n",
    "    Ek1 = np.real(Ek1)\n",
    "    s1 = density_of_states(Ek1.T,U1.T)\n",
    "    \n",
    "    Cx = [] \n",
    "    Cy = []\n",
    "    Cu = [] \n",
    "    Cv = []\n",
    "    for z in np.unique(f):\n",
    "        find = [j for j,val in enumerate(f) if val == z]\n",
    "        X = [x[i] for i in find]\n",
    "        Y = [y[i] for i in find]\n",
    "        S0 = [s0[i] for i in find]\n",
    "        S1 = [s1[i] for i in find]\n",
    "        xmax = np.amax(X)\n",
    "        xmin = np.amin(X)\n",
    "        ymax = np.amax(Y)\n",
    "        ymin = np.amin(Y)\n",
    "        rx = (xmax + xmin)/2\n",
    "        ry = (ymax + ymin)/2\n",
    "        Jx = vdot(subtract(S1,S0),X-rx)\n",
    "        Jy = vdot(subtract(S1,S0),Y-ry)\n",
    "        Cx.append(rx)\n",
    "        Cy.append(ry)\n",
    "        Cu.append(2000*Jx)\n",
    "        Cv.append(2000*Jy)\n",
    "    fig = go.Figure()\n",
    "    fig = ff.create_quiver(Cx, Cy, Cu, Cv,\n",
    "                       scale=1,\n",
    "                       arrow_scale=.2,\n",
    "                       line_width=2)\n",
    "    fig.add_trace(go.Scatter(x=x, y=y,\n",
    "                        mode='markers',\n",
    "                        name='markers',\n",
    "                        marker=dict(size=1, color='green'))) \n",
    "    fig.add_trace(go.Scatter(x=Cx, y=Cy,\n",
    "                        mode='markers',\n",
    "                        name='markers',\n",
    "                        marker=dict(size=2, color='blue')))\n",
    "    fig.add_trace(go.Scatter(\n",
    "        x=x,\n",
    "        y=y,\n",
    "        mode='markers',\n",
    "        marker=dict(size=s1*400, color='red')))\n",
    "    \n",
    "    fig.update_xaxes(showgrid=False,showticklabels=False,range=[min(x)-3, max(x)+3])\n",
    "    fig.update_yaxes(showgrid=False,showticklabels=False,range=[min(y)-3, max(y)+3])\n",
    "    fig.update_layout(showlegend=False, height=600, width=600, title_text=\"\")\n",
    "    fig.update_layout(showlegend=False, height=600, width=600, \n",
    "                      title_text=\"θ =  {}\".format((pi*n/51)-pi))\n",
    "    fig.write_image(\"images/video_images3/Animation_pump_{}.png\".format(n))\n",
    "    fig.show()\n",
    "    U0 = U1 \n",
    "    Ek0 = Ek1\n",
    "    s0 = s1  \n",
    "    n+=1\n"
   ]
  },
  {
   "cell_type": "markdown",
   "id": "rational-sword",
   "metadata": {
    "papermill": {
     "duration": null,
     "end_time": null,
     "exception": null,
     "start_time": null,
     "status": "completed"
    },
    "tags": []
   },
   "source": [
    "# Corriente por cuadrante"
   ]
  },
  {
   "cell_type": "markdown",
   "id": "finite-capture",
   "metadata": {
    "papermill": {
     "duration": null,
     "end_time": null,
     "exception": null,
     "start_time": null,
     "status": "completed"
    },
    "tags": []
   },
   "source": [
    "$$ R(\\nabla \\cdot J) = \\frac{d\\rho}{dt}R$$\n",
    "\n",
    "$$ R \\cdot R(\\nabla \\cdot J) = \\frac{d\\rho}{dt}R \\cdot R$$\n",
    "\n",
    "$$ \\frac{R \\cdot R}{|R|^2}(\\nabla \\cdot J_{cell}) = \\frac{d\\rho_{cell}}{dt}\\frac{R \\cdot R}{|R|^2}$$\n",
    "\n",
    "\n",
    "$$\\int J_{cell} \\cdot dA = \\int \\frac{d\\rho_{cell}}{dt} dV$$\n",
    "\n",
    "$$ J_{cell} =  \\sum_{cell} \\frac{d\\rho_{cell}}{dt}  $$"
   ]
  },
  {
   "cell_type": "code",
   "execution_count": null,
   "id": "annual-listing",
   "metadata": {
    "papermill": {
     "duration": null,
     "end_time": null,
     "exception": null,
     "start_time": null,
     "status": "completed"
    },
    "tags": []
   },
   "outputs": [],
   "source": [
    "import plotly.figure_factory as ff\n",
    "Rx = []\n",
    "Ry = []\n",
    "for γ in linspace(0,2.5,100):\n",
    "    Pi_array = linspace(-pi,pi,100)\n",
    "\n",
    "    H0 = Hoti_Hamiltonian_transport(0.5,-pi,γ)\n",
    "    Ek0, U0 = eigh(H0)\n",
    "    Ek0 = np.real(Ek0)\n",
    "    s0 = density_of_states(Ek0.T,U0.T)\n",
    "    n = 0\n",
    "    jx = []\n",
    "    jy = []\n",
    "    for θ in Pi_array[1:]:\n",
    "        H1 = Hoti_Hamiltonian_transport(0.5,θ,γ)\n",
    "        Ek1, U1 = eigh(H1)\n",
    "        Ek1 = np.real(Ek1)\n",
    "        s1 = density_of_states(Ek1.T,U1.T)\n",
    "\n",
    "        Cx = [] \n",
    "        Cy = []\n",
    "        Cu = [] \n",
    "        Cv = []\n",
    "        for z in np.unique(f):\n",
    "            find = [j for j,val in enumerate(f) if val == z]\n",
    "            X = [x[i] for i in find]\n",
    "            Y = [y[i] for i in find]\n",
    "            S0 = [s0[i] for i in find]\n",
    "            S1 = [s1[i] for i in find]\n",
    "            xmax = np.amax(X)\n",
    "            xmin = np.amin(X)\n",
    "            ymax = np.amax(Y)\n",
    "            ymin = np.amin(Y)\n",
    "            rx = (xmax + xmin)/2\n",
    "            ry = (ymax + ymin)/2\n",
    "            if (rx < 9) and (ry < 9):\n",
    "                #print(\"({},{})\".format(rx,ry))\n",
    "                Jx = vdot(subtract(S1,S0),X-rx)\n",
    "                Jy = vdot(subtract(S1,S0),Y-ry)\n",
    "                Cx.append(rx)\n",
    "                Cy.append(ry)\n",
    "                Cu.append(2000*Jx)\n",
    "                Cv.append(2000*Jy)\n",
    "\n",
    "        jx.append(sum(Cu))\n",
    "        jy.append(sum(Cv))\n",
    "        U0 = U1 \n",
    "        Ek0 = Ek1\n",
    "        s0 = s1  \n",
    "        n+=1\n",
    "    Rx.append(jx)\n",
    "    Ry.append(jy)\n",
    "\n",
    "savetxt(\"Rx.txt\",Rx,fmt = '%s', comments = '')  \n",
    "savetxt(\"Ry.txt\",Ry,fmt = '%s', comments = '')  "
   ]
  },
  {
   "cell_type": "code",
   "execution_count": null,
   "id": "phantom-hypothesis",
   "metadata": {
    "papermill": {
     "duration": null,
     "end_time": null,
     "exception": null,
     "start_time": null,
     "status": "completed"
    },
    "tags": []
   },
   "outputs": [],
   "source": [
    "Rx  = loadtxt('Rx.txt',unpack=True) \n",
    "Rx  = asmatrix(Rx.T)\n",
    "val = where(Rx == amax(Rx))[0][0]\n",
    "Xs  = linspace(-pi,pi,100)[1:]\n",
    "Ys  = linspace(0,2.5,100)\n",
    "        \n",
    "fig = go.Figure(go.Heatmap(x=Xs,y=Ys,z=Rx, colorscale=\"RdBu\"))\n",
    "#fig.add_trace(go.Scatter(x=[-pi,pi],y=[Ys[val],Ys[val]],mode='lines', marker_color=\"black\",line=dict(width=1)))\n",
    "fig.update_layout(height=600, width=600, title_text=\"\")\n",
    "fig.update_xaxes(title_text='θ')\n",
    "fig.update_yaxes(title_text='γ/λ')\n",
    "fig.write_image(\"images/param_pump_Currentx_{}.png\".format(round(val,2)))\n",
    "fig.show()"
   ]
  },
  {
   "cell_type": "code",
   "execution_count": null,
   "id": "purple-humanitarian",
   "metadata": {
    "papermill": {
     "duration": null,
     "end_time": null,
     "exception": null,
     "start_time": null,
     "status": "completed"
    },
    "tags": []
   },
   "outputs": [],
   "source": [
    "fig = go.Figure(data=[go.Surface(x=linspace(-pi,pi,100)[1:],y=linspace(0,2.5,100),z=Rx, colorscale=\"RdBu\")])\n",
    "\n",
    "fig.update_layout(title='', autosize=False,\n",
    "                  width=700, height=700,\n",
    "                  margin=dict(l=65, r=50, b=65, t=90))\n",
    "fig.write_image(\"images/param_pump_Currentx3D_{}.png\".format(round(val,2)))\n",
    "\n",
    "fig.show()"
   ]
  },
  {
   "cell_type": "code",
   "execution_count": null,
   "id": "macro-nerve",
   "metadata": {
    "papermill": {
     "duration": null,
     "end_time": null,
     "exception": null,
     "start_time": null,
     "status": "completed"
    },
    "scrolled": false,
    "tags": []
   },
   "outputs": [],
   "source": [
    "Ry = asmatrix(Ry)\n",
    "val = where(Ry == amax(Ry))[0][0]\n",
    "\n",
    "fig = go.Figure(go.Heatmap(x=linspace(-pi,pi,50)[1:],y=linspace(0,3,30),z=Ry , colorscale=\"RdBu\"))\n",
    "fig.update_layout(height=600, width=600, title_text=\"\")\n",
    "fig.update_xaxes(title_text='θ')\n",
    "fig.update_yaxes(title_text='γ/λ')\n",
    "fig.write_image(\"images/param_pump_Currenty_{}.png\".format(round(val,2)))\n",
    "fig.show()"
   ]
  },
  {
   "cell_type": "code",
   "execution_count": null,
   "id": "threatened-interface",
   "metadata": {
    "papermill": {
     "duration": null,
     "end_time": null,
     "exception": null,
     "start_time": null,
     "status": "completed"
    },
    "tags": []
   },
   "outputs": [],
   "source": []
  }
 ],
 "metadata": {
  "kernelspec": {
   "display_name": "Python 3",
   "language": "python",
   "name": "python3"
  },
  "language_info": {
   "codemirror_mode": {
    "name": "ipython",
    "version": 3
   },
   "file_extension": ".py",
   "mimetype": "text/x-python",
   "name": "python",
   "nbconvert_exporter": "python",
   "pygments_lexer": "ipython3",
   "version": "3.8.3"
  },
  "papermill": {
   "default_parameters": {},
   "duration": 0.305931,
   "end_time": "2021-02-11T23:16:17.790339",
   "environment_variables": {},
   "exception": null,
   "input_path": "Hoti_fractal_10.ipynb",
   "output_path": "Hoti_fractal_10.output.ipynb",
   "parameters": {},
   "start_time": "2021-02-11T23:16:17.484408",
   "version": "2.3.2"
  }
 },
 "nbformat": 4,
 "nbformat_minor": 5
}