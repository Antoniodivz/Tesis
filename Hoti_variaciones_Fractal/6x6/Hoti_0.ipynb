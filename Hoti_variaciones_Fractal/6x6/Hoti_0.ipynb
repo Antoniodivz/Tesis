{
 "cells": [
  {
   "cell_type": "markdown",
   "metadata": {},
   "source": [
    "# Hoti"
   ]
  },
  {
   "cell_type": "code",
   "execution_count": 4,
   "metadata": {},
   "outputs": [],
   "source": [
    "from pylab import *\n",
    "import matplotlib.pylab as plt\n",
    "from matplotlib.collections import PatchCollection\n",
    "from matplotlib.patches import Rectangle\n",
    "from matplotlib import rc\n",
    "\n",
    "\n",
    "font = {'family' : 'serif',\n",
    "        'serif': ['Computer Modern'],\n",
    "        'weight' : 'bold',\n",
    "        'size'   : 28}\n",
    "\n",
    "rc('font', **font)\n",
    "rc('text', usetex=True)"
   ]
  },
  {
   "cell_type": "code",
   "execution_count": 5,
   "metadata": {},
   "outputs": [],
   "source": [
    "import os\n",
    "\n",
    "if not os.path.exists(\"images\"):\n",
    "    os.mkdir(\"images\")\n",
    "\n",
    "if not os.path.exists(\"images/video_images\"):\n",
    "    os.mkdir(\"images/video_images\")\n",
    "    \n",
    "if not os.path.exists(\"images/video_images2\"):\n",
    "    os.mkdir(\"images/video_images2\")\n",
    "\n",
    "if not os.path.exists(\"images/video_images3\"):\n",
    "    os.mkdir(\"images/video_images3\")"
   ]
  },
  {
   "cell_type": "code",
   "execution_count": 37,
   "metadata": {
    "tags": [
     "parameters"
    ]
   },
   "outputs": [],
   "source": [
    "name_array = \"array_4x4.xyz\"\n",
    "epsi = 0.00\n",
    "nval = 1.0\n",
    "val  = 1\n",
    "cal_value = True"
   ]
  },
  {
   "cell_type": "code",
   "execution_count": 38,
   "metadata": {},
   "outputs": [],
   "source": [
    "Color_array = ['rgb(30, 150, 0)',\n",
    "              'rgb(63, 161, 0)',\n",
    "              'rgb(89, 172, 0)',\n",
    "              'rgb(113, 182, 0)',\n",
    "              'rgb(136, 193, 0)',\n",
    "              'rgb(159, 203, 0)',\n",
    "              'rgb(183, 213, 0)',\n",
    "              'rgb(206, 223, 0)',\n",
    "              'rgb(230, 233, 0)',\n",
    "              'rgb(255, 242, 0)',\n",
    "              'rgb(255, 225, 0)',\n",
    "               'rgb(255, 208, 0)',\n",
    "               'rgb(255, 190, 0)',\n",
    "               'rgb(255, 172, 0)',\n",
    "               'rgb(255, 153, 0)',\n",
    "               'rgb(255, 133, 0)',\n",
    "               'rgb(255, 112, 0)',\n",
    "               'rgb(255, 88, 0)',\n",
    "               'rgb(255, 59, 0)',\n",
    "               'rgb(255, 0, 0)']"
   ]
  },
  {
   "cell_type": "code",
   "execution_count": 39,
   "metadata": {},
   "outputs": [],
   "source": [
    "import numpy as np\n",
    "import matplotlib.pyplot as plt\n",
    "import matplotlib.collections as mcoll\n",
    "\n",
    "\n",
    "def colorline(\n",
    "        x, y, axis, z=None ,cmap='copper',\n",
    "        linewidth=3, alpha=1.0):\n",
    "    \"\"\"\n",
    "    http://nbviewer.ipython.org/github/dpsanders/matplotlib-examples/blob/master/colorline.ipynb\n",
    "    http://matplotlib.org/examples/pylab_examples/multicolored_line.html\n",
    "    Plot a colored line with coordinates x and y\n",
    "    Optionally specify colors in the array z\n",
    "    Optionally specify a colormap, a norm function and a line width\n",
    "    \"\"\"\n",
    "\n",
    "    # Default colors equally spaced on [0,1]:\n",
    "    if z is None:\n",
    "        z = np.linspace(0.0, 1.0, len(x))\n",
    "\n",
    "    # Special case if a single number:\n",
    "    # to check for numerical input -- this is a hack\n",
    "    if not hasattr(z, \"__iter__\"):\n",
    "        z = np.array([z])\n",
    "\n",
    "    z = np.asarray(z)\n",
    "\n",
    "    segments = make_segments(x, y)\n",
    "    lc = mcoll.LineCollection(segments, array=z, cmap=cmap,\n",
    "                              linewidth=linewidth, alpha=alpha)\n",
    "\n",
    "    axis.add_collection(lc)\n",
    "\n",
    "    return lc\n",
    "\n",
    "def make_segments(x, y):\n",
    "    \"\"\"\n",
    "    Create list of line segments from x and y coordinates, in the correct format\n",
    "    for LineCollection: an array of the form numlines x (points per line) x 2 (x\n",
    "    and y) array\n",
    "    \"\"\"\n",
    "\n",
    "    points = np.array([x, y]).T.reshape(-1, 1, 2)\n",
    "    segments = np.concatenate([points[:-1], points[1:]], axis=1)\n",
    "    return segments\n",
    "\n"
   ]
  },
  {
   "cell_type": "markdown",
   "metadata": {},
   "source": [
    "# Modelo finito "
   ]
  },
  {
   "cell_type": "code",
   "execution_count": 40,
   "metadata": {},
   "outputs": [],
   "source": [
    "x,y,f,d = np.loadtxt(name_array,usecols=(1,2,4,5),skiprows=2,unpack=True)\n",
    "ind = np.argsort(f)\n",
    "#x,y,f = xd[ind], yd[ind], fd[ind]"
   ]
  },
  {
   "cell_type": "code",
   "execution_count": 49,
   "metadata": {},
   "outputs": [
    {
     "data": {
      "text/plain": [
       "array([0., 1., 2., 3., 0., 1., 2., 3., 0., 1., 2., 3., 0., 1., 2., 3.])"
      ]
     },
     "execution_count": 49,
     "metadata": {},
     "output_type": "execute_result"
    }
   ],
   "source": [
    "x"
   ]
  },
  {
   "cell_type": "code",
   "execution_count": 42,
   "metadata": {},
   "outputs": [],
   "source": [
    "r = 1.1\n",
    "Dic = {}\n",
    "natoms = int( len(x) )\n",
    "for n in range(natoms):\n",
    "    a = sqrt( (x[n]-x)*(x[n]-x) + (y[n]-y)*(y[n]-y) ) < r \n",
    "    vecinos = [i for i, x in enumerate(a) if x and i!=n]\n",
    "    Dic[n] = vecinos"
   ]
  },
  {
   "cell_type": "code",
   "execution_count": 43,
   "metadata": {},
   "outputs": [],
   "source": [
    "r = max(x) - 0.1\n",
    "Dic_furtherx = {}\n",
    "Dic_furthery = {}\n",
    "for n in range(natoms):\n",
    "    a = sqrt( (x[n]-x)*(x[n]-x) + (y[n]-y)*(y[n]-y) ) > r\n",
    "    vecinosx = [i for i, j in enumerate(a) if j and (x[n]==x[i])]\n",
    "    vecinosy = [i for i, j in enumerate(a) if j and (y[n]==y[i])]\n",
    "    Dic_furtherx[n] = vecinosx\n",
    "    Dic_furthery[n] = vecinosy"
   ]
  },
  {
   "cell_type": "code",
   "execution_count": 44,
   "metadata": {},
   "outputs": [],
   "source": [
    "#random matrix\n",
    "M_rand = rand(natoms,natoms)\n",
    "M_rand = (M_rand + M_rand.T)/2\n",
    "M_mins = diag(ones(natoms))\n",
    "\n",
    "M_rand = M_rand - M_mins*M_rand"
   ]
  },
  {
   "cell_type": "code",
   "execution_count": 54,
   "metadata": {},
   "outputs": [],
   "source": [
    "def Hoti_Hamiltonian(γ, λ, ϵ=epsi,δ=1e-3, natoms=natoms, M_rand=M_rand, conection=False,cn='x'):\n",
    "    H = np.zeros((natoms,natoms), dtype = 'complex')\n",
    "    Hop = {}\n",
    "    a = exp(-1J*pi)\n",
    "    \n",
    "    for n in Dic.keys():\n",
    "        vecinos = Dic[n]\n",
    "        hop = []\n",
    "        for v in vecinos:\n",
    "            f0 = f[n]\n",
    "            f1 = f[v]\n",
    "            \n",
    "            if f0 == f1:\n",
    "                fase = γ\n",
    "            else: \n",
    "                fase = λ\n",
    "            \n",
    "            H[n,v] = fase \n",
    "            H[v,n] = fase \n",
    "            \n",
    "            \n",
    "            hop.append(fase)\n",
    "        Hop[n] = hop\n",
    "\n",
    "    f0 = 0\n",
    "    f1 = 0\n",
    "    fase = 1\n",
    "    for n in Dic.keys():\n",
    "        vecinos = Dic[n]\n",
    "        for v in vecinos:\n",
    "            posx     = x[n]\n",
    "            posy     = y[n]\n",
    "            f0       = f[n]\n",
    "            f1       = f[v] \n",
    "            if f0 == f1:\n",
    "                fase = γ\n",
    "            else: \n",
    "                fase = λ\n",
    "\n",
    "            #if ( posx%2==0 and posy%2==0  ):\n",
    "             #   if ( x[v] > x[n] ):\n",
    "             #       H[n,v] = a*fase \n",
    "              #      H[v,n] = a*fase \n",
    "            #elif(posx%2==1 and posy%2==1):\n",
    "             #   if ( x[v] > x[n] ):\n",
    "              #      H[n,v] = a*fase \n",
    "               #     H[v,n] = a*fase \n",
    "            #else:\n",
    "             #   pass\n",
    "                \n",
    "                \n",
    "            if ( posy%2==0  ):\n",
    "                  if ( x[v] > x[n] ):\n",
    "                    H[n,v] = a*fase \n",
    "                    H[v,n] = a*fase \n",
    "            #elif(posx%2==1 and posy%2==1):\n",
    "               # if ( x[v] > x[n] ):\n",
    "              #      H[n,v] = a*fase \n",
    "             #       H[v,n] = a*fase \n",
    "            else:\n",
    "                pass\n",
    "    \n",
    "    if conection : \n",
    "    \n",
    "        if cn == 'y':\n",
    "\n",
    "            for n in Dic_furtherx.keys():\n",
    "                vecinos = Dic_furtherx[n]\n",
    "                for v in vecinos:\n",
    "                    posx   = x[n]\n",
    "                    posy   = y[n]\n",
    "                    fase   = λ\n",
    "                    H[n,v] = fase \n",
    "                    H[v,n] = fase \n",
    "\n",
    "                    if(posy%2==0):\n",
    "                        if ( x[v] < x[n] ):\n",
    "                            H[n,v] = a*fase \n",
    "                            H[v,n] = a*fase \n",
    "                    else:\n",
    "                        pass\n",
    "        if cn == 'x':\n",
    "\n",
    "            for n in Dic_furthery.keys():\n",
    "                vecinos = Dic_furthery[n]\n",
    "                for v in vecinos:\n",
    "                    posx   = x[n]\n",
    "                    posy   = y[n]\n",
    "                    fase   = λ\n",
    "                    H[n,v] = fase \n",
    "                    H[v,n] = fase \n",
    "\n",
    "                    if(posy%2==0):\n",
    "                        if ( x[v] < x[n] ):\n",
    "                            H[n,v] = a*fase \n",
    "                            H[v,n] = a*fase \n",
    "                    else:\n",
    "                        pass\n",
    "                    \n",
    "            \n",
    "                \n",
    "    H_delta = δ*array(d)\n",
    "    H_delta = diag(resize(H_delta,natoms), k=0)\n",
    "    #print(H_delta)\n",
    "    if ϵ > 0.0:\n",
    "        H_rand = H * ϵ * M_rand \n",
    "        return H + H_rand + H_delta\n",
    "    else:    \n",
    "        return H + H_delta\n",
    "    #print(H)"
   ]
  },
  {
   "cell_type": "code",
   "execution_count": 55,
   "metadata": {},
   "outputs": [],
   "source": [
    "H0 = Hoti_Hamiltonian(1.0, 5.0,conection=True, cn='x')\n",
    "H1 = Hoti_Hamiltonian(1.0, 5.0, conection=True, cn='y')\n",
    "H2 = Hoti_Hamiltonian(5.0, 1.0)#, conection=True)\n",
    "\n",
    "np.savetxt('halmitonian0.txt',H0)\n",
    "np.savetxt('halmitonian1.txt',H1)\n",
    "np.savetxt('halmitonian2.txt',H2)"
   ]
  },
  {
   "cell_type": "code",
   "execution_count": 56,
   "metadata": {},
   "outputs": [],
   "source": [
    "Ek0, U0 = eigh(H0)\n",
    "Ek0 = np.real(Ek0)\n",
    "\n",
    "Ek1, U1 = eigh(H1)\n",
    "Ek1 = np.real(Ek1)\n",
    "\n",
    "Ek2, U2 = eigh(H2)\n",
    "Ek2 = np.real(Ek2)\n",
    "\n",
    "\n",
    "savetxt(\"Energias0.txt\",Ek0,fmt = '%s', comments = '')\n",
    "savetxt(\"Estados0.txt\",U0,fmt = '%s', comments = '')\n",
    "\n",
    "savetxt(\"Energias1.txt\",Ek1,fmt = '%s', comments = '')\n",
    "savetxt(\"Estados1.txt\",U1,fmt = '%s', comments = '')\n",
    "\n",
    "savetxt(\"Energias2.txt\",Ek2,fmt = '%s', comments = '')\n",
    "savetxt(\"Estados2.txt\",U2,fmt = '%s', comments = '')"
   ]
  },
  {
   "cell_type": "code",
   "execution_count": 57,
   "metadata": {},
   "outputs": [
    {
     "data": {
      "application/vnd.plotly.v1+json": {
       "config": {
        "plotlyServerURL": "https://plot.ly"
       },
       "data": [
        {
         "coloraxis": "coloraxis",
         "type": "heatmap",
         "xaxis": "x",
         "yaxis": "y",
         "z": [
          [
           0.001,
           -1,
           0,
           -5,
           1,
           0,
           0,
           0,
           0,
           0,
           0,
           0,
           0,
           0,
           0,
           0
          ],
          [
           -1,
           -0.001,
           -5,
           0,
           0,
           1,
           0,
           0,
           0,
           0,
           0,
           0,
           0,
           0,
           0,
           0
          ],
          [
           0,
           -5,
           0.001,
           -1,
           0,
           0,
           1,
           0,
           0,
           0,
           0,
           0,
           0,
           0,
           0,
           0
          ],
          [
           -5,
           0,
           -1,
           -0.001,
           0,
           0,
           0,
           1,
           0,
           0,
           0,
           0,
           0,
           0,
           0,
           0
          ],
          [
           1,
           0,
           0,
           0,
           -0.001,
           1,
           0,
           5,
           5,
           0,
           0,
           0,
           0,
           0,
           0,
           0
          ],
          [
           0,
           1,
           0,
           0,
           1,
           0.001,
           5,
           0,
           0,
           5,
           0,
           0,
           0,
           0,
           0,
           0
          ],
          [
           0,
           0,
           1,
           0,
           0,
           5,
           -0.001,
           1,
           0,
           0,
           5,
           0,
           0,
           0,
           0,
           0
          ],
          [
           0,
           0,
           0,
           1,
           5,
           0,
           1,
           0.001,
           0,
           0,
           0,
           5,
           0,
           0,
           0,
           0
          ],
          [
           0,
           0,
           0,
           0,
           5,
           0,
           0,
           0,
           0.001,
           -1,
           0,
           -5,
           1,
           0,
           0,
           0
          ],
          [
           0,
           0,
           0,
           0,
           0,
           5,
           0,
           0,
           -1,
           -0.001,
           -5,
           0,
           0,
           1,
           0,
           0
          ],
          [
           0,
           0,
           0,
           0,
           0,
           0,
           5,
           0,
           0,
           -5,
           0.001,
           -1,
           0,
           0,
           1,
           0
          ],
          [
           0,
           0,
           0,
           0,
           0,
           0,
           0,
           5,
           -5,
           0,
           -1,
           -0.001,
           0,
           0,
           0,
           1
          ],
          [
           0,
           0,
           0,
           0,
           0,
           0,
           0,
           0,
           1,
           0,
           0,
           0,
           -0.001,
           1,
           0,
           5
          ],
          [
           0,
           0,
           0,
           0,
           0,
           0,
           0,
           0,
           0,
           1,
           0,
           0,
           1,
           0.001,
           5,
           0
          ],
          [
           0,
           0,
           0,
           0,
           0,
           0,
           0,
           0,
           0,
           0,
           1,
           0,
           0,
           5,
           -0.001,
           1
          ],
          [
           0,
           0,
           0,
           0,
           0,
           0,
           0,
           0,
           0,
           0,
           0,
           1,
           5,
           0,
           1,
           0.001
          ]
         ]
        },
        {
         "coloraxis": "coloraxis",
         "type": "heatmap",
         "xaxis": "x2",
         "yaxis": "y2",
         "z": [
          [
           0.001,
           -1,
           0,
           0,
           1,
           0,
           0,
           0,
           0,
           0,
           0,
           0,
           5,
           0,
           0,
           0
          ],
          [
           -1,
           -0.001,
           -5,
           0,
           0,
           1,
           0,
           0,
           0,
           0,
           0,
           0,
           0,
           5,
           0,
           0
          ],
          [
           0,
           -5,
           0.001,
           -1,
           0,
           0,
           1,
           0,
           0,
           0,
           0,
           0,
           0,
           0,
           5,
           0
          ],
          [
           0,
           0,
           -1,
           -0.001,
           0,
           0,
           0,
           1,
           0,
           0,
           0,
           0,
           0,
           0,
           0,
           5
          ],
          [
           1,
           0,
           0,
           0,
           -0.001,
           1,
           0,
           0,
           5,
           0,
           0,
           0,
           0,
           0,
           0,
           0
          ],
          [
           0,
           1,
           0,
           0,
           1,
           0.001,
           5,
           0,
           0,
           5,
           0,
           0,
           0,
           0,
           0,
           0
          ],
          [
           0,
           0,
           1,
           0,
           0,
           5,
           -0.001,
           1,
           0,
           0,
           5,
           0,
           0,
           0,
           0,
           0
          ],
          [
           0,
           0,
           0,
           1,
           0,
           0,
           1,
           0.001,
           0,
           0,
           0,
           5,
           0,
           0,
           0,
           0
          ],
          [
           0,
           0,
           0,
           0,
           5,
           0,
           0,
           0,
           0.001,
           -1,
           0,
           0,
           1,
           0,
           0,
           0
          ],
          [
           0,
           0,
           0,
           0,
           0,
           5,
           0,
           0,
           -1,
           -0.001,
           -5,
           0,
           0,
           1,
           0,
           0
          ],
          [
           0,
           0,
           0,
           0,
           0,
           0,
           5,
           0,
           0,
           -5,
           0.001,
           -1,
           0,
           0,
           1,
           0
          ],
          [
           0,
           0,
           0,
           0,
           0,
           0,
           0,
           5,
           0,
           0,
           -1,
           -0.001,
           0,
           0,
           0,
           1
          ],
          [
           5,
           0,
           0,
           0,
           0,
           0,
           0,
           0,
           1,
           0,
           0,
           0,
           -0.001,
           1,
           0,
           0
          ],
          [
           0,
           5,
           0,
           0,
           0,
           0,
           0,
           0,
           0,
           1,
           0,
           0,
           1,
           0.001,
           5,
           0
          ],
          [
           0,
           0,
           5,
           0,
           0,
           0,
           0,
           0,
           0,
           0,
           1,
           0,
           0,
           5,
           -0.001,
           1
          ],
          [
           0,
           0,
           0,
           5,
           0,
           0,
           0,
           0,
           0,
           0,
           0,
           1,
           0,
           0,
           1,
           0.001
          ]
         ]
        },
        {
         "coloraxis": "coloraxis",
         "type": "heatmap",
         "xaxis": "x3",
         "yaxis": "y3",
         "z": [
          [
           0.001,
           -5,
           0,
           0,
           5,
           0,
           0,
           0,
           0,
           0,
           0,
           0,
           0,
           0,
           0,
           0
          ],
          [
           -5,
           -0.001,
           -1,
           0,
           0,
           5,
           0,
           0,
           0,
           0,
           0,
           0,
           0,
           0,
           0,
           0
          ],
          [
           0,
           -1,
           0.001,
           -5,
           0,
           0,
           5,
           0,
           0,
           0,
           0,
           0,
           0,
           0,
           0,
           0
          ],
          [
           0,
           0,
           -5,
           -0.001,
           0,
           0,
           0,
           5,
           0,
           0,
           0,
           0,
           0,
           0,
           0,
           0
          ],
          [
           5,
           0,
           0,
           0,
           -0.001,
           5,
           0,
           0,
           1,
           0,
           0,
           0,
           0,
           0,
           0,
           0
          ],
          [
           0,
           5,
           0,
           0,
           5,
           0.001,
           1,
           0,
           0,
           1,
           0,
           0,
           0,
           0,
           0,
           0
          ],
          [
           0,
           0,
           5,
           0,
           0,
           1,
           -0.001,
           5,
           0,
           0,
           1,
           0,
           0,
           0,
           0,
           0
          ],
          [
           0,
           0,
           0,
           5,
           0,
           0,
           5,
           0.001,
           0,
           0,
           0,
           1,
           0,
           0,
           0,
           0
          ],
          [
           0,
           0,
           0,
           0,
           1,
           0,
           0,
           0,
           0.001,
           -5,
           0,
           0,
           5,
           0,
           0,
           0
          ],
          [
           0,
           0,
           0,
           0,
           0,
           1,
           0,
           0,
           -5,
           -0.001,
           -1,
           0,
           0,
           5,
           0,
           0
          ],
          [
           0,
           0,
           0,
           0,
           0,
           0,
           1,
           0,
           0,
           -1,
           0.001,
           -5,
           0,
           0,
           5,
           0
          ],
          [
           0,
           0,
           0,
           0,
           0,
           0,
           0,
           1,
           0,
           0,
           -5,
           -0.001,
           0,
           0,
           0,
           5
          ],
          [
           0,
           0,
           0,
           0,
           0,
           0,
           0,
           0,
           5,
           0,
           0,
           0,
           -0.001,
           5,
           0,
           0
          ],
          [
           0,
           0,
           0,
           0,
           0,
           0,
           0,
           0,
           0,
           5,
           0,
           0,
           5,
           0.001,
           1,
           0
          ],
          [
           0,
           0,
           0,
           0,
           0,
           0,
           0,
           0,
           0,
           0,
           5,
           0,
           0,
           1,
           -0.001,
           5
          ],
          [
           0,
           0,
           0,
           0,
           0,
           0,
           0,
           0,
           0,
           0,
           0,
           5,
           0,
           0,
           5,
           0.001
          ]
         ]
        }
       ],
       "layout": {
        "annotations": [
         {
          "font": {
           "size": 16
          },
          "showarrow": false,
          "text": "γ/λ < 1 ",
          "x": 0.14444444444444446,
          "xanchor": "center",
          "xref": "paper",
          "y": 1,
          "yanchor": "bottom",
          "yref": "paper"
         },
         {
          "font": {
           "size": 16
          },
          "showarrow": false,
          "text": "γ/λ = 1",
          "x": 0.5,
          "xanchor": "center",
          "xref": "paper",
          "y": 1,
          "yanchor": "bottom",
          "yref": "paper"
         },
         {
          "font": {
           "size": 16
          },
          "showarrow": false,
          "text": "γ/λ > 1",
          "x": 0.8555555555555556,
          "xanchor": "center",
          "xref": "paper",
          "y": 1,
          "yanchor": "bottom",
          "yref": "paper"
         }
        ],
        "coloraxis": {
         "colorscale": [
          [
           0,
           "rgb(103,0,31)"
          ],
          [
           0.1,
           "rgb(178,24,43)"
          ],
          [
           0.2,
           "rgb(214,96,77)"
          ],
          [
           0.3,
           "rgb(244,165,130)"
          ],
          [
           0.4,
           "rgb(253,219,199)"
          ],
          [
           0.5,
           "rgb(247,247,247)"
          ],
          [
           0.6,
           "rgb(209,229,240)"
          ],
          [
           0.7,
           "rgb(146,197,222)"
          ],
          [
           0.8,
           "rgb(67,147,195)"
          ],
          [
           0.9,
           "rgb(33,102,172)"
          ],
          [
           1,
           "rgb(5,48,97)"
          ]
         ]
        },
        "height": 400,
        "showlegend": false,
        "template": {
         "data": {
          "bar": [
           {
            "error_x": {
             "color": "#2a3f5f"
            },
            "error_y": {
             "color": "#2a3f5f"
            },
            "marker": {
             "line": {
              "color": "#E5ECF6",
              "width": 0.5
             },
             "pattern": {
              "fillmode": "overlay",
              "size": 10,
              "solidity": 0.2
             }
            },
            "type": "bar"
           }
          ],
          "barpolar": [
           {
            "marker": {
             "line": {
              "color": "#E5ECF6",
              "width": 0.5
             },
             "pattern": {
              "fillmode": "overlay",
              "size": 10,
              "solidity": 0.2
             }
            },
            "type": "barpolar"
           }
          ],
          "carpet": [
           {
            "aaxis": {
             "endlinecolor": "#2a3f5f",
             "gridcolor": "white",
             "linecolor": "white",
             "minorgridcolor": "white",
             "startlinecolor": "#2a3f5f"
            },
            "baxis": {
             "endlinecolor": "#2a3f5f",
             "gridcolor": "white",
             "linecolor": "white",
             "minorgridcolor": "white",
             "startlinecolor": "#2a3f5f"
            },
            "type": "carpet"
           }
          ],
          "choropleth": [
           {
            "colorbar": {
             "outlinewidth": 0,
             "ticks": ""
            },
            "type": "choropleth"
           }
          ],
          "contour": [
           {
            "colorbar": {
             "outlinewidth": 0,
             "ticks": ""
            },
            "colorscale": [
             [
              0,
              "#0d0887"
             ],
             [
              0.1111111111111111,
              "#46039f"
             ],
             [
              0.2222222222222222,
              "#7201a8"
             ],
             [
              0.3333333333333333,
              "#9c179e"
             ],
             [
              0.4444444444444444,
              "#bd3786"
             ],
             [
              0.5555555555555556,
              "#d8576b"
             ],
             [
              0.6666666666666666,
              "#ed7953"
             ],
             [
              0.7777777777777778,
              "#fb9f3a"
             ],
             [
              0.8888888888888888,
              "#fdca26"
             ],
             [
              1,
              "#f0f921"
             ]
            ],
            "type": "contour"
           }
          ],
          "contourcarpet": [
           {
            "colorbar": {
             "outlinewidth": 0,
             "ticks": ""
            },
            "type": "contourcarpet"
           }
          ],
          "heatmap": [
           {
            "colorbar": {
             "outlinewidth": 0,
             "ticks": ""
            },
            "colorscale": [
             [
              0,
              "#0d0887"
             ],
             [
              0.1111111111111111,
              "#46039f"
             ],
             [
              0.2222222222222222,
              "#7201a8"
             ],
             [
              0.3333333333333333,
              "#9c179e"
             ],
             [
              0.4444444444444444,
              "#bd3786"
             ],
             [
              0.5555555555555556,
              "#d8576b"
             ],
             [
              0.6666666666666666,
              "#ed7953"
             ],
             [
              0.7777777777777778,
              "#fb9f3a"
             ],
             [
              0.8888888888888888,
              "#fdca26"
             ],
             [
              1,
              "#f0f921"
             ]
            ],
            "type": "heatmap"
           }
          ],
          "heatmapgl": [
           {
            "colorbar": {
             "outlinewidth": 0,
             "ticks": ""
            },
            "colorscale": [
             [
              0,
              "#0d0887"
             ],
             [
              0.1111111111111111,
              "#46039f"
             ],
             [
              0.2222222222222222,
              "#7201a8"
             ],
             [
              0.3333333333333333,
              "#9c179e"
             ],
             [
              0.4444444444444444,
              "#bd3786"
             ],
             [
              0.5555555555555556,
              "#d8576b"
             ],
             [
              0.6666666666666666,
              "#ed7953"
             ],
             [
              0.7777777777777778,
              "#fb9f3a"
             ],
             [
              0.8888888888888888,
              "#fdca26"
             ],
             [
              1,
              "#f0f921"
             ]
            ],
            "type": "heatmapgl"
           }
          ],
          "histogram": [
           {
            "marker": {
             "pattern": {
              "fillmode": "overlay",
              "size": 10,
              "solidity": 0.2
             }
            },
            "type": "histogram"
           }
          ],
          "histogram2d": [
           {
            "colorbar": {
             "outlinewidth": 0,
             "ticks": ""
            },
            "colorscale": [
             [
              0,
              "#0d0887"
             ],
             [
              0.1111111111111111,
              "#46039f"
             ],
             [
              0.2222222222222222,
              "#7201a8"
             ],
             [
              0.3333333333333333,
              "#9c179e"
             ],
             [
              0.4444444444444444,
              "#bd3786"
             ],
             [
              0.5555555555555556,
              "#d8576b"
             ],
             [
              0.6666666666666666,
              "#ed7953"
             ],
             [
              0.7777777777777778,
              "#fb9f3a"
             ],
             [
              0.8888888888888888,
              "#fdca26"
             ],
             [
              1,
              "#f0f921"
             ]
            ],
            "type": "histogram2d"
           }
          ],
          "histogram2dcontour": [
           {
            "colorbar": {
             "outlinewidth": 0,
             "ticks": ""
            },
            "colorscale": [
             [
              0,
              "#0d0887"
             ],
             [
              0.1111111111111111,
              "#46039f"
             ],
             [
              0.2222222222222222,
              "#7201a8"
             ],
             [
              0.3333333333333333,
              "#9c179e"
             ],
             [
              0.4444444444444444,
              "#bd3786"
             ],
             [
              0.5555555555555556,
              "#d8576b"
             ],
             [
              0.6666666666666666,
              "#ed7953"
             ],
             [
              0.7777777777777778,
              "#fb9f3a"
             ],
             [
              0.8888888888888888,
              "#fdca26"
             ],
             [
              1,
              "#f0f921"
             ]
            ],
            "type": "histogram2dcontour"
           }
          ],
          "mesh3d": [
           {
            "colorbar": {
             "outlinewidth": 0,
             "ticks": ""
            },
            "type": "mesh3d"
           }
          ],
          "parcoords": [
           {
            "line": {
             "colorbar": {
              "outlinewidth": 0,
              "ticks": ""
             }
            },
            "type": "parcoords"
           }
          ],
          "pie": [
           {
            "automargin": true,
            "type": "pie"
           }
          ],
          "scatter": [
           {
            "marker": {
             "colorbar": {
              "outlinewidth": 0,
              "ticks": ""
             }
            },
            "type": "scatter"
           }
          ],
          "scatter3d": [
           {
            "line": {
             "colorbar": {
              "outlinewidth": 0,
              "ticks": ""
             }
            },
            "marker": {
             "colorbar": {
              "outlinewidth": 0,
              "ticks": ""
             }
            },
            "type": "scatter3d"
           }
          ],
          "scattercarpet": [
           {
            "marker": {
             "colorbar": {
              "outlinewidth": 0,
              "ticks": ""
             }
            },
            "type": "scattercarpet"
           }
          ],
          "scattergeo": [
           {
            "marker": {
             "colorbar": {
              "outlinewidth": 0,
              "ticks": ""
             }
            },
            "type": "scattergeo"
           }
          ],
          "scattergl": [
           {
            "marker": {
             "colorbar": {
              "outlinewidth": 0,
              "ticks": ""
             }
            },
            "type": "scattergl"
           }
          ],
          "scattermapbox": [
           {
            "marker": {
             "colorbar": {
              "outlinewidth": 0,
              "ticks": ""
             }
            },
            "type": "scattermapbox"
           }
          ],
          "scatterpolar": [
           {
            "marker": {
             "colorbar": {
              "outlinewidth": 0,
              "ticks": ""
             }
            },
            "type": "scatterpolar"
           }
          ],
          "scatterpolargl": [
           {
            "marker": {
             "colorbar": {
              "outlinewidth": 0,
              "ticks": ""
             }
            },
            "type": "scatterpolargl"
           }
          ],
          "scatterternary": [
           {
            "marker": {
             "colorbar": {
              "outlinewidth": 0,
              "ticks": ""
             }
            },
            "type": "scatterternary"
           }
          ],
          "surface": [
           {
            "colorbar": {
             "outlinewidth": 0,
             "ticks": ""
            },
            "colorscale": [
             [
              0,
              "#0d0887"
             ],
             [
              0.1111111111111111,
              "#46039f"
             ],
             [
              0.2222222222222222,
              "#7201a8"
             ],
             [
              0.3333333333333333,
              "#9c179e"
             ],
             [
              0.4444444444444444,
              "#bd3786"
             ],
             [
              0.5555555555555556,
              "#d8576b"
             ],
             [
              0.6666666666666666,
              "#ed7953"
             ],
             [
              0.7777777777777778,
              "#fb9f3a"
             ],
             [
              0.8888888888888888,
              "#fdca26"
             ],
             [
              1,
              "#f0f921"
             ]
            ],
            "type": "surface"
           }
          ],
          "table": [
           {
            "cells": {
             "fill": {
              "color": "#EBF0F8"
             },
             "line": {
              "color": "white"
             }
            },
            "header": {
             "fill": {
              "color": "#C8D4E3"
             },
             "line": {
              "color": "white"
             }
            },
            "type": "table"
           }
          ]
         },
         "layout": {
          "annotationdefaults": {
           "arrowcolor": "#2a3f5f",
           "arrowhead": 0,
           "arrowwidth": 1
          },
          "autotypenumbers": "strict",
          "coloraxis": {
           "colorbar": {
            "outlinewidth": 0,
            "ticks": ""
           }
          },
          "colorscale": {
           "diverging": [
            [
             0,
             "#8e0152"
            ],
            [
             0.1,
             "#c51b7d"
            ],
            [
             0.2,
             "#de77ae"
            ],
            [
             0.3,
             "#f1b6da"
            ],
            [
             0.4,
             "#fde0ef"
            ],
            [
             0.5,
             "#f7f7f7"
            ],
            [
             0.6,
             "#e6f5d0"
            ],
            [
             0.7,
             "#b8e186"
            ],
            [
             0.8,
             "#7fbc41"
            ],
            [
             0.9,
             "#4d9221"
            ],
            [
             1,
             "#276419"
            ]
           ],
           "sequential": [
            [
             0,
             "#0d0887"
            ],
            [
             0.1111111111111111,
             "#46039f"
            ],
            [
             0.2222222222222222,
             "#7201a8"
            ],
            [
             0.3333333333333333,
             "#9c179e"
            ],
            [
             0.4444444444444444,
             "#bd3786"
            ],
            [
             0.5555555555555556,
             "#d8576b"
            ],
            [
             0.6666666666666666,
             "#ed7953"
            ],
            [
             0.7777777777777778,
             "#fb9f3a"
            ],
            [
             0.8888888888888888,
             "#fdca26"
            ],
            [
             1,
             "#f0f921"
            ]
           ],
           "sequentialminus": [
            [
             0,
             "#0d0887"
            ],
            [
             0.1111111111111111,
             "#46039f"
            ],
            [
             0.2222222222222222,
             "#7201a8"
            ],
            [
             0.3333333333333333,
             "#9c179e"
            ],
            [
             0.4444444444444444,
             "#bd3786"
            ],
            [
             0.5555555555555556,
             "#d8576b"
            ],
            [
             0.6666666666666666,
             "#ed7953"
            ],
            [
             0.7777777777777778,
             "#fb9f3a"
            ],
            [
             0.8888888888888888,
             "#fdca26"
            ],
            [
             1,
             "#f0f921"
            ]
           ]
          },
          "colorway": [
           "#636efa",
           "#EF553B",
           "#00cc96",
           "#ab63fa",
           "#FFA15A",
           "#19d3f3",
           "#FF6692",
           "#B6E880",
           "#FF97FF",
           "#FECB52"
          ],
          "font": {
           "color": "#2a3f5f"
          },
          "geo": {
           "bgcolor": "white",
           "lakecolor": "white",
           "landcolor": "#E5ECF6",
           "showlakes": true,
           "showland": true,
           "subunitcolor": "white"
          },
          "hoverlabel": {
           "align": "left"
          },
          "hovermode": "closest",
          "mapbox": {
           "style": "light"
          },
          "paper_bgcolor": "white",
          "plot_bgcolor": "#E5ECF6",
          "polar": {
           "angularaxis": {
            "gridcolor": "white",
            "linecolor": "white",
            "ticks": ""
           },
           "bgcolor": "#E5ECF6",
           "radialaxis": {
            "gridcolor": "white",
            "linecolor": "white",
            "ticks": ""
           }
          },
          "scene": {
           "xaxis": {
            "backgroundcolor": "#E5ECF6",
            "gridcolor": "white",
            "gridwidth": 2,
            "linecolor": "white",
            "showbackground": true,
            "ticks": "",
            "zerolinecolor": "white"
           },
           "yaxis": {
            "backgroundcolor": "#E5ECF6",
            "gridcolor": "white",
            "gridwidth": 2,
            "linecolor": "white",
            "showbackground": true,
            "ticks": "",
            "zerolinecolor": "white"
           },
           "zaxis": {
            "backgroundcolor": "#E5ECF6",
            "gridcolor": "white",
            "gridwidth": 2,
            "linecolor": "white",
            "showbackground": true,
            "ticks": "",
            "zerolinecolor": "white"
           }
          },
          "shapedefaults": {
           "line": {
            "color": "#2a3f5f"
           }
          },
          "ternary": {
           "aaxis": {
            "gridcolor": "white",
            "linecolor": "white",
            "ticks": ""
           },
           "baxis": {
            "gridcolor": "white",
            "linecolor": "white",
            "ticks": ""
           },
           "bgcolor": "#E5ECF6",
           "caxis": {
            "gridcolor": "white",
            "linecolor": "white",
            "ticks": ""
           }
          },
          "title": {
           "x": 0.05
          },
          "xaxis": {
           "automargin": true,
           "gridcolor": "white",
           "linecolor": "white",
           "ticks": "",
           "title": {
            "standoff": 15
           },
           "zerolinecolor": "white",
           "zerolinewidth": 2
          },
          "yaxis": {
           "automargin": true,
           "gridcolor": "white",
           "linecolor": "white",
           "ticks": "",
           "title": {
            "standoff": 15
           },
           "zerolinecolor": "white",
           "zerolinewidth": 2
          }
         }
        },
        "title": {
         "text": ""
        },
        "width": 900,
        "xaxis": {
         "anchor": "y",
         "domain": [
          0,
          0.2888888888888889
         ],
         "showgrid": false,
         "showticklabels": false
        },
        "xaxis2": {
         "anchor": "y2",
         "domain": [
          0.35555555555555557,
          0.6444444444444445
         ],
         "showgrid": false,
         "showticklabels": false
        },
        "xaxis3": {
         "anchor": "y3",
         "domain": [
          0.7111111111111111,
          1
         ],
         "showgrid": false,
         "showticklabels": false
        },
        "yaxis": {
         "anchor": "x",
         "domain": [
          0,
          1
         ],
         "showgrid": false,
         "showticklabels": false
        },
        "yaxis2": {
         "anchor": "x2",
         "domain": [
          0,
          1
         ],
         "showgrid": false,
         "showticklabels": false
        },
        "yaxis3": {
         "anchor": "x3",
         "domain": [
          0,
          1
         ],
         "showgrid": false,
         "showticklabels": false
        }
       }
      },
      "text/html": [
       "<div>                            <div id=\"71d6ff4d-b80a-46e6-8fe2-a6980630f542\" class=\"plotly-graph-div\" style=\"height:400px; width:900px;\"></div>            <script type=\"text/javascript\">                require([\"plotly\"], function(Plotly) {                    window.PLOTLYENV=window.PLOTLYENV || {};                                    if (document.getElementById(\"71d6ff4d-b80a-46e6-8fe2-a6980630f542\")) {                    Plotly.newPlot(                        \"71d6ff4d-b80a-46e6-8fe2-a6980630f542\",                        [{\"coloraxis\":\"coloraxis\",\"z\":[[0.001,-1.0,0.0,-5.0,1.0,0.0,0.0,0.0,0.0,0.0,0.0,0.0,0.0,0.0,0.0,0.0],[-1.0,-0.001,-5.0,0.0,0.0,1.0,0.0,0.0,0.0,0.0,0.0,0.0,0.0,0.0,0.0,0.0],[0.0,-5.0,0.001,-1.0,0.0,0.0,1.0,0.0,0.0,0.0,0.0,0.0,0.0,0.0,0.0,0.0],[-5.0,0.0,-1.0,-0.001,0.0,0.0,0.0,1.0,0.0,0.0,0.0,0.0,0.0,0.0,0.0,0.0],[1.0,0.0,0.0,0.0,-0.001,1.0,0.0,5.0,5.0,0.0,0.0,0.0,0.0,0.0,0.0,0.0],[0.0,1.0,0.0,0.0,1.0,0.001,5.0,0.0,0.0,5.0,0.0,0.0,0.0,0.0,0.0,0.0],[0.0,0.0,1.0,0.0,0.0,5.0,-0.001,1.0,0.0,0.0,5.0,0.0,0.0,0.0,0.0,0.0],[0.0,0.0,0.0,1.0,5.0,0.0,1.0,0.001,0.0,0.0,0.0,5.0,0.0,0.0,0.0,0.0],[0.0,0.0,0.0,0.0,5.0,0.0,0.0,0.0,0.001,-1.0,0.0,-5.0,1.0,0.0,0.0,0.0],[0.0,0.0,0.0,0.0,0.0,5.0,0.0,0.0,-1.0,-0.001,-5.0,0.0,0.0,1.0,0.0,0.0],[0.0,0.0,0.0,0.0,0.0,0.0,5.0,0.0,0.0,-5.0,0.001,-1.0,0.0,0.0,1.0,0.0],[0.0,0.0,0.0,0.0,0.0,0.0,0.0,5.0,-5.0,0.0,-1.0,-0.001,0.0,0.0,0.0,1.0],[0.0,0.0,0.0,0.0,0.0,0.0,0.0,0.0,1.0,0.0,0.0,0.0,-0.001,1.0,0.0,5.0],[0.0,0.0,0.0,0.0,0.0,0.0,0.0,0.0,0.0,1.0,0.0,0.0,1.0,0.001,5.0,0.0],[0.0,0.0,0.0,0.0,0.0,0.0,0.0,0.0,0.0,0.0,1.0,0.0,0.0,5.0,-0.001,1.0],[0.0,0.0,0.0,0.0,0.0,0.0,0.0,0.0,0.0,0.0,0.0,1.0,5.0,0.0,1.0,0.001]],\"type\":\"heatmap\",\"xaxis\":\"x\",\"yaxis\":\"y\"},{\"coloraxis\":\"coloraxis\",\"z\":[[0.001,-1.0,0.0,0.0,1.0,0.0,0.0,0.0,0.0,0.0,0.0,0.0,5.0,0.0,0.0,0.0],[-1.0,-0.001,-5.0,0.0,0.0,1.0,0.0,0.0,0.0,0.0,0.0,0.0,0.0,5.0,0.0,0.0],[0.0,-5.0,0.001,-1.0,0.0,0.0,1.0,0.0,0.0,0.0,0.0,0.0,0.0,0.0,5.0,0.0],[0.0,0.0,-1.0,-0.001,0.0,0.0,0.0,1.0,0.0,0.0,0.0,0.0,0.0,0.0,0.0,5.0],[1.0,0.0,0.0,0.0,-0.001,1.0,0.0,0.0,5.0,0.0,0.0,0.0,0.0,0.0,0.0,0.0],[0.0,1.0,0.0,0.0,1.0,0.001,5.0,0.0,0.0,5.0,0.0,0.0,0.0,0.0,0.0,0.0],[0.0,0.0,1.0,0.0,0.0,5.0,-0.001,1.0,0.0,0.0,5.0,0.0,0.0,0.0,0.0,0.0],[0.0,0.0,0.0,1.0,0.0,0.0,1.0,0.001,0.0,0.0,0.0,5.0,0.0,0.0,0.0,0.0],[0.0,0.0,0.0,0.0,5.0,0.0,0.0,0.0,0.001,-1.0,0.0,0.0,1.0,0.0,0.0,0.0],[0.0,0.0,0.0,0.0,0.0,5.0,0.0,0.0,-1.0,-0.001,-5.0,0.0,0.0,1.0,0.0,0.0],[0.0,0.0,0.0,0.0,0.0,0.0,5.0,0.0,0.0,-5.0,0.001,-1.0,0.0,0.0,1.0,0.0],[0.0,0.0,0.0,0.0,0.0,0.0,0.0,5.0,0.0,0.0,-1.0,-0.001,0.0,0.0,0.0,1.0],[5.0,0.0,0.0,0.0,0.0,0.0,0.0,0.0,1.0,0.0,0.0,0.0,-0.001,1.0,0.0,0.0],[0.0,5.0,0.0,0.0,0.0,0.0,0.0,0.0,0.0,1.0,0.0,0.0,1.0,0.001,5.0,0.0],[0.0,0.0,5.0,0.0,0.0,0.0,0.0,0.0,0.0,0.0,1.0,0.0,0.0,5.0,-0.001,1.0],[0.0,0.0,0.0,5.0,0.0,0.0,0.0,0.0,0.0,0.0,0.0,1.0,0.0,0.0,1.0,0.001]],\"type\":\"heatmap\",\"xaxis\":\"x2\",\"yaxis\":\"y2\"},{\"coloraxis\":\"coloraxis\",\"z\":[[0.001,-5.0,0.0,0.0,5.0,0.0,0.0,0.0,0.0,0.0,0.0,0.0,0.0,0.0,0.0,0.0],[-5.0,-0.001,-1.0,0.0,0.0,5.0,0.0,0.0,0.0,0.0,0.0,0.0,0.0,0.0,0.0,0.0],[0.0,-1.0,0.001,-5.0,0.0,0.0,5.0,0.0,0.0,0.0,0.0,0.0,0.0,0.0,0.0,0.0],[0.0,0.0,-5.0,-0.001,0.0,0.0,0.0,5.0,0.0,0.0,0.0,0.0,0.0,0.0,0.0,0.0],[5.0,0.0,0.0,0.0,-0.001,5.0,0.0,0.0,1.0,0.0,0.0,0.0,0.0,0.0,0.0,0.0],[0.0,5.0,0.0,0.0,5.0,0.001,1.0,0.0,0.0,1.0,0.0,0.0,0.0,0.0,0.0,0.0],[0.0,0.0,5.0,0.0,0.0,1.0,-0.001,5.0,0.0,0.0,1.0,0.0,0.0,0.0,0.0,0.0],[0.0,0.0,0.0,5.0,0.0,0.0,5.0,0.001,0.0,0.0,0.0,1.0,0.0,0.0,0.0,0.0],[0.0,0.0,0.0,0.0,1.0,0.0,0.0,0.0,0.001,-5.0,0.0,0.0,5.0,0.0,0.0,0.0],[0.0,0.0,0.0,0.0,0.0,1.0,0.0,0.0,-5.0,-0.001,-1.0,0.0,0.0,5.0,0.0,0.0],[0.0,0.0,0.0,0.0,0.0,0.0,1.0,0.0,0.0,-1.0,0.001,-5.0,0.0,0.0,5.0,0.0],[0.0,0.0,0.0,0.0,0.0,0.0,0.0,1.0,0.0,0.0,-5.0,-0.001,0.0,0.0,0.0,5.0],[0.0,0.0,0.0,0.0,0.0,0.0,0.0,0.0,5.0,0.0,0.0,0.0,-0.001,5.0,0.0,0.0],[0.0,0.0,0.0,0.0,0.0,0.0,0.0,0.0,0.0,5.0,0.0,0.0,5.0,0.001,1.0,0.0],[0.0,0.0,0.0,0.0,0.0,0.0,0.0,0.0,0.0,0.0,5.0,0.0,0.0,1.0,-0.001,5.0],[0.0,0.0,0.0,0.0,0.0,0.0,0.0,0.0,0.0,0.0,0.0,5.0,0.0,0.0,5.0,0.001]],\"type\":\"heatmap\",\"xaxis\":\"x3\",\"yaxis\":\"y3\"}],                        {\"template\":{\"data\":{\"bar\":[{\"error_x\":{\"color\":\"#2a3f5f\"},\"error_y\":{\"color\":\"#2a3f5f\"},\"marker\":{\"line\":{\"color\":\"#E5ECF6\",\"width\":0.5},\"pattern\":{\"fillmode\":\"overlay\",\"size\":10,\"solidity\":0.2}},\"type\":\"bar\"}],\"barpolar\":[{\"marker\":{\"line\":{\"color\":\"#E5ECF6\",\"width\":0.5},\"pattern\":{\"fillmode\":\"overlay\",\"size\":10,\"solidity\":0.2}},\"type\":\"barpolar\"}],\"carpet\":[{\"aaxis\":{\"endlinecolor\":\"#2a3f5f\",\"gridcolor\":\"white\",\"linecolor\":\"white\",\"minorgridcolor\":\"white\",\"startlinecolor\":\"#2a3f5f\"},\"baxis\":{\"endlinecolor\":\"#2a3f5f\",\"gridcolor\":\"white\",\"linecolor\":\"white\",\"minorgridcolor\":\"white\",\"startlinecolor\":\"#2a3f5f\"},\"type\":\"carpet\"}],\"choropleth\":[{\"colorbar\":{\"outlinewidth\":0,\"ticks\":\"\"},\"type\":\"choropleth\"}],\"contour\":[{\"colorbar\":{\"outlinewidth\":0,\"ticks\":\"\"},\"colorscale\":[[0.0,\"#0d0887\"],[0.1111111111111111,\"#46039f\"],[0.2222222222222222,\"#7201a8\"],[0.3333333333333333,\"#9c179e\"],[0.4444444444444444,\"#bd3786\"],[0.5555555555555556,\"#d8576b\"],[0.6666666666666666,\"#ed7953\"],[0.7777777777777778,\"#fb9f3a\"],[0.8888888888888888,\"#fdca26\"],[1.0,\"#f0f921\"]],\"type\":\"contour\"}],\"contourcarpet\":[{\"colorbar\":{\"outlinewidth\":0,\"ticks\":\"\"},\"type\":\"contourcarpet\"}],\"heatmap\":[{\"colorbar\":{\"outlinewidth\":0,\"ticks\":\"\"},\"colorscale\":[[0.0,\"#0d0887\"],[0.1111111111111111,\"#46039f\"],[0.2222222222222222,\"#7201a8\"],[0.3333333333333333,\"#9c179e\"],[0.4444444444444444,\"#bd3786\"],[0.5555555555555556,\"#d8576b\"],[0.6666666666666666,\"#ed7953\"],[0.7777777777777778,\"#fb9f3a\"],[0.8888888888888888,\"#fdca26\"],[1.0,\"#f0f921\"]],\"type\":\"heatmap\"}],\"heatmapgl\":[{\"colorbar\":{\"outlinewidth\":0,\"ticks\":\"\"},\"colorscale\":[[0.0,\"#0d0887\"],[0.1111111111111111,\"#46039f\"],[0.2222222222222222,\"#7201a8\"],[0.3333333333333333,\"#9c179e\"],[0.4444444444444444,\"#bd3786\"],[0.5555555555555556,\"#d8576b\"],[0.6666666666666666,\"#ed7953\"],[0.7777777777777778,\"#fb9f3a\"],[0.8888888888888888,\"#fdca26\"],[1.0,\"#f0f921\"]],\"type\":\"heatmapgl\"}],\"histogram\":[{\"marker\":{\"pattern\":{\"fillmode\":\"overlay\",\"size\":10,\"solidity\":0.2}},\"type\":\"histogram\"}],\"histogram2d\":[{\"colorbar\":{\"outlinewidth\":0,\"ticks\":\"\"},\"colorscale\":[[0.0,\"#0d0887\"],[0.1111111111111111,\"#46039f\"],[0.2222222222222222,\"#7201a8\"],[0.3333333333333333,\"#9c179e\"],[0.4444444444444444,\"#bd3786\"],[0.5555555555555556,\"#d8576b\"],[0.6666666666666666,\"#ed7953\"],[0.7777777777777778,\"#fb9f3a\"],[0.8888888888888888,\"#fdca26\"],[1.0,\"#f0f921\"]],\"type\":\"histogram2d\"}],\"histogram2dcontour\":[{\"colorbar\":{\"outlinewidth\":0,\"ticks\":\"\"},\"colorscale\":[[0.0,\"#0d0887\"],[0.1111111111111111,\"#46039f\"],[0.2222222222222222,\"#7201a8\"],[0.3333333333333333,\"#9c179e\"],[0.4444444444444444,\"#bd3786\"],[0.5555555555555556,\"#d8576b\"],[0.6666666666666666,\"#ed7953\"],[0.7777777777777778,\"#fb9f3a\"],[0.8888888888888888,\"#fdca26\"],[1.0,\"#f0f921\"]],\"type\":\"histogram2dcontour\"}],\"mesh3d\":[{\"colorbar\":{\"outlinewidth\":0,\"ticks\":\"\"},\"type\":\"mesh3d\"}],\"parcoords\":[{\"line\":{\"colorbar\":{\"outlinewidth\":0,\"ticks\":\"\"}},\"type\":\"parcoords\"}],\"pie\":[{\"automargin\":true,\"type\":\"pie\"}],\"scatter\":[{\"marker\":{\"colorbar\":{\"outlinewidth\":0,\"ticks\":\"\"}},\"type\":\"scatter\"}],\"scatter3d\":[{\"line\":{\"colorbar\":{\"outlinewidth\":0,\"ticks\":\"\"}},\"marker\":{\"colorbar\":{\"outlinewidth\":0,\"ticks\":\"\"}},\"type\":\"scatter3d\"}],\"scattercarpet\":[{\"marker\":{\"colorbar\":{\"outlinewidth\":0,\"ticks\":\"\"}},\"type\":\"scattercarpet\"}],\"scattergeo\":[{\"marker\":{\"colorbar\":{\"outlinewidth\":0,\"ticks\":\"\"}},\"type\":\"scattergeo\"}],\"scattergl\":[{\"marker\":{\"colorbar\":{\"outlinewidth\":0,\"ticks\":\"\"}},\"type\":\"scattergl\"}],\"scattermapbox\":[{\"marker\":{\"colorbar\":{\"outlinewidth\":0,\"ticks\":\"\"}},\"type\":\"scattermapbox\"}],\"scatterpolar\":[{\"marker\":{\"colorbar\":{\"outlinewidth\":0,\"ticks\":\"\"}},\"type\":\"scatterpolar\"}],\"scatterpolargl\":[{\"marker\":{\"colorbar\":{\"outlinewidth\":0,\"ticks\":\"\"}},\"type\":\"scatterpolargl\"}],\"scatterternary\":[{\"marker\":{\"colorbar\":{\"outlinewidth\":0,\"ticks\":\"\"}},\"type\":\"scatterternary\"}],\"surface\":[{\"colorbar\":{\"outlinewidth\":0,\"ticks\":\"\"},\"colorscale\":[[0.0,\"#0d0887\"],[0.1111111111111111,\"#46039f\"],[0.2222222222222222,\"#7201a8\"],[0.3333333333333333,\"#9c179e\"],[0.4444444444444444,\"#bd3786\"],[0.5555555555555556,\"#d8576b\"],[0.6666666666666666,\"#ed7953\"],[0.7777777777777778,\"#fb9f3a\"],[0.8888888888888888,\"#fdca26\"],[1.0,\"#f0f921\"]],\"type\":\"surface\"}],\"table\":[{\"cells\":{\"fill\":{\"color\":\"#EBF0F8\"},\"line\":{\"color\":\"white\"}},\"header\":{\"fill\":{\"color\":\"#C8D4E3\"},\"line\":{\"color\":\"white\"}},\"type\":\"table\"}]},\"layout\":{\"annotationdefaults\":{\"arrowcolor\":\"#2a3f5f\",\"arrowhead\":0,\"arrowwidth\":1},\"autotypenumbers\":\"strict\",\"coloraxis\":{\"colorbar\":{\"outlinewidth\":0,\"ticks\":\"\"}},\"colorscale\":{\"diverging\":[[0,\"#8e0152\"],[0.1,\"#c51b7d\"],[0.2,\"#de77ae\"],[0.3,\"#f1b6da\"],[0.4,\"#fde0ef\"],[0.5,\"#f7f7f7\"],[0.6,\"#e6f5d0\"],[0.7,\"#b8e186\"],[0.8,\"#7fbc41\"],[0.9,\"#4d9221\"],[1,\"#276419\"]],\"sequential\":[[0.0,\"#0d0887\"],[0.1111111111111111,\"#46039f\"],[0.2222222222222222,\"#7201a8\"],[0.3333333333333333,\"#9c179e\"],[0.4444444444444444,\"#bd3786\"],[0.5555555555555556,\"#d8576b\"],[0.6666666666666666,\"#ed7953\"],[0.7777777777777778,\"#fb9f3a\"],[0.8888888888888888,\"#fdca26\"],[1.0,\"#f0f921\"]],\"sequentialminus\":[[0.0,\"#0d0887\"],[0.1111111111111111,\"#46039f\"],[0.2222222222222222,\"#7201a8\"],[0.3333333333333333,\"#9c179e\"],[0.4444444444444444,\"#bd3786\"],[0.5555555555555556,\"#d8576b\"],[0.6666666666666666,\"#ed7953\"],[0.7777777777777778,\"#fb9f3a\"],[0.8888888888888888,\"#fdca26\"],[1.0,\"#f0f921\"]]},\"colorway\":[\"#636efa\",\"#EF553B\",\"#00cc96\",\"#ab63fa\",\"#FFA15A\",\"#19d3f3\",\"#FF6692\",\"#B6E880\",\"#FF97FF\",\"#FECB52\"],\"font\":{\"color\":\"#2a3f5f\"},\"geo\":{\"bgcolor\":\"white\",\"lakecolor\":\"white\",\"landcolor\":\"#E5ECF6\",\"showlakes\":true,\"showland\":true,\"subunitcolor\":\"white\"},\"hoverlabel\":{\"align\":\"left\"},\"hovermode\":\"closest\",\"mapbox\":{\"style\":\"light\"},\"paper_bgcolor\":\"white\",\"plot_bgcolor\":\"#E5ECF6\",\"polar\":{\"angularaxis\":{\"gridcolor\":\"white\",\"linecolor\":\"white\",\"ticks\":\"\"},\"bgcolor\":\"#E5ECF6\",\"radialaxis\":{\"gridcolor\":\"white\",\"linecolor\":\"white\",\"ticks\":\"\"}},\"scene\":{\"xaxis\":{\"backgroundcolor\":\"#E5ECF6\",\"gridcolor\":\"white\",\"gridwidth\":2,\"linecolor\":\"white\",\"showbackground\":true,\"ticks\":\"\",\"zerolinecolor\":\"white\"},\"yaxis\":{\"backgroundcolor\":\"#E5ECF6\",\"gridcolor\":\"white\",\"gridwidth\":2,\"linecolor\":\"white\",\"showbackground\":true,\"ticks\":\"\",\"zerolinecolor\":\"white\"},\"zaxis\":{\"backgroundcolor\":\"#E5ECF6\",\"gridcolor\":\"white\",\"gridwidth\":2,\"linecolor\":\"white\",\"showbackground\":true,\"ticks\":\"\",\"zerolinecolor\":\"white\"}},\"shapedefaults\":{\"line\":{\"color\":\"#2a3f5f\"}},\"ternary\":{\"aaxis\":{\"gridcolor\":\"white\",\"linecolor\":\"white\",\"ticks\":\"\"},\"baxis\":{\"gridcolor\":\"white\",\"linecolor\":\"white\",\"ticks\":\"\"},\"bgcolor\":\"#E5ECF6\",\"caxis\":{\"gridcolor\":\"white\",\"linecolor\":\"white\",\"ticks\":\"\"}},\"title\":{\"x\":0.05},\"xaxis\":{\"automargin\":true,\"gridcolor\":\"white\",\"linecolor\":\"white\",\"ticks\":\"\",\"title\":{\"standoff\":15},\"zerolinecolor\":\"white\",\"zerolinewidth\":2},\"yaxis\":{\"automargin\":true,\"gridcolor\":\"white\",\"linecolor\":\"white\",\"ticks\":\"\",\"title\":{\"standoff\":15},\"zerolinecolor\":\"white\",\"zerolinewidth\":2}}},\"xaxis\":{\"anchor\":\"y\",\"domain\":[0.0,0.2888888888888889],\"showgrid\":false,\"showticklabels\":false},\"yaxis\":{\"anchor\":\"x\",\"domain\":[0.0,1.0],\"showgrid\":false,\"showticklabels\":false},\"xaxis2\":{\"anchor\":\"y2\",\"domain\":[0.35555555555555557,0.6444444444444445],\"showgrid\":false,\"showticklabels\":false},\"yaxis2\":{\"anchor\":\"x2\",\"domain\":[0.0,1.0],\"showgrid\":false,\"showticklabels\":false},\"xaxis3\":{\"anchor\":\"y3\",\"domain\":[0.7111111111111111,1.0],\"showgrid\":false,\"showticklabels\":false},\"yaxis3\":{\"anchor\":\"x3\",\"domain\":[0.0,1.0],\"showgrid\":false,\"showticklabels\":false},\"annotations\":[{\"font\":{\"size\":16},\"showarrow\":false,\"text\":\"\\u03b3/\\u03bb < 1 \",\"x\":0.14444444444444446,\"xanchor\":\"center\",\"xref\":\"paper\",\"y\":1.0,\"yanchor\":\"bottom\",\"yref\":\"paper\"},{\"font\":{\"size\":16},\"showarrow\":false,\"text\":\"\\u03b3/\\u03bb = 1\",\"x\":0.5,\"xanchor\":\"center\",\"xref\":\"paper\",\"y\":1.0,\"yanchor\":\"bottom\",\"yref\":\"paper\"},{\"font\":{\"size\":16},\"showarrow\":false,\"text\":\"\\u03b3/\\u03bb > 1\",\"x\":0.8555555555555556,\"xanchor\":\"center\",\"xref\":\"paper\",\"y\":1.0,\"yanchor\":\"bottom\",\"yref\":\"paper\"}],\"title\":{\"text\":\"\"},\"coloraxis\":{\"colorscale\":[[0.0,\"rgb(103,0,31)\"],[0.1,\"rgb(178,24,43)\"],[0.2,\"rgb(214,96,77)\"],[0.3,\"rgb(244,165,130)\"],[0.4,\"rgb(253,219,199)\"],[0.5,\"rgb(247,247,247)\"],[0.6,\"rgb(209,229,240)\"],[0.7,\"rgb(146,197,222)\"],[0.8,\"rgb(67,147,195)\"],[0.9,\"rgb(33,102,172)\"],[1.0,\"rgb(5,48,97)\"]]},\"height\":400,\"width\":900,\"showlegend\":false},                        {\"responsive\": true}                    ).then(function(){\n",
       "                            \n",
       "var gd = document.getElementById('71d6ff4d-b80a-46e6-8fe2-a6980630f542');\n",
       "var x = new MutationObserver(function (mutations, observer) {{\n",
       "        var display = window.getComputedStyle(gd).display;\n",
       "        if (!display || display === 'none') {{\n",
       "            console.log([gd, 'removed!']);\n",
       "            Plotly.purge(gd);\n",
       "            observer.disconnect();\n",
       "        }}\n",
       "}});\n",
       "\n",
       "// Listen for the removal of the full notebook cells\n",
       "var notebookContainer = gd.closest('#notebook-container');\n",
       "if (notebookContainer) {{\n",
       "    x.observe(notebookContainer, {childList: true});\n",
       "}}\n",
       "\n",
       "// Listen for the clearing of the current output cell\n",
       "var outputEl = gd.closest('.output');\n",
       "if (outputEl) {{\n",
       "    x.observe(outputEl, {childList: true});\n",
       "}}\n",
       "\n",
       "                        })                };                });            </script>        </div>"
      ]
     },
     "metadata": {},
     "output_type": "display_data"
    }
   ],
   "source": [
    "from plotly.subplots import make_subplots\n",
    "import plotly.graph_objects as go\n",
    "\n",
    "fig = make_subplots(rows=1, cols=3,\n",
    "                    subplot_titles=(\"γ/λ < 1 \",\"γ/λ = 1\", \"γ/λ > 1\"))\n",
    "\n",
    "fig.add_trace(\n",
    "    go.Heatmap(z=H0.real,coloraxis = \"coloraxis\"),\n",
    "    row=1, col=1)\n",
    "\n",
    "fig.add_trace(\n",
    "    go.Heatmap(z=H1.real,coloraxis = \"coloraxis\"),\n",
    "    row=1, col=2)\n",
    "\n",
    "fig.add_trace(\n",
    "    go.Heatmap(z=H2.real,coloraxis = \"coloraxis\"),\n",
    "    row=1, col=3)\n",
    "\n",
    "fig.update_xaxes(showgrid=False,showticklabels=False)\n",
    "fig.update_yaxes(showgrid=False,showticklabels=False)\n",
    "fig.update_layout(height=400, width=900, showlegend=False, title_text=\"\", coloraxis={'colorscale':'RdBu'})\n",
    "fig.show()\n",
    "fig.write_image(\"images/Hamiltonian_cero.pdf\")"
   ]
  },
  {
   "cell_type": "code",
   "execution_count": 22,
   "metadata": {},
   "outputs": [],
   "source": [
    "Ek0 = loadtxt(\"Energias0.txt\", unpack=True)\n",
    "U0  = loadtxt(\"Estados0.txt\", dtype=complex, unpack=True)\n",
    "\n",
    "Ek1 = loadtxt(\"Energias1.txt\", unpack=True)\n",
    "U1  = loadtxt(\"Estados1.txt\", dtype=complex, unpack=True)\n",
    "\n",
    "Ek2 = loadtxt(\"Energias2.txt\", unpack=True)\n",
    "U2  = loadtxt(\"Estados2.txt\", dtype=complex, unpack=True)"
   ]
  },
  {
   "cell_type": "code",
   "execution_count": 23,
   "metadata": {
    "scrolled": false
   },
   "outputs": [
    {
     "data": {
      "image/png": "[encoded data removed]",
      "text/plain": [
       "<Figure size 432x432 with 1 Axes>"
      ]
     },
     "metadata": {
      "needs_background": "light"
     },
     "output_type": "display_data"
    }
   ],
   "source": [
    "fig, ax = plt.subplots(figsize=(6,6))\n",
    "bins = 85\n",
    "ax.hist(Ek0,bins, facecolor='r')\n",
    "ax.set_ylabel('NE')\n",
    "ax.set_xlabel('$E/\\lambda$')\n",
    "ax.set_yticks([0,4,8,12,16])\n",
    "ax.set_title('$\\gamma/\\lambda < 1$')\n",
    "\n",
    "plt.tight_layout()\n",
    "plt.savefig('images/bars_square1.pdf')\n",
    "plt.savefig('images/bars_square1.png')"
   ]
  },
  {
   "cell_type": "code",
   "execution_count": 24,
   "metadata": {},
   "outputs": [
    {
     "data": {
      "image/png": "[encoded data removed]",
      "text/plain": [
       "<Figure size 432x432 with 1 Axes>"
      ]
     },
     "metadata": {
      "needs_background": "light"
     },
     "output_type": "display_data"
    }
   ],
   "source": [
    "fig, ax = plt.subplots(figsize=(6,6))\n",
    "bins = 85\n",
    "ax.hist(Ek1,bins, facecolor='g')\n",
    "ax.set_ylabel('NE')\n",
    "ax.set_xlabel('$E/\\lambda$')\n",
    "ax.set_yticks([0,4,8,12,16])\n",
    "ax.set_title('$\\gamma/\\lambda = 1$')\n",
    "\n",
    "plt.tight_layout()\n",
    "plt.savefig('images/bars_square2.pdf')\n",
    "plt.savefig('images/bars_square2.png')"
   ]
  },
  {
   "cell_type": "code",
   "execution_count": 25,
   "metadata": {},
   "outputs": [
    {
     "data": {
      "image/png": "[encoded data removed]",
      "text/plain": [
       "<Figure size 432x432 with 1 Axes>"
      ]
     },
     "metadata": {
      "needs_background": "light"
     },
     "output_type": "display_data"
    }
   ],
   "source": [
    "fig, ax = plt.subplots(figsize=(6,6))\n",
    "bins = 86\n",
    "ax.hist(Ek2,bins, facecolor='b')\n",
    "ax.set_ylabel('NE')\n",
    "ax.set_xlabel('$E/\\lambda$')\n",
    "ax.set_yticks([0,5,10,15,20])\n",
    "ax.set_title('$\\gamma/\\lambda > 1$')\n",
    "\n",
    "plt.tight_layout()\n",
    "plt.savefig('images/bars_square3.pdf')\n",
    "plt.savefig('images/bars_square3.png')"
   ]
  },
  {
   "cell_type": "code",
   "execution_count": 26,
   "metadata": {},
   "outputs": [],
   "source": [
    "def wave_function(Ek,U,arg='all'):\n",
    "    Est  = argsort(abs(Ek))[0:4]\n",
    "    if arg == 'pos':\n",
    "        Est = Est[Ek[Est]>0]\n",
    "    elif arg == 'neg':\n",
    "        Est = Est[Ek[Est]<0]\n",
    "    ek = np.mean(Ek[Est])\n",
    "    s = [np.real(U[i]*U.conjugate()[i]) for i in Est]\n",
    "    S = np.zeros(len(s[0]))\n",
    "    for i in range(len(s)):\n",
    "        S += s[i] \n",
    "    S = S/sum(S)\n",
    "    Est = Est\n",
    "    return S,Est"
   ]
  },
  {
   "cell_type": "code",
   "execution_count": 27,
   "metadata": {},
   "outputs": [],
   "source": [
    "W0,Est = wave_function(Ek0,U0)"
   ]
  },
  {
   "cell_type": "code",
   "execution_count": 28,
   "metadata": {},
   "outputs": [
    {
     "data": {
      "text/plain": [
       "array([ 0.05432488, -0.05432488,  0.05432488, -0.05432488])"
      ]
     },
     "execution_count": 28,
     "metadata": {},
     "output_type": "execute_result"
    }
   ],
   "source": [
    "Ek0[Est]"
   ]
  },
  {
   "cell_type": "code",
   "execution_count": 29,
   "metadata": {},
   "outputs": [],
   "source": [
    "def density_of_states(Ek,U,arg='all'):\n",
    "    indexsort = argsort(Ek)\n",
    "    Est  = argsort(abs(Ek))[0:4]\n",
    "    if arg == 'pos':\n",
    "        Est = Est[Ek[Est]>0]\n",
    "    elif arg == 'neg':\n",
    "        Est = Est[Ek[Est]<0]\n",
    "    #Est = [i for i,val in enumerate(Ek) if abs(val) < 0.2]\n",
    "    #print(Est)\n",
    "    ek = np.mean(Ek[Est])\n",
    "    s = [np.real(U[i]*U.conjugate()[i]) for i in Est]\n",
    "    S = np.zeros(len(s[0]))\n",
    "    for i in range(len(s)):\n",
    "        S += s[i] \n",
    "    S = S/sum(S)\n",
    "    return S"
   ]
  },
  {
   "cell_type": "code",
   "execution_count": 30,
   "metadata": {},
   "outputs": [],
   "source": [
    "def density_of_states_array(Ek,U):\n",
    "    indexsort = argsort(Ek)\n",
    "    #Est = [i for i,val in enumerate(Ek) if abs(val) < 0.2]\n",
    "    ek = np.mean(Ek[Est])\n",
    "    s = [np.real(U[i]*U.conjugate()[i]) for i in Est]\n",
    "    S = np.zeros(len(s[0]))\n",
    "    for i in range(len(s)):\n",
    "        S += s[i] \n",
    "    S = S/sum(S)\n",
    "    #print(Est)\n",
    "    return s"
   ]
  },
  {
   "cell_type": "code",
   "execution_count": 31,
   "metadata": {},
   "outputs": [
    {
     "data": {
      "image/png": "[encoded data removed]",
      "text/plain": [
       "<Figure size 576x432 with 2 Axes>"
      ]
     },
     "metadata": {
      "needs_background": "light"
     },
     "output_type": "display_data"
    }
   ],
   "source": [
    "fig,ax = subplots(figsize=(8,6))\n",
    "S0 = density_of_states(Ek0,U0,arg='all')\n",
    "ax.scatter(x,y, s=10,c ='black')\n",
    "bar = ax.scatter(x,y, s=S0*10000, alpha=0.8,c=S0, \n",
    "                 cmap='winter',edgecolor='black', vmin=0,vmax=0.25)\n",
    "ax.set_xlim((-2,19))\n",
    "ax.set_ylim((-2,19))\n",
    "c = fig.colorbar(bar, ax=ax, ticks=[0,round(S0[0],2),0.25])\n",
    "c.ax.plot([0, 0.25], [round(S0[0],2),round(S0[0],2)], 'w')\n",
    "ax.set_aspect('equal')\n",
    "ax.axis(\"off\")\n",
    "plt.savefig('images/proyection_square.png')\n",
    "plt.savefig('images/proyection_square.pdf')\n",
    "plt.show()\n"
   ]
  },
  {
   "cell_type": "code",
   "execution_count": 32,
   "metadata": {},
   "outputs": [
    {
     "data": {
      "text/plain": [
       "Text(0, 0.5, 'E')"
      ]
     },
     "execution_count": 32,
     "metadata": {},
     "output_type": "execute_result"
    },
    {
     "data": {
      "image/png": "[encoded data removed]",
      "text/plain": [
       "<Figure size 576x432 with 1 Axes>"
      ]
     },
     "metadata": {
      "needs_background": "light"
     },
     "output_type": "display_data"
    }
   ],
   "source": [
    "fig,ax = subplots(figsize=(8,6))\n",
    "Esort = sort(Ek0)\n",
    "Ey = range(len(Ek0))\n",
    "ax.scatter(Ey,Esort,s=20,c='b', edgecolor='black')\n",
    "#ax.set_ylim((-5,5))\n",
    "#ax.set_xlim((141,181))\n",
    "ax.set_xlabel('$\\#$E')\n",
    "ax.set_ylabel('E')"
   ]
  },
  {
   "cell_type": "code",
   "execution_count": 33,
   "metadata": {},
   "outputs": [
    {
     "ename": "ValueError",
     "evalue": "cannot reshape array of size 36 into shape (18,18)",
     "output_type": "error",
     "traceback": [
      "\u001b[0;31m---------------------------------------------------------------------------\u001b[0m",
      "\u001b[0;31mValueError\u001b[0m                                Traceback (most recent call last)",
      "Input \u001b[0;32mIn [33]\u001b[0m, in \u001b[0;36m<cell line: 2>\u001b[0;34m()\u001b[0m\n\u001b[1;32m      1\u001b[0m S0 \u001b[38;5;241m=\u001b[39m density_of_states(Ek0,U0)\n\u001b[0;32m----> 2\u001b[0m wave \u001b[38;5;241m=\u001b[39m \u001b[43mreshape\u001b[49m\u001b[43m(\u001b[49m\u001b[43mS0\u001b[49m\u001b[43m,\u001b[49m\u001b[43m \u001b[49m\u001b[43m(\u001b[49m\u001b[38;5;241;43m18\u001b[39;49m\u001b[43m,\u001b[49m\u001b[38;5;241;43m18\u001b[39;49m\u001b[43m)\u001b[49m\u001b[43m)\u001b[49m\n",
      "File \u001b[0;32m<__array_function__ internals>:5\u001b[0m, in \u001b[0;36mreshape\u001b[0;34m(*args, **kwargs)\u001b[0m\n",
      "File \u001b[0;32m~/anaconda3/lib/python3.9/site-packages/numpy/core/fromnumeric.py:298\u001b[0m, in \u001b[0;36mreshape\u001b[0;34m(a, newshape, order)\u001b[0m\n\u001b[1;32m    198\u001b[0m \u001b[38;5;129m@array_function_dispatch\u001b[39m(_reshape_dispatcher)\n\u001b[1;32m    199\u001b[0m \u001b[38;5;28;01mdef\u001b[39;00m \u001b[38;5;21mreshape\u001b[39m(a, newshape, order\u001b[38;5;241m=\u001b[39m\u001b[38;5;124m'\u001b[39m\u001b[38;5;124mC\u001b[39m\u001b[38;5;124m'\u001b[39m):\n\u001b[1;32m    200\u001b[0m     \u001b[38;5;124;03m\"\"\"\u001b[39;00m\n\u001b[1;32m    201\u001b[0m \u001b[38;5;124;03m    Gives a new shape to an array without changing its data.\u001b[39;00m\n\u001b[1;32m    202\u001b[0m \n\u001b[0;32m   (...)\u001b[0m\n\u001b[1;32m    296\u001b[0m \u001b[38;5;124;03m           [5, 6]])\u001b[39;00m\n\u001b[1;32m    297\u001b[0m \u001b[38;5;124;03m    \"\"\"\u001b[39;00m\n\u001b[0;32m--> 298\u001b[0m     \u001b[38;5;28;01mreturn\u001b[39;00m \u001b[43m_wrapfunc\u001b[49m\u001b[43m(\u001b[49m\u001b[43ma\u001b[49m\u001b[43m,\u001b[49m\u001b[43m \u001b[49m\u001b[38;5;124;43m'\u001b[39;49m\u001b[38;5;124;43mreshape\u001b[39;49m\u001b[38;5;124;43m'\u001b[39;49m\u001b[43m,\u001b[49m\u001b[43m \u001b[49m\u001b[43mnewshape\u001b[49m\u001b[43m,\u001b[49m\u001b[43m \u001b[49m\u001b[43morder\u001b[49m\u001b[38;5;241;43m=\u001b[39;49m\u001b[43morder\u001b[49m\u001b[43m)\u001b[49m\n",
      "File \u001b[0;32m~/anaconda3/lib/python3.9/site-packages/numpy/core/fromnumeric.py:57\u001b[0m, in \u001b[0;36m_wrapfunc\u001b[0;34m(obj, method, *args, **kwds)\u001b[0m\n\u001b[1;32m     54\u001b[0m     \u001b[38;5;28;01mreturn\u001b[39;00m _wrapit(obj, method, \u001b[38;5;241m*\u001b[39margs, \u001b[38;5;241m*\u001b[39m\u001b[38;5;241m*\u001b[39mkwds)\n\u001b[1;32m     56\u001b[0m \u001b[38;5;28;01mtry\u001b[39;00m:\n\u001b[0;32m---> 57\u001b[0m     \u001b[38;5;28;01mreturn\u001b[39;00m \u001b[43mbound\u001b[49m\u001b[43m(\u001b[49m\u001b[38;5;241;43m*\u001b[39;49m\u001b[43margs\u001b[49m\u001b[43m,\u001b[49m\u001b[43m \u001b[49m\u001b[38;5;241;43m*\u001b[39;49m\u001b[38;5;241;43m*\u001b[39;49m\u001b[43mkwds\u001b[49m\u001b[43m)\u001b[49m\n\u001b[1;32m     58\u001b[0m \u001b[38;5;28;01mexcept\u001b[39;00m \u001b[38;5;167;01mTypeError\u001b[39;00m:\n\u001b[1;32m     59\u001b[0m     \u001b[38;5;66;03m# A TypeError occurs if the object does have such a method in its\u001b[39;00m\n\u001b[1;32m     60\u001b[0m     \u001b[38;5;66;03m# class, but its signature is not identical to that of NumPy's. This\u001b[39;00m\n\u001b[0;32m   (...)\u001b[0m\n\u001b[1;32m     64\u001b[0m     \u001b[38;5;66;03m# Call _wrapit from within the except clause to ensure a potential\u001b[39;00m\n\u001b[1;32m     65\u001b[0m     \u001b[38;5;66;03m# exception has a traceback chain.\u001b[39;00m\n\u001b[1;32m     66\u001b[0m     \u001b[38;5;28;01mreturn\u001b[39;00m _wrapit(obj, method, \u001b[38;5;241m*\u001b[39margs, \u001b[38;5;241m*\u001b[39m\u001b[38;5;241m*\u001b[39mkwds)\n",
      "\u001b[0;31mValueError\u001b[0m: cannot reshape array of size 36 into shape (18,18)"
     ]
    }
   ],
   "source": [
    "S0 = density_of_states(Ek0,U0)\n",
    "wave = reshape(S0, (18,18))"
   ]
  },
  {
   "cell_type": "code",
   "execution_count": 34,
   "metadata": {
    "scrolled": false
   },
   "outputs": [],
   "source": [
    "E_γλ = [] #run onece\n",
    "for γ in linspace(-2,2,51):\n",
    "    H = Hoti_Hamiltonian(γ,1)\n",
    "    Ek, U = eigh(H)\n",
    "    Ek = np.real(Ek)\n",
    "    indexsort = argsort(Ek)\n",
    "    E_γλ.append(Ek[indexsort])\n",
    "E = array(E_γλ)    \n",
    "savetxt(\"param_bands.txt\",E,fmt = '%s', comments = '')"
   ]
  },
  {
   "cell_type": "code",
   "execution_count": 35,
   "metadata": {},
   "outputs": [
    {
     "data": {
      "image/png": "[encoded data removed]",
      "text/plain": [
       "<Figure size 432x432 with 1 Axes>"
      ]
     },
     "metadata": {
      "needs_background": "light"
     },
     "output_type": "display_data"
    }
   ],
   "source": [
    "E = loadtxt(\"param_bands.txt\",unpack=True)\n",
    "fig,ax = plt.subplots(figsize=(6,6))\n",
    "for i in range(n):\n",
    "    Param = linspace(-2,2,51)\n",
    "    if i in Est:\n",
    "        PM = [j for j in range(len(Param)) if Param[j]>=1]\n",
    "        Pm = [j for j in range(len(Param)) if Param[j]<=-1]\n",
    "        Pc = [j for j in range(len(Param)) if abs(Param[j])<=1]\n",
    "        ax.plot(Param[Pm],E[i][Pm],lw=3,c='blue')\n",
    "        ax.plot(Param[PM],E[i][PM],lw=3, c='blue')\n",
    "        ax.plot(Param[Pc],E[i][Pc],lw=3, c='red')\n",
    "    else:\n",
    "        ax.plot(Param,E[i], c='black',alpha =0.3)\n",
    "        \n",
    "ax.plot([-1,-1],[-4.5,4.5],ls='--', c='black')\n",
    "ax.plot([1,1],[-4.5,4.5],ls='--', c='black')\n",
    "ax.set_xticks([-2,-1,0,1,2])        \n",
    "ax.set_xlabel('$\\gamma/\\lambda$')\n",
    "ax.set_ylabel('E$/\\lambda$')\n",
    "#ax.set_title('a)',loc='left')\n",
    "plt.tight_layout()\n",
    "plt.savefig('images/bands_square_shh.pdf')\n",
    "plt.savefig('images/bands_square_shh.png')"
   ]
  },
  {
   "cell_type": "code",
   "execution_count": 36,
   "metadata": {},
   "outputs": [
    {
     "data": {
      "image/png": "[encoded data removed]",
      "text/plain": [
       "<Figure size 432x432 with 1 Axes>"
      ]
     },
     "metadata": {
      "needs_background": "light"
     },
     "output_type": "display_data"
    }
   ],
   "source": [
    "E = loadtxt(\"param_bands.txt\",unpack=True)\n",
    "fig,ax = plt.subplots(figsize=(6,6))\n",
    "for i in range(n):\n",
    "    Param = linspace(-2,2,51)\n",
    "    if i in Est:\n",
    "        PM = [j for j in range(len(Param)) if Param[j]>=1]\n",
    "        Pm = [j for j in range(len(Param)) if Param[j]<=-1]\n",
    "        Pc = [j for j in range(len(Param)) if abs(Param[j])<=1]\n",
    "        ax.plot(Param[Pm],log(abs(E[i]))[Pm],lw=3,c='blue')\n",
    "        ax.plot(Param[PM],log(abs(E[i]))[PM],lw=3, c='blue')\n",
    "        ax.plot(Param[Pc],log(abs(E[i]))[Pc],lw=3, c='red')\n",
    "    else:\n",
    "        ax.plot(Param,log(abs(E[i])), c='black',alpha =0.3)\n",
    "        \n",
    "ax.plot([-1,-1],[-7,2],ls='--', c='black')\n",
    "ax.plot([1,1],[-7,2],ls='--', c='black')\n",
    "ax.set_xticks([-2,-1,0,1,2])        \n",
    "ax.set_xlabel('$\\gamma/\\lambda$')\n",
    "ax.set_ylabel('E$/\\lambda$')\n",
    "#ax.set_title('a)',loc='left')\n",
    "plt.tight_layout()\n",
    "plt.savefig('images/bands_square_shh_log.pdf')\n",
    "plt.savefig('images/bands_square_shh_log.png')"
   ]
  },
  {
   "cell_type": "markdown",
   "metadata": {},
   "source": [
    "# Modelo Infinito"
   ]
  },
  {
   "cell_type": "code",
   "execution_count": 92,
   "metadata": {},
   "outputs": [],
   "source": [
    "def SSH(kx,ky,γ,λ):\n",
    "    δ = 1e-5\n",
    "    H = np.array([[δ,γ+λ*exp(-1J*kx),0,γ-λ*exp(1J*ky)],\n",
    "                  [γ+λ*exp(1J*kx),-δ,-γ+λ*exp(1J*ky),0],\n",
    "                  [0,-γ+λ*exp(-1J*ky),-δ,γ+λ*exp(1J*kx)],\n",
    "                  [γ-λ*exp(-1J*ky),0,γ+λ*exp(-1J*kx),δ]])\n",
    "    return H"
   ]
  },
  {
   "cell_type": "markdown",
   "metadata": {},
   "source": [
    "# High Order Topological Pump"
   ]
  },
  {
   "cell_type": "code",
   "execution_count": 93,
   "metadata": {},
   "outputs": [],
   "source": [
    "A   = 0.5     # μm\n",
    "def func_cext(θ,A,λ):\n",
    "    return  λ*exp(-(1+A*cos(θ)))\n",
    "\n",
    "def func_cint(θ,A,γ):\n",
    "    return γ*exp(-(1-A*cos(θ)))\n",
    "\n",
    "def Hoti_Hamiltonian_transport(A, θ, γ, ϵ=epsi, natoms=natoms, M_rand=M_rand, conection=False):\n",
    "    H = Hoti_Hamiltonian(func_cint(θ,A,γ), func_cext(θ,A,1), ϵ=epsi,δ=0.05*sin(θ), \n",
    "                         natoms=natoms, M_rand=M_rand, conection=False)\n",
    "    return H"
   ]
  },
  {
   "cell_type": "code",
   "execution_count": 94,
   "metadata": {},
   "outputs": [],
   "source": [
    "A  = 0.5\n",
    "H0 = Hoti_Hamiltonian_transport(A,-pi,1)\n",
    "H1 = Hoti_Hamiltonian_transport(A,0,1)\n",
    "H2 = Hoti_Hamiltonian_transport(A,pi,1)\n",
    "\n",
    "Ek0, U0 = eigh(H0)\n",
    "Ek0 = np.real(Ek0)\n",
    "\n",
    "Ek1, U1 = eigh(H1)\n",
    "Ek1 = np.real(Ek1)\n",
    "\n",
    "Ek2, U2 = eigh(H2)\n",
    "Ek2 = np.real(Ek2)\n",
    "\n",
    "savetxt(\"E0_pump.txt\",Ek0,fmt = '%s', comments = '')\n",
    "savetxt(\"Est0_pump.txt\",U0,fmt = '%s', comments = '')\n",
    "\n",
    "savetxt(\"E1_pump.txt\",Ek1,fmt = '%s', comments = '')\n",
    "savetxt(\"Est1_pump.txt\",U1,fmt = '%s', comments = '')\n",
    "\n",
    "savetxt(\"E2_pump.txt\",Ek2,fmt = '%s', comments = '')\n",
    "savetxt(\"Est2_pump.txt\",U2,fmt = '%s', comments = '')"
   ]
  },
  {
   "cell_type": "code",
   "execution_count": 95,
   "metadata": {},
   "outputs": [],
   "source": [
    "Ek0 = loadtxt(\"E0_pump.txt\", unpack=True)\n",
    "U0  = loadtxt(\"Est0_pump.txt\", dtype=complex, unpack=True)\n",
    "\n",
    "Ek1 = loadtxt(\"E1_pump.txt\", unpack=True)\n",
    "U1  = loadtxt(\"Est1_pump.txt\", dtype=complex, unpack=True)\n",
    "\n",
    "Ek2 = loadtxt(\"E2_pump.txt\", unpack=True)\n",
    "U2  = loadtxt(\"Est2_pump.txt\", dtype=complex, unpack=True)"
   ]
  },
  {
   "cell_type": "code",
   "execution_count": 96,
   "metadata": {},
   "outputs": [
    {
     "data": {
      "image/png": "[encoded data removed]",
      "text/plain": [
       "<Figure size 432x432 with 1 Axes>"
      ]
     },
     "metadata": {
      "needs_background": "light"
     },
     "output_type": "display_data"
    }
   ],
   "source": [
    "fig, ax = plt.subplots(figsize=(6,6))\n",
    "bins = 85\n",
    "ax.hist(Ek0,bins, facecolor='r')\n",
    "ax.set_ylabel('CDE')\n",
    "ax.set_xlabel('$E$')\n",
    "ax.set_yticks([0,4,8,12,16])\n",
    "ax.set_title('$\\\\theta = -\\pi$')\n",
    "\n",
    "plt.tight_layout()\n",
    "plt.savefig('images/bars_square_pump1.pdf')\n",
    "plt.savefig('images/bars_square_pump1.png')"
   ]
  },
  {
   "cell_type": "code",
   "execution_count": 97,
   "metadata": {},
   "outputs": [
    {
     "data": {
      "image/png": "[encoded data removed]",
      "text/plain": [
       "<Figure size 432x432 with 1 Axes>"
      ]
     },
     "metadata": {
      "needs_background": "light"
     },
     "output_type": "display_data"
    }
   ],
   "source": [
    "fig, ax = plt.subplots(figsize=(6,6))\n",
    "bins = 85\n",
    "ax.hist(Ek1,bins, facecolor='b')\n",
    "ax.set_ylabel('CDE')\n",
    "ax.set_xlabel('$E$')\n",
    "ax.set_yticks([0,5,10,15,20])\n",
    "ax.set_title('$\\\\theta = 0$')\n",
    "\n",
    "plt.tight_layout()\n",
    "plt.savefig('images/bars_square_pump2.pdf')\n",
    "plt.savefig('images/bars_square_pump2.png')"
   ]
  },
  {
   "cell_type": "code",
   "execution_count": 98,
   "metadata": {},
   "outputs": [
    {
     "data": {
      "image/png": "[encoded data removed]",
      "text/plain": [
       "<Figure size 432x432 with 1 Axes>"
      ]
     },
     "metadata": {
      "needs_background": "light"
     },
     "output_type": "display_data"
    }
   ],
   "source": [
    "fig, ax = plt.subplots(figsize=(6,6))\n",
    "bins = 85\n",
    "ax.hist(Ek2,bins, facecolor='r')\n",
    "ax.set_ylabel('CDE')\n",
    "ax.set_xlabel('$E$')\n",
    "ax.set_yticks([0,4,8,12,16])\n",
    "ax.set_title('$\\\\theta = \\pi$')\n",
    "\n",
    "plt.tight_layout()\n",
    "plt.savefig('images/bars_square_pump3.pdf')\n",
    "plt.savefig('images/bars_square_pump3.png')"
   ]
  },
  {
   "cell_type": "code",
   "execution_count": 102,
   "metadata": {},
   "outputs": [],
   "source": [
    "E_θ = []\n",
    "posx = []\n",
    "for θ in linspace(-pi,pi,51):\n",
    "    H = Hoti_Hamiltonian_transport(0.5,θ,0.5)\n",
    "    Ek, U = eigh(H)\n",
    "    Ek = np.real(Ek)\n",
    "    indexsort = argsort(Ek)\n",
    "    E_θ.append(Ek[indexsort])\n",
    "    posx.append(θ)\n",
    "E = array(E_θ)    \n",
    "savetxt(\"param_bands_pump.txt\",E,fmt = '%s', comments = '')\n"
   ]
  },
  {
   "cell_type": "code",
   "execution_count": 103,
   "metadata": {},
   "outputs": [
    {
     "data": {
      "image/png": "[encoded data removed]",
      "text/plain": [
       "<Figure size 432x432 with 1 Axes>"
      ]
     },
     "metadata": {
      "needs_background": "light"
     },
     "output_type": "display_data"
    }
   ],
   "source": [
    "E = loadtxt(\"param_bands_pump.txt\",unpack=True)\n",
    "fig,ax = plt.subplots(figsize=(6,6))\n",
    "for i in range(n):\n",
    "    Param = linspace(-pi,pi,51)\n",
    "    if i in Est:\n",
    "        PM = [j for j in range(len(Param)) if Param[j]>=pi/2]\n",
    "        Pm = [j for j in range(len(Param)) if Param[j]<=-pi/2]\n",
    "        Pc = [j for j in range(len(Param)) if abs(Param[j])<=pi/2]\n",
    "        ax.plot(Param[Pm],E[i][Pm],lw=3,c='red')\n",
    "        ax.plot(Param[PM],E[i][PM],lw=3, c='red')\n",
    "        ax.plot(Param[Pc],E[i][Pc],lw=3, c='blue')\n",
    "    else:\n",
    "        ax.plot(Param,E[i], c='black', alpha=0.3)\n",
    "        \n",
    "ax.plot([-pi/2,-pi/2],[-1.2,1.2],ls='--', c='black')\n",
    "ax.plot([pi/2,pi/2],[-1.2,1.2],ls='--', c='black')\n",
    "ax.set_xticks([-pi,-pi/2,0,pi/2,pi])\n",
    "ax.set_xticklabels(['$-\\pi$','$-\\pi/2$','0','$\\pi/2$','$\\pi$'])    \n",
    "ax.set_xlabel('$\\\\theta$')\n",
    "ax.set_ylabel('E')\n",
    "#ax.set_title('a)',loc='left')\n",
    "plt.tight_layout()\n",
    "plt.savefig('images/param_pump_A=0.5.png')\n",
    "plt.savefig('images/param_pump_A=0.5.pdf')\n",
    "\n"
   ]
  },
  {
   "cell_type": "code",
   "execution_count": 104,
   "metadata": {},
   "outputs": [
    {
     "data": {
      "image/png": "[encoded data removed]",
      "text/plain": [
       "<Figure size 432x432 with 1 Axes>"
      ]
     },
     "metadata": {
      "needs_background": "light"
     },
     "output_type": "display_data"
    }
   ],
   "source": [
    "E = loadtxt(\"param_bands_pump.txt\",unpack=True)\n",
    "fig,ax = plt.subplots(figsize=(6,6))\n",
    "for i in range(n):\n",
    "    Param = linspace(-pi,pi,51)\n",
    "    if i in Est:\n",
    "        PM = [j for j in range(len(Param)) if Param[j]>=pi/2]\n",
    "        Pm = [j for j in range(len(Param)) if Param[j]<=-pi/2]\n",
    "        Pc = [j for j in range(len(Param)) if abs(Param[j])<=pi/2]\n",
    "        ax.plot(Param[Pm],log(abs(E[i]))[Pm],lw=3,c='red')\n",
    "        ax.plot(Param[PM],log(abs(E[i]))[PM],lw=3, c='red')\n",
    "        ax.plot(Param[Pc],log(abs(E[i]))[Pc],lw=3, c='blue')\n",
    "    else:\n",
    "        ax.plot(Param,log(abs(E[i])), c='black',alpha=0.3)\n",
    "        \n",
    "ax.plot([-pi/2,-pi/2],[-9,1.2],ls='--', c='black')\n",
    "ax.plot([pi/2,pi/2],[-9,1.2],ls='--', c='black')\n",
    "ax.set_xticks([-pi,-pi/2,0,pi/2,pi])\n",
    "ax.set_xticklabels(['$-\\pi$','$-\\pi/2$','0','$\\pi/2$','$\\pi$'])    \n",
    "ax.set_xlabel('$\\\\theta$')\n",
    "ax.set_ylabel('log(E)')\n",
    "#ax.set_title('a)',loc='left')\n",
    "plt.tight_layout()\n",
    "plt.savefig('images/param_pump_A=0.5_log.png')\n",
    "plt.savefig('images/param_pump_A=0.5_log.pdf')"
   ]
  },
  {
   "cell_type": "markdown",
   "metadata": {},
   "source": [
    "# Corriente por cuadrante\n",
    "$$ R(\\nabla \\cdot J) = \\frac{d\\rho}{dt}R$$\n",
    "\n",
    "$$ R \\cdot R(\\nabla \\cdot J) = \\frac{d\\rho}{dt}R \\cdot R$$\n",
    "\n",
    "$$ \\frac{R \\cdot R}{|R|^2}(\\nabla \\cdot J_{cell}) = \\frac{d\\rho_{cell}}{dt}\\frac{R \\cdot R}{|R|^2}$$\n",
    "\n",
    "\n",
    "$$\\int J_{cell} \\cdot dA = \\int \\frac{d\\rho_{cell}}{dt} dV$$\n",
    "\n",
    "$$ J_{cell} =  \\sum_{cell} \\frac{d\\rho_{cell}}{dt}  $$"
   ]
  },
  {
   "cell_type": "code",
   "execution_count": 125,
   "metadata": {},
   "outputs": [
    {
     "name": "stderr",
     "output_type": "stream",
     "text": [
      "/home/toodivz/anaconda3/lib/python3.9/site-packages/numpy/core/fromnumeric.py:3440: RuntimeWarning:\n",
      "\n",
      "Mean of empty slice.\n",
      "\n",
      "/home/toodivz/anaconda3/lib/python3.9/site-packages/numpy/core/_methods.py:189: RuntimeWarning:\n",
      "\n",
      "invalid value encountered in double_scalars\n",
      "\n"
     ]
    },
    {
     "ename": "IndexError",
     "evalue": "list index out of range",
     "output_type": "error",
     "traceback": [
      "\u001b[0;31m---------------------------------------------------------------------------\u001b[0m",
      "\u001b[0;31mIndexError\u001b[0m                                Traceback (most recent call last)",
      "Input \u001b[0;32mIn [125]\u001b[0m, in \u001b[0;36m<cell line: 6>\u001b[0;34m()\u001b[0m\n\u001b[1;32m     18\u001b[0m Ek1, U1 \u001b[38;5;241m=\u001b[39m eigh(H1)\n\u001b[1;32m     19\u001b[0m Ek1 \u001b[38;5;241m=\u001b[39m np\u001b[38;5;241m.\u001b[39mreal(Ek1)\n\u001b[0;32m---> 20\u001b[0m s1 \u001b[38;5;241m=\u001b[39m \u001b[43mdensity_of_states\u001b[49m\u001b[43m(\u001b[49m\u001b[43mEk1\u001b[49m\u001b[38;5;241;43m.\u001b[39;49m\u001b[43mT\u001b[49m\u001b[43m,\u001b[49m\u001b[43mU1\u001b[49m\u001b[38;5;241;43m.\u001b[39;49m\u001b[43mT\u001b[49m\u001b[43m,\u001b[49m\u001b[43marg\u001b[49m\u001b[38;5;241;43m=\u001b[39;49m\u001b[38;5;124;43m'\u001b[39;49m\u001b[38;5;124;43mpos\u001b[39;49m\u001b[38;5;124;43m'\u001b[39;49m\u001b[43m)\u001b[49m\n\u001b[1;32m     22\u001b[0m Cx \u001b[38;5;241m=\u001b[39m [] \n\u001b[1;32m     23\u001b[0m Cy \u001b[38;5;241m=\u001b[39m []\n",
      "Input \u001b[0;32mIn [29]\u001b[0m, in \u001b[0;36mdensity_of_states\u001b[0;34m(Ek, U, arg)\u001b[0m\n\u001b[1;32m     10\u001b[0m ek \u001b[38;5;241m=\u001b[39m np\u001b[38;5;241m.\u001b[39mmean(Ek[Est])\n\u001b[1;32m     11\u001b[0m s \u001b[38;5;241m=\u001b[39m [np\u001b[38;5;241m.\u001b[39mreal(U[i]\u001b[38;5;241m*\u001b[39mU\u001b[38;5;241m.\u001b[39mconjugate()[i]) \u001b[38;5;28;01mfor\u001b[39;00m i \u001b[38;5;129;01min\u001b[39;00m Est]\n\u001b[0;32m---> 12\u001b[0m S \u001b[38;5;241m=\u001b[39m np\u001b[38;5;241m.\u001b[39mzeros(\u001b[38;5;28mlen\u001b[39m(\u001b[43ms\u001b[49m\u001b[43m[\u001b[49m\u001b[38;5;241;43m0\u001b[39;49m\u001b[43m]\u001b[49m))\n\u001b[1;32m     13\u001b[0m \u001b[38;5;28;01mfor\u001b[39;00m i \u001b[38;5;129;01min\u001b[39;00m \u001b[38;5;28mrange\u001b[39m(\u001b[38;5;28mlen\u001b[39m(s)):\n\u001b[1;32m     14\u001b[0m     S \u001b[38;5;241m+\u001b[39m\u001b[38;5;241m=\u001b[39m s[i] \n",
      "\u001b[0;31mIndexError\u001b[0m: list index out of range"
     ]
    }
   ],
   "source": [
    "import plotly.figure_factory as ff\n",
    "Rx = []\n",
    "Ry = []\n",
    "γs = linspace(0,2,101)\n",
    "γs = delete(γs,0)\n",
    "for γ in γs:\n",
    "    Pi_array = linspace(-pi,pi,101)\n",
    "\n",
    "    H0 = Hoti_Hamiltonian_transport(0.5,-pi,γ)\n",
    "    Ek0, U0 = eigh(H0)\n",
    "    Ek0 = np.real(Ek0)\n",
    "    s0 = density_of_states(Ek0.T,U0.T, arg='pos')\n",
    "    n = 0\n",
    "    jx = []\n",
    "    jy = []\n",
    "    for θ in Pi_array[1:]:\n",
    "        H1 = Hoti_Hamiltonian_transport(0.5,θ,γ)\n",
    "        Ek1, U1 = eigh(H1)\n",
    "        Ek1 = np.real(Ek1)\n",
    "        s1 = density_of_states(Ek1.T,U1.T,arg='pos')\n",
    "\n",
    "        Cx = [] \n",
    "        Cy = []\n",
    "        Cu = [] \n",
    "        Cv = []\n",
    "        for z in np.unique(f):\n",
    "            find = [j for j,val in enumerate(f) if val == z]\n",
    "            X = [x[i] for i in find]\n",
    "            Y = [y[i] for i in find]\n",
    "            S0 = [s0[i] for i in find]\n",
    "            S1 = [s1[i] for i in find]\n",
    "            xmax = np.amax(X)\n",
    "            xmin = np.amin(X)\n",
    "            ymax = np.amax(Y)\n",
    "            ymin = np.amin(Y)\n",
    "            rx = (xmax + xmin)/2\n",
    "            ry = (ymax + ymin)/2\n",
    "            if (rx < 3) and (ry < 3):\n",
    "                #print(\"({},{})\".format(rx,ry))\n",
    "                Jx = vdot(subtract(S1,S0),X-rx)\n",
    "                Jy = vdot(subtract(S1,S0),Y-ry)\n",
    "                Cx.append(rx)\n",
    "                Cy.append(ry)\n",
    "                Cu.append(2000*Jx)\n",
    "                Cv.append(2000*Jy)\n",
    "\n",
    "        jx.append(sum(Cu))\n",
    "        jy.append(sum(Cv))\n",
    "        U0 = U1 \n",
    "        Ek0 = Ek1\n",
    "        s0 = s1  \n",
    "        n+=1\n",
    "    Rx.append(jx)\n",
    "    Ry.append(jy)\n",
    "\n",
    "savetxt(\"Rx.txt\",Rx,fmt = '%s', comments = '')  \n",
    "savetxt(\"Ry.txt\",Ry,fmt = '%s', comments = '')  "
   ]
  },
  {
   "cell_type": "code",
   "execution_count": null,
   "metadata": {},
   "outputs": [],
   "source": [
    "Rx  = loadtxt('Rx.txt',unpack=True) \n",
    "Rx  = asmatrix(Rx.T)\n",
    "Xs  = linspace(-pi,pi,101)\n",
    "Ys  = linspace(0,2,101) \n",
    "\n",
    "if cal_value == True:\n",
    "    val = 50#where(Rx == amax(Rx))[0][0]\n",
    "    nval = Ys[val]\n",
    "    savetxt(\"gamma_value.txt\",[nval],fmt = '%s', comments = '')\n",
    "    savetxt(\"cut_value.txt\",[val],fmt = '%s', comments = '')\n",
    "else:\n",
    "    nval = float(nval)\n",
    "\n",
    "\n",
    "fig,ax = plt.subplots(figsize=(7,6))\n",
    "z_min, z_max = Rx.min(), Rx.max()\n",
    "levels = linspace(-19, 19, 40)\n",
    "#bar = ax.contourf(Xs, Ys, Rx, cmap='RdBu',levels=levels, vmin=-19, vmax=19)\n",
    "bar = ax.pcolormesh(Xs, Ys, Rx, cmap='PuOr', vmin=z_min, vmax=z_max)\n",
    "#bar = ax.imshow(flip(Rx))\n",
    "ax.plot([-pi/2,-pi/2],[0,2],ls='--', c='black')\n",
    "ax.plot([pi/2,pi/2],[0,2],ls='--', c='black')\n",
    "ax.plot([-pi,pi],[nval,nval],ls='--', c='black')\n",
    "\n",
    "ax.axis([Xs.min(), Xs.max(), Ys.min(), Ys.max()])\n",
    "c = fig.colorbar(bar, ax=ax, ticks=[z_min,0,z_max])\n",
    "c.set_ticklabels([\"Min\", \"0\", \"Max\"])\n",
    "ax.set_xlabel('$\\\\theta$')\n",
    "ax.set_ylabel('$\\gamma/\\lambda$')\n",
    "ax.set_xticks([-pi,-pi/2,0,pi/2,pi])\n",
    "ax.set_xticklabels(['$-\\pi$','$-\\pi/2$','0','$\\pi/2$','$\\pi$'])\n",
    "ax.set_yticks([0,nval,2])\n",
    "plt.tight_layout()\n",
    "plt.savefig('images/current_square_pump.png')\n",
    "plt.savefig('images/current_square_pump.pdf')\n",
    "\n",
    "#fig.write_image(\"images/param_pump_Currenty_{}.png\".format(round(nval,2)))"
   ]
  },
  {
   "cell_type": "code",
   "execution_count": 126,
   "metadata": {},
   "outputs": [
    {
     "name": "stderr",
     "output_type": "stream",
     "text": [
      "/tmp/ipykernel_178028/1765005131.py:19: MatplotlibDeprecationWarning:\n",
      "\n",
      "For X (101) and Y (101) with flat shading, the expected shape of A is (100, 100). Passing A ((1, 10000)) is deprecated since 3.5 and will become an error two minor releases later.\n",
      "\n"
     ]
    },
    {
     "data": {
      "image/png": "[encoded data removed]",
      "text/plain": [
       "<Figure size 504x432 with 2 Axes>"
      ]
     },
     "metadata": {
      "needs_background": "light"
     },
     "output_type": "display_data"
    }
   ],
   "source": [
    "Ry  = loadtxt('Ry.txt',unpack=True) \n",
    "Ry  = asmatrix(Ry.T)\n",
    "Xs  = linspace(-pi,pi,101)\n",
    "Ys  = linspace(0,2,101) \n",
    "\n",
    "if cal_value == True:\n",
    "    val = 50#where(Rx == amax(Rx))[0][0]\n",
    "    nval = Ys[val]\n",
    "    savetxt(\"gamma_value.txt\",[nval],fmt = '%s', comments = '')\n",
    "    savetxt(\"cut_value.txt\",[val],fmt = '%s', comments = '')\n",
    "else:\n",
    "    nval = float(nval)\n",
    "\n",
    "\n",
    "fig,ax = plt.subplots(figsize=(7,6))\n",
    "z_min, z_max = Ry.min(), Ry.max()\n",
    "levels = linspace(-19, 19, 40)\n",
    "#bar = ax.contourf(Xs, Ys, Rx, cmap='RdBu',levels=levels, vmin=-19, vmax=19)\n",
    "bar = ax.pcolormesh(Xs, Ys, Ry, cmap='PuOr', vmin=-50, vmax=50)\n",
    "#bar = ax.imshow(flip(Rx))\n",
    "ax.plot([-pi/2,-pi/2],[0,2],ls='--', c='black')\n",
    "ax.plot([pi/2,pi/2],[0,2],ls='--', c='black')\n",
    "ax.plot([-pi,pi],[nval,nval],ls='--', c='black')\n",
    "\n",
    "ax.axis([Xs.min(), Xs.max(), Ys.min(), Ys.max()])\n",
    "c = fig.colorbar(bar, ax=ax, ticks=[-50,0,50])\n",
    "c.set_ticklabels([\"Min\", \"0\", \"Max\"])\n",
    "ax.set_xlabel('$\\\\theta$')\n",
    "ax.set_ylabel('$\\gamma/\\lambda$')\n",
    "ax.set_xticks([-pi,-pi/2,0,pi/2,pi])\n",
    "ax.set_xticklabels(['$-\\pi$','$-\\pi/2$','0','$\\pi/2$','$\\pi$'])\n",
    "ax.set_yticks([0,nval,2])\n",
    "plt.tight_layout()\n",
    "plt.savefig('images/current_square_pumpy.png')\n",
    "plt.savefig('images/current_square_pumpy.pdf')\n",
    "\n",
    "#fig.write_image(\"images/param_pump_Currenty_{}.png\".format(round(nval,2)))"
   ]
  },
  {
   "cell_type": "code",
   "execution_count": 127,
   "metadata": {},
   "outputs": [
    {
     "ename": "IndexError",
     "evalue": "list index out of range",
     "output_type": "error",
     "traceback": [
      "\u001b[0;31m---------------------------------------------------------------------------\u001b[0m",
      "\u001b[0;31mIndexError\u001b[0m                                Traceback (most recent call last)",
      "Input \u001b[0;32mIn [127]\u001b[0m, in \u001b[0;36m<cell line: 6>\u001b[0;34m()\u001b[0m\n\u001b[1;32m     18\u001b[0m Ek1, U1 \u001b[38;5;241m=\u001b[39m eigh(H1)\n\u001b[1;32m     19\u001b[0m Ek1 \u001b[38;5;241m=\u001b[39m np\u001b[38;5;241m.\u001b[39mreal(Ek1)\n\u001b[0;32m---> 20\u001b[0m s1 \u001b[38;5;241m=\u001b[39m \u001b[43mdensity_of_states\u001b[49m\u001b[43m(\u001b[49m\u001b[43mEk1\u001b[49m\u001b[38;5;241;43m.\u001b[39;49m\u001b[43mT\u001b[49m\u001b[43m,\u001b[49m\u001b[43mU1\u001b[49m\u001b[38;5;241;43m.\u001b[39;49m\u001b[43mT\u001b[49m\u001b[43m,\u001b[49m\u001b[43marg\u001b[49m\u001b[38;5;241;43m=\u001b[39;49m\u001b[38;5;124;43m'\u001b[39;49m\u001b[38;5;124;43mneg\u001b[39;49m\u001b[38;5;124;43m'\u001b[39;49m\u001b[43m)\u001b[49m\n\u001b[1;32m     22\u001b[0m Cx \u001b[38;5;241m=\u001b[39m [] \n\u001b[1;32m     23\u001b[0m Cy \u001b[38;5;241m=\u001b[39m []\n",
      "Input \u001b[0;32mIn [29]\u001b[0m, in \u001b[0;36mdensity_of_states\u001b[0;34m(Ek, U, arg)\u001b[0m\n\u001b[1;32m     10\u001b[0m ek \u001b[38;5;241m=\u001b[39m np\u001b[38;5;241m.\u001b[39mmean(Ek[Est])\n\u001b[1;32m     11\u001b[0m s \u001b[38;5;241m=\u001b[39m [np\u001b[38;5;241m.\u001b[39mreal(U[i]\u001b[38;5;241m*\u001b[39mU\u001b[38;5;241m.\u001b[39mconjugate()[i]) \u001b[38;5;28;01mfor\u001b[39;00m i \u001b[38;5;129;01min\u001b[39;00m Est]\n\u001b[0;32m---> 12\u001b[0m S \u001b[38;5;241m=\u001b[39m np\u001b[38;5;241m.\u001b[39mzeros(\u001b[38;5;28mlen\u001b[39m(\u001b[43ms\u001b[49m\u001b[43m[\u001b[49m\u001b[38;5;241;43m0\u001b[39;49m\u001b[43m]\u001b[49m))\n\u001b[1;32m     13\u001b[0m \u001b[38;5;28;01mfor\u001b[39;00m i \u001b[38;5;129;01min\u001b[39;00m \u001b[38;5;28mrange\u001b[39m(\u001b[38;5;28mlen\u001b[39m(s)):\n\u001b[1;32m     14\u001b[0m     S \u001b[38;5;241m+\u001b[39m\u001b[38;5;241m=\u001b[39m s[i] \n",
      "\u001b[0;31mIndexError\u001b[0m: list index out of range"
     ]
    }
   ],
   "source": [
    "import plotly.figure_factory as ff\n",
    "Rx = []\n",
    "Ry = []\n",
    "γs = linspace(0,2,101)\n",
    "γs = delete(γs,0)\n",
    "for γ in γs:\n",
    "    Pi_array = linspace(-pi,pi,101)\n",
    "\n",
    "    H0 = Hoti_Hamiltonian_transport(0.5,-pi,γ)\n",
    "    Ek0, U0 = eigh(H0)\n",
    "    Ek0 = np.real(Ek0)\n",
    "    s0 = density_of_states(Ek0.T,U0.T, arg='neg')\n",
    "    n = 0\n",
    "    jx = []\n",
    "    jy = []\n",
    "    for θ in Pi_array[1:]:\n",
    "        H1 = Hoti_Hamiltonian_transport(0.5,θ,γ)\n",
    "        Ek1, U1 = eigh(H1)\n",
    "        Ek1 = np.real(Ek1)\n",
    "        s1 = density_of_states(Ek1.T,U1.T,arg='neg')\n",
    "\n",
    "        Cx = [] \n",
    "        Cy = []\n",
    "        Cu = [] \n",
    "        Cv = []\n",
    "        for z in np.unique(f):\n",
    "            find = [j for j,val in enumerate(f) if val == z]\n",
    "            X = [x[i] for i in find]\n",
    "            Y = [y[i] for i in find]\n",
    "            S0 = [s0[i] for i in find]\n",
    "            S1 = [s1[i] for i in find]\n",
    "            xmax = np.amax(X)\n",
    "            xmin = np.amin(X)\n",
    "            ymax = np.amax(Y)\n",
    "            ymin = np.amin(Y)\n",
    "            rx = (xmax + xmin)/2\n",
    "            ry = (ymax + ymin)/2\n",
    "            if (rx < 9) and (ry < 9):\n",
    "                #print(\"({},{})\".format(rx,ry))\n",
    "                Jx = vdot(subtract(S1,S0),X-rx)\n",
    "                Jy = vdot(subtract(S1,S0),Y-ry)\n",
    "                Cx.append(rx)\n",
    "                Cy.append(ry)\n",
    "                Cu.append(2000*Jx)\n",
    "                Cv.append(2000*Jy)\n",
    "\n",
    "        jx.append(sum(Cu))\n",
    "        jy.append(sum(Cv))\n",
    "        U0 = U1 \n",
    "        Ek0 = Ek1\n",
    "        s0 = s1  \n",
    "        n+=1\n",
    "    Rx.append(jx)\n",
    "    Ry.append(jy)\n",
    "\n",
    "savetxt(\"Rx_neg.txt\",Rx,fmt = '%s', comments = '')  \n",
    "savetxt(\"Ry_neg.txt\",Ry,fmt = '%s', comments = '')  "
   ]
  },
  {
   "cell_type": "code",
   "execution_count": null,
   "metadata": {},
   "outputs": [],
   "source": [
    "Rx  = loadtxt('Rx_neg.txt',unpack=True) \n",
    "Rx  = asmatrix(Rx.T)\n",
    "Xs  = linspace(-pi,pi,101)\n",
    "Ys  = linspace(0,2,101) \n",
    "\n",
    "if cal_value == True:\n",
    "    val = 50#where(Rx == amax(Rx))[0][0]\n",
    "    nval = Ys[val]\n",
    "    savetxt(\"gamma_value.txt\",[nval],fmt = '%s', comments = '')\n",
    "    savetxt(\"cut_value.txt\",[val],fmt = '%s', comments = '')\n",
    "else:\n",
    "    nval = float(nval)\n",
    "\n",
    "\n",
    "fig,ax = plt.subplots(figsize=(7,6))\n",
    "z_min, z_max = Rx.min(), Rx.max()\n",
    "levels = linspace(-19, 19, 40)\n",
    "#bar = ax.contourf(Xs, Ys, Rx, cmap='RdBu',levels=levels, vmin=-19, vmax=19)\n",
    "bar = ax.pcolormesh(Xs, Ys, Rx, cmap='PuOr', vmin=-50, vmax=50)\n",
    "#bar = ax.imshow(flip(Rx))\n",
    "ax.plot([-pi/2,-pi/2],[0,2],ls='--', c='black')\n",
    "ax.plot([pi/2,pi/2],[0,2],ls='--', c='black')\n",
    "ax.plot([-pi,pi],[nval,nval],ls='--', c='black')\n",
    "\n",
    "ax.axis([Xs.min(), Xs.max(), Ys.min(), Ys.max()])\n",
    "c = fig.colorbar(bar, ax=ax, ticks=[-50,0,50])\n",
    "c.set_ticklabels([\"Min\", \"0\", \"Max\"])\n",
    "ax.set_xlabel('$\\\\theta$')\n",
    "ax.set_ylabel('$\\gamma/\\lambda$')\n",
    "ax.set_xticks([-pi,-pi/2,0,pi/2,pi])\n",
    "ax.set_xticklabels(['$-\\pi$','$-\\pi/2$','0','$\\pi/2$','$\\pi$'])\n",
    "ax.set_yticks([0,nval,2])\n",
    "plt.tight_layout()\n",
    "plt.savefig('images/current_square_pump.png')\n",
    "plt.savefig('images/current_square_pump.pdf')\n",
    "\n",
    "#fig.write_image(\"images/param_pump_Currenty_{}.png\".format(round(nval,2)))"
   ]
  },
  {
   "cell_type": "code",
   "execution_count": null,
   "metadata": {},
   "outputs": [],
   "source": [
    "index = argsort(S0)[-4:]\n",
    "\n",
    "step = 101\n",
    "γs = linspace(0,2,step)\n",
    "θs = linspace(-pi,pi,step)\n",
    "\n",
    "M = zeros([step,step])\n",
    "\n",
    "\n",
    "for i in range(step):\n",
    "    for j in range(step):\n",
    "        H = Hoti_Hamiltonian_transport(A,θs[i],γs[j])\n",
    "        Ek, U = eigh(H)\n",
    "        Ek = np.real(Ek)\n",
    "        S = density_of_states(Ek.T,U.T)\n",
    "        M[i,j]  =  sum(S[index])/4\n",
    "        \n",
    "savetxt(\"param_pump_density_pump.txt\",M,fmt = '%s', comments = '')\n"
   ]
  },
  {
   "cell_type": "code",
   "execution_count": 128,
   "metadata": {},
   "outputs": [
    {
     "name": "stderr",
     "output_type": "stream",
     "text": [
      "/tmp/ipykernel_178028/3220531876.py:10: MatplotlibDeprecationWarning:\n",
      "\n",
      "For X (102) and Y (102) with flat shading, the expected shape of A is (101, 101). Passing A ((1, 10201)) is deprecated since 3.5 and will become an error two minor releases later.\n",
      "\n"
     ]
    },
    {
     "data": {
      "image/png": "[encoded data removed]",
      "text/plain": [
       "<Figure size 504x432 with 2 Axes>"
      ]
     },
     "metadata": {
      "needs_background": "light"
     },
     "output_type": "display_data"
    }
   ],
   "source": [
    "M = loadtxt(\"param_pump_density_pump.txt\",unpack=True)\n",
    "\n",
    "M  = asmatrix(M)\n",
    "Xs  = linspace(-pi,pi,101)\n",
    "Ys  = linspace(0,2,101) \n",
    "\n",
    "\n",
    "fig,ax = plt.subplots(figsize=(7,6))\n",
    "z_min, z_max = M.min(), M.max()\n",
    "bar = ax.pcolormesh(Xs, Ys, M, cmap='winter', vmin=0, vmax=z_max)\n",
    "\n",
    "ax.plot([-pi/2,-pi/2],[0,2],ls='--', c='black')\n",
    "ax.plot([pi/2,pi/2],[0,2],ls='--', c='black')\n",
    "ax.plot([-pi,pi],[nval,nval],ls='--', c='black')\n",
    "\n",
    "ax.axis([Xs.min(), Xs.max(), Ys.min(), Ys.max()])\n",
    "c = fig.colorbar(bar, ax=ax, ticks=[0,z_max])\n",
    "c.set_ticklabels([\"0\", \"1/4\"])\n",
    "ax.set_xlabel('$\\\\theta$')\n",
    "ax.set_ylabel('$\\gamma/\\lambda$')\n",
    "ax.set_xticks([-pi,-pi/2,0,pi/2,pi])\n",
    "ax.set_xticklabels(['$-\\pi$','$-\\pi/2$','0','$\\pi/2$','$\\pi$'])\n",
    "ax.set_yticks([0,nval,2])\n",
    "plt.tight_layout()\n",
    "plt.savefig('images/Density_square_pump.png')\n",
    "plt.savefig('images/Density_square_pump.pdf')\n",
    "#fig.show()"
   ]
  },
  {
   "cell_type": "code",
   "execution_count": 129,
   "metadata": {},
   "outputs": [
    {
     "data": {
      "image/png": "[encoded data removed]",
      "text/plain": [
       "<Figure size 504x432 with 1 Axes>"
      ]
     },
     "metadata": {
      "needs_background": "light"
     },
     "output_type": "display_data"
    }
   ],
   "source": [
    "fig,ax = plt.subplots(figsize=(7,6))\n",
    "\n",
    "Rx_neg  = loadtxt('Rx_neg.txt',unpack=True)\n",
    "Rx_neg  = asmatrix(Rx_neg.T)\n",
    "\n",
    "Rx  = loadtxt('Rx.txt',unpack=True)\n",
    "Rx  = asmatrix(Rx.T)\n",
    "\n",
    "CutCx = array(Rx[val]).reshape(100)\n",
    "CutNCx = array(Rx_neg[val]).reshape(100)\n",
    "#CutDx = array(M[val]*100).reshape(101)\n",
    "#ax.plot(Xs[1:],Cutx)\n",
    "\n",
    "colorline(Xs[1:],CutCx,ax,CutCx,cmap='PuOr')\n",
    "colorline(Xs[1:],CutNCx,ax,CutNCx,cmap='PuOr')\n",
    "#colorline(Xs,CutDx,ax,CutDx,cmap='winter')\n",
    "\n",
    "ax.plot([-pi/2,-pi/2],[-20,20],ls='--', c='black')\n",
    "#ax.plot([pi/2,pi/2],[-20,20],ls='--', c='black')\n",
    "#c = fig.colorbar(bar, ax=ax, ticks=[-19,0,19])\n",
    "#ax.set_yticks([CutCx.min(),0,CutCx.max()])\n",
    "#ax.set_yticklabels([\"Min\", \"0\", \"Max\"])\n",
    "#ax.set_ylim((CutCx.min(),CutCx.max()))\n",
    "#ax.set_ylabel('$\\sum_{c}\\sum_{cell} (d \\\\rho_i/dt) R_i\\cdot\\hat{x}$')\n",
    "#ax.set_xticks([-pi,-pi/2,0,pi/2,pi])\n",
    "#ax.set_xticklabels(['$-\\pi$','$-\\pi/2$','0','$\\pi/2$','$\\pi$'])\n",
    "ax.set_facecolor('#D3D3D3')"
   ]
  },
  {
   "cell_type": "markdown",
   "metadata": {},
   "source": [
    "### Simulations"
   ]
  },
  {
   "cell_type": "code",
   "execution_count": 130,
   "metadata": {},
   "outputs": [],
   "source": [
    "S_array = []\n",
    "Pi_array = linspace(-pi,pi,51)\n",
    "for θ in Pi_array:\n",
    "    H = Hoti_Hamiltonian_transport(0.5,θ,0.5)\n",
    "    Ek, U = eigh(H)\n",
    "    Ek = np.real(Ek)\n",
    "    S = density_of_states(Ek.T,U.T, arg='pos') \n",
    "    S_array.append(S)"
   ]
  },
  {
   "cell_type": "code",
   "execution_count": 131,
   "metadata": {},
   "outputs": [
    {
     "data": {
      "image/png": "[encoded data removed]",
      "text/plain": [
       "<Figure size 432x432 with 2 Axes>"
      ]
     },
     "metadata": {
      "needs_background": "light"
     },
     "output_type": "display_data"
    }
   ],
   "source": [
    "import numpy as np\n",
    "import matplotlib.pyplot as plt\n",
    "import matplotlib.animation as animation\n",
    "from mpl_toolkits.axes_grid1 import make_axes_locatable\n",
    "\n",
    "fig,ax = plt.subplots(figsize=(6,6))#ax = fig.add_subplot(111)\n",
    "\n",
    "div = make_axes_locatable(ax)\n",
    "cax = div.append_axes('right', '5%', '5%')\n",
    "\n",
    "ax.scatter(x,y, s=10,c ='black')\n",
    "\n",
    "\n",
    "def animate(i):\n",
    "    ax.clear()\n",
    "    cf = ax.scatter(x,y, s=S_array[i]*10000, alpha=0.8,c=S_array[i], \n",
    "                 cmap='winter',edgecolor='black', vmin=0,vmax=0.25)\n",
    "    cax.cla()\n",
    "    fig.colorbar(cf, cax=cax, ticks=[0,round(S_array[i][0],2),0.25])\n",
    "    c.ax.plot([0, 0.25], \n",
    "              [round(S_array[i][0],2),round(S_array[i][0],2)], 'w')\n",
    "    ax.set_xlim((-2.5,19.5))\n",
    "    ax.set_ylim((-2.5,19.5))\n",
    "    ax.set_aspect('equal')\n",
    "    ax.axis(\"off\")\n",
    "    fig.tight_layout()\n",
    "\n",
    "\n",
    "ani = animation.FuncAnimation(fig, animate, frames=len(S_array))\n",
    "ani.save('proyection_pump.gif', fps=12)\n",
    "plt.show()"
   ]
  },
  {
   "cell_type": "code",
   "execution_count": 132,
   "metadata": {
    "scrolled": true
   },
   "outputs": [],
   "source": [
    "import plotly.figure_factory as ff\n",
    "step = 25\n",
    "S_array = []\n",
    "Pi_array = linspace(-pi,pi,step)\n",
    "for θ in Pi_array:\n",
    "    H = Hoti_Hamiltonian_transport(A,θ,nval)\n",
    "    Ek, U = eigh(H)\n",
    "    Ek = np.real(Ek)\n",
    "    S = density_of_states(Ek.T,U.T, arg='pos') \n",
    "    S_array.append(S)\n",
    "    \n",
    "#print(S_array)\n",
    "H0 = Hoti_Hamiltonian_transport(A,-pi,nval)\n",
    "Ek0, U0 = eigh(H0)\n",
    "Ek0 = np.real(Ek0)\n",
    "s0 = density_of_states(Ek0.T,U0.T, arg='pos')\n",
    "n = 0\n",
    "\n",
    "ArrCx = [] \n",
    "ArrCy = []\n",
    "ArrCu = [] \n",
    "ArrCv = []\n",
    "ArrS  = []\n",
    "for θ in Pi_array[1:]:\n",
    "    H1 = Hoti_Hamiltonian_transport(A,θ,nval)\n",
    "    Ek1, U1 = eigh(H1)\n",
    "    Ek1 = np.real(Ek1)\n",
    "    s1 = density_of_states(Ek1.T,U1.T, arg='pos')\n",
    "    \n",
    "    Cx = [] \n",
    "    Cy = []\n",
    "    Cu = [] \n",
    "    Cv = []\n",
    "    for z in np.unique(f):\n",
    "        find = [j for j,val in enumerate(f) if val == z]\n",
    "        X = [x[i] for i in find]\n",
    "        Y = [y[i] for i in find]\n",
    "        S0 = [s0[i] for i in find]\n",
    "        S1 = [s1[i] for i in find]\n",
    "        xmax = np.amax(X)\n",
    "        xmin = np.amin(X)\n",
    "        ymax = np.amax(Y)\n",
    "        ymin = np.amin(Y)\n",
    "        rx = (xmax + xmin)/2\n",
    "        ry = (ymax + ymin)/2\n",
    "        Jx = vdot(subtract(S1,S0),X-rx)\n",
    "        Jy = vdot(subtract(S1,S0),Y-ry)\n",
    "        Cx.append(rx)\n",
    "        Cy.append(ry)\n",
    "        Cu.append(Jx)\n",
    "        Cv.append(Jy)\n",
    "        \n",
    "    ArrCx.append(Cx)\n",
    "    ArrCy.append(Cy)\n",
    "    ArrCu.append(Cu)\n",
    "    ArrCv.append(Cv)\n",
    "    ArrS.append(s1)\n",
    "    \n",
    "    \n",
    "    U0 = U1 \n",
    "    Ek0 = Ek1\n",
    "    s0 = s1  \n",
    "    n+=1     "
   ]
  },
  {
   "cell_type": "code",
   "execution_count": 133,
   "metadata": {
    "scrolled": true
   },
   "outputs": [
    {
     "ename": "IndexError",
     "evalue": "list index out of range",
     "output_type": "error",
     "traceback": [
      "\u001b[0;31m---------------------------------------------------------------------------\u001b[0m",
      "\u001b[0;31mIndexError\u001b[0m                                Traceback (most recent call last)",
      "Input \u001b[0;32mIn [133]\u001b[0m, in \u001b[0;36m<cell line: 9>\u001b[0;34m()\u001b[0m\n\u001b[1;32m     50\u001b[0m Indexcolor \u001b[38;5;241m=\u001b[39m [Cu[i] \u001b[38;5;28;01mfor\u001b[39;00m i \u001b[38;5;129;01min\u001b[39;00m \u001b[38;5;28mrange\u001b[39m(\u001b[38;5;28mlen\u001b[39m(Cx)) \u001b[38;5;28;01mif\u001b[39;00m Cx[i]\u001b[38;5;241m<\u001b[39m\u001b[38;5;241m9\u001b[39m \u001b[38;5;129;01mand\u001b[39;00m Cy[i]\u001b[38;5;241m<\u001b[39m\u001b[38;5;241m9\u001b[39m]\n\u001b[1;32m     51\u001b[0m indexcolor \u001b[38;5;241m=\u001b[39m \u001b[38;5;28mint\u001b[39m(norm(\u001b[38;5;28msum\u001b[39m(Indexcolor)\u001b[38;5;241m*\u001b[39m\u001b[38;5;241m200\u001b[39m)\u001b[38;5;241m*\u001b[39m\u001b[38;5;241m51\u001b[39m)\n\u001b[1;32m     53\u001b[0m ax[\u001b[38;5;241m1\u001b[39m]\u001b[38;5;241m.\u001b[39mquiver(Cx,Cy, size\u001b[38;5;241m*\u001b[39mCu\u001b[38;5;241m/\u001b[39mnr,size\u001b[38;5;241m*\u001b[39mCv\u001b[38;5;241m/\u001b[39mnr, scale_units\u001b[38;5;241m=\u001b[39m\u001b[38;5;124m'\u001b[39m\u001b[38;5;124mxy\u001b[39m\u001b[38;5;124m'\u001b[39m, scale\u001b[38;5;241m=\u001b[39m\u001b[38;5;241m0.3\u001b[39m, \n\u001b[0;32m---> 54\u001b[0m              width\u001b[38;5;241m=\u001b[39m\u001b[38;5;241m0.01\u001b[39m,color\u001b[38;5;241m=\u001b[39m\u001b[43mcolor\u001b[49m\u001b[43m[\u001b[49m\u001b[43mindexcolor\u001b[49m\u001b[43m]\u001b[49m, edgecolor\u001b[38;5;241m=\u001b[39m\u001b[38;5;124m'\u001b[39m\u001b[38;5;124mblack\u001b[39m\u001b[38;5;124m'\u001b[39m, linewidth \u001b[38;5;241m=\u001b[39m \u001b[38;5;241m1\u001b[39m)\n\u001b[1;32m     55\u001b[0m \u001b[38;5;66;03m#ax[0].scatter([Pi_array[1:][i]],[sum(Indexcolor)*200])\u001b[39;00m\n\u001b[1;32m     56\u001b[0m \n\u001b[1;32m     57\u001b[0m \u001b[38;5;66;03m#ax[1].set_facecolor('#D3D3D3')\u001b[39;00m\n\u001b[1;32m     58\u001b[0m ax[\u001b[38;5;241m1\u001b[39m]\u001b[38;5;241m.\u001b[39mset_xlim((\u001b[38;5;241m-\u001b[39m\u001b[38;5;241m2.5\u001b[39m,\u001b[38;5;241m19.5\u001b[39m))\n",
      "\u001b[0;31mIndexError\u001b[0m: list index out of range"
     ]
    },
    {
     "data": {
      "image/png": "[encoded data removed]",
      "text/plain": [
       "<Figure size 1008x504 with 2 Axes>"
      ]
     },
     "metadata": {
      "needs_background": "light"
     },
     "output_type": "display_data"
    }
   ],
   "source": [
    "#pip install mycolorpy\n",
    "from mycolorpy import colorlist as mcp\n",
    "max_nr = norm([amax(asmatrix(ArrCu)),amax(asmatrix(ArrCv))])\n",
    "n = len(ArrCx)\n",
    "CutCx = array(Rx[val]).reshape(100)\n",
    "#CutDx = array(M[val]*100).reshape(101)\n",
    "\n",
    "\n",
    "for i in range(n):\n",
    "    Cx  = ArrCx[0]\n",
    "    Cy  = ArrCy[0]\n",
    "    Cu  = array(ArrCu[i])\n",
    "    Cv  = array(ArrCv[i])\n",
    "    s1  = ArrS[i]\n",
    "    \n",
    "    fig, ax = plt.subplots(1,2, figsize=(14,7))\n",
    "    \n",
    "    #plot corte de parametros    \n",
    "\n",
    "    colorline(Xs[1:],CutCx,ax[0],CutCx,cmap='PuOr')\n",
    "    #colorline(Xs,CutDx,ax[0],CutDx,cmap='winter')\n",
    "    \n",
    "    ax[0].plot([Pi_array[1:][i],Pi_array[1:][i]],[-20,20],ls='--', c='black')\n",
    "    \n",
    "    ax[0].plot([-pi/2,-pi/2],[-20,20], c='black')\n",
    "    ax[0].plot([pi/2,pi/2],[-20,20], c='black')\n",
    "    #c = fig.colorbar(bar, ax=ax, ticks=[-19,0,19])\n",
    "    ax[0].set_yticks([CutCx.min(),0,CutCx.max()])\n",
    "    ax[0].set_yticklabels([\"Min\", \"0\", \"Max\"])\n",
    "    ax[0].set_ylim((CutCx.min(),CutCx.max()))\n",
    "    #ax.set_ylabel('$\\sum_{c}\\sum_{cell} (d \\\\rho_i/dt) R_i\\cdot\\hat{x}$')\n",
    "    ax[0].set_xlabel('$\\\\theta$')\n",
    "    ax[0].set_xticks([-pi,-pi/2,0,pi/2,pi])\n",
    "    ax[0].set_xticklabels(['$-\\pi$','$-\\pi/2$','0','$\\pi/2$','$\\pi$'])\n",
    "    \n",
    "    \n",
    "    #plot proyeccion en el tiempo\n",
    "    ax[1].scatter(x,y, s=S_array[i]*10000, alpha=0.8,c=S_array[i], \n",
    "                 cmap='winter',edgecolor='black',linewidth = 1,vmin=0, vmax=0.25)\n",
    "    \n",
    "    \n",
    "    nr    = sqrt(Cu*Cu + Cv*Cv)\n",
    "    size  = log(nr+1)/log(max(nr)+1)\n",
    "     \n",
    "    color=mcp.gen_color(cmap=\"PuOr\",n=51)  \n",
    "    norm = matplotlib.colors.Normalize()\n",
    "    norm.autoscale(CutCx)\n",
    "    \n",
    "    \n",
    "    Indexcolor = [Cu[i] for i in range(len(Cx)) if Cx[i]<9 and Cy[i]<9]\n",
    "    indexcolor = int(norm(sum(Indexcolor)*200)*51)\n",
    "    \n",
    "    ax[1].quiver(Cx,Cy, size*Cu/nr,size*Cv/nr, scale_units='xy', scale=0.3, \n",
    "                 width=0.01,color=color[indexcolor], edgecolor='black', linewidth = 1)\n",
    "    #ax[0].scatter([Pi_array[1:][i]],[sum(Indexcolor)*200])\n",
    "    \n",
    "    #ax[1].set_facecolor('#D3D3D3')\n",
    "    ax[1].set_xlim((-2.5,19.5))\n",
    "    ax[1].set_ylim((-2.5,19.5))\n",
    "    ax[1].set_aspect('equal')\n",
    "    ax[1].axis(\"off\")\n",
    "\n",
    "\n",
    "    fig.savefig('images/video_images/hoti_pomp_cut{}.pdf'.format(i))\n",
    "    fig.show()\n",
    "   \n"
   ]
  },
  {
   "cell_type": "code",
   "execution_count": null,
   "metadata": {},
   "outputs": [],
   "source": [
    "import plotly.figure_factory as ff\n",
    "step = 52\n",
    "S_array = []\n",
    "Pi_array = linspace(-pi,pi,step)\n",
    "for θ in Pi_array:\n",
    "    H = Hoti_Hamiltonian_transport(A,θ,nval)\n",
    "    Ek, U = eigh(H)\n",
    "    Ek = np.real(Ek)\n",
    "    S = density_of_states(Ek.T,U.T) \n",
    "    S_array.append(S)\n",
    "    \n",
    "#print(S_array)\n",
    "H0 = Hoti_Hamiltonian_transport(A,-pi,nval)\n",
    "Ek0, U0 = eigh(H0)\n",
    "Ek0 = np.real(Ek0)\n",
    "s0 = density_of_states(Ek0.T,U0.T)\n",
    "n = 0\n",
    "\n",
    "ArrCx = [] \n",
    "ArrCy = []\n",
    "ArrCu = [] \n",
    "ArrCv = []\n",
    "ArrS  = []\n",
    "for θ in Pi_array[1:]:\n",
    "    H1 = Hoti_Hamiltonian_transport(A,θ,nval)\n",
    "    Ek1, U1 = eigh(H1)\n",
    "    Ek1 = np.real(Ek1)\n",
    "    s1 = density_of_states(Ek1.T,U1.T)\n",
    "    \n",
    "    Cx = [] \n",
    "    Cy = []\n",
    "    Cu = [] \n",
    "    Cv = []\n",
    "    for z in np.unique(f):\n",
    "        find = [j for j,val in enumerate(f) if val == z]\n",
    "        X = [x[i] for i in find]\n",
    "        Y = [y[i] for i in find]\n",
    "        S0 = [s0[i] for i in find]\n",
    "        S1 = [s1[i] for i in find]\n",
    "        xmax = np.amax(X)\n",
    "        xmin = np.amin(X)\n",
    "        ymax = np.amax(Y)\n",
    "        ymin = np.amin(Y)\n",
    "        rx = (xmax + xmin)/2\n",
    "        ry = (ymax + ymin)/2\n",
    "        Jx = vdot(subtract(S1,S0),X-rx)\n",
    "        Jy = vdot(subtract(S1,S0),Y-ry)\n",
    "        Cx.append(rx)\n",
    "        Cy.append(ry)\n",
    "        Cu.append(Jx)\n",
    "        Cv.append(Jy)\n",
    "        \n",
    "    ArrCx.append(Cx)\n",
    "    ArrCy.append(Cy)\n",
    "    ArrCu.append(Cu)\n",
    "    ArrCv.append(Cv)\n",
    "    ArrS.append(s1)\n",
    "    \n",
    "    \n",
    "    U0 = U1 \n",
    "    Ek0 = Ek1\n",
    "    s0 = s1  \n",
    "    n+=1     "
   ]
  },
  {
   "cell_type": "code",
   "execution_count": null,
   "metadata": {},
   "outputs": [],
   "source": [
    "#pip install mycolorpy\n",
    "from mycolorpy import colorlist as mcp\n",
    "max_nr = norm([amax(asmatrix(ArrCu)),amax(asmatrix(ArrCv))])\n",
    "n = len(ArrCx)\n",
    "CutCx = array(Rx[val]).reshape(100)\n",
    "CutDx = array(M[val]*100).reshape(101)\n",
    "\n",
    "\n",
    "for i in range(n):\n",
    "    Cx  = ArrCx[0]\n",
    "    Cy  = ArrCy[0]\n",
    "    Cu  = array(ArrCu[i])\n",
    "    Cv  = array(ArrCv[i])\n",
    "    s1  = ArrS[i]\n",
    "    \n",
    "    fig, ax = plt.subplots(1,2, figsize=(14,7))\n",
    "    \n",
    "    #plot corte de parametros    \n",
    "\n",
    "    colorline(Xs[1:],CutCx,ax[0],CutCx,cmap='PuOr')\n",
    "    colorline(Xs,CutDx,ax[0],CutDx,cmap='winter')\n",
    "    \n",
    "    ax[0].plot([Pi_array[1:][i],Pi_array[1:][i]],[-20,20],ls='--', c='black')\n",
    "    \n",
    "    ax[0].plot([-pi/2,-pi/2],[-20,20], c='black')\n",
    "    ax[0].plot([pi/2,pi/2],[-20,20], c='black')\n",
    "    #c = fig.colorbar(bar, ax=ax, ticks=[-19,0,19])\n",
    "    ax[0].set_yticks([CutCx.min(),0,CutCx.max()])\n",
    "    ax[0].set_yticklabels([\"Min\", \"0\", \"Max\"])\n",
    "    ax[0].set_ylim((CutCx.min(),CutCx.max()))\n",
    "    #ax.set_ylabel('$\\sum_{c}\\sum_{cell} (d \\\\rho_i/dt) R_i\\cdot\\hat{x}$')\n",
    "    ax[0].set_xlabel('$\\\\theta$')\n",
    "    ax[0].set_xticks([-pi,-pi/2,0,pi/2,pi])\n",
    "    ax[0].set_xticklabels(['$-\\pi$','$-\\pi/2$','0','$\\pi/2$','$\\pi$'])\n",
    "    \n",
    "    \n",
    "    #plot proyeccion en el tiempo\n",
    "    ax[1].scatter(x,y, s=S_array[i]*10000, alpha=0.8,c=S_array[i], \n",
    "                 cmap='winter',edgecolor='black',linewidth = 1,vmin=0, vmax=0.25)\n",
    "    \n",
    "    \n",
    "    nr    = sqrt(Cu*Cu + Cv*Cv)\n",
    "    size  = log(nr+1)/log(max(nr)+1)\n",
    "     \n",
    "    color=mcp.gen_color(cmap=\"PuOr\",n=51)  \n",
    "    norm = matplotlib.colors.Normalize()\n",
    "    norm.autoscale(CutCx)\n",
    "    \n",
    "    \n",
    "    Indexcolor = [Cu[i] for i in range(len(Cx)) if Cx[i]<9 and Cy[i]<9]\n",
    "    indexcolor = int(norm(sum(Indexcolor)*200)*51)\n",
    "    \n",
    "    ax[1].quiver(Cx,Cy, size*Cu/nr,size*Cv/nr, scale_units='xy', scale=0.3, \n",
    "                 width=0.01,color=color[indexcolor], edgecolor='black', linewidth = 1)\n",
    "    #ax[0].scatter([Pi_array[1:][i]],[sum(Indexcolor)*200])\n",
    "    \n",
    "    #ax[1].set_facecolor('#D3D3D3')\n",
    "    ax[1].set_xlim((-2.5,19.5))\n",
    "    ax[1].set_ylim((-2.5,19.5))\n",
    "    ax[1].set_aspect('equal')\n",
    "    ax[1].axis(\"off\")\n",
    "\n",
    "\n",
    "    fig.savefig('images/video_images/hoti_pomp_cut{}.png'.format(i))\n",
    "    fig.show()   "
   ]
  },
  {
   "cell_type": "code",
   "execution_count": null,
   "metadata": {},
   "outputs": [],
   "source": [
    "import plotly.figure_factory as ff\n",
    "Pi_array = linspace(-pi,pi,25)\n",
    "\n",
    "H0 = Hoti_Hamiltonian_transport(A,-pi,nval)\n",
    "Ek0, U0 = eigh(H0)\n",
    "Ek0 = np.real(Ek0)\n",
    "s0 = density_of_states(Ek0.T,U0.T)\n",
    "n = 0\n",
    "\n",
    "ArrCx = [] \n",
    "ArrCy = []\n",
    "ArrCu = [] \n",
    "ArrCv = []\n",
    "ArrS  = []\n",
    "for θ in Pi_array[1:]:\n",
    "    H1 = Hoti_Hamiltonian_transport(A,θ,nval)\n",
    "    Ek1, U1 = eigh(H1)\n",
    "    Ek1 = np.real(Ek1)\n",
    "    s1 = density_of_states(Ek1.T,U1.T)\n",
    "    \n",
    "    Cx = [] \n",
    "    Cy = []\n",
    "    Cu = [] \n",
    "    Cv = []\n",
    "    for z in np.unique(f):\n",
    "        find = [j for j,val in enumerate(f) if val == z]\n",
    "        X = [x[i] for i in find]\n",
    "        Y = [y[i] for i in find]\n",
    "        S0 = [s0[i] for i in find]\n",
    "        S1 = [s1[i] for i in find]\n",
    "        xmax = np.amax(X)\n",
    "        xmin = np.amin(X)\n",
    "        ymax = np.amax(Y)\n",
    "        ymin = np.amin(Y)\n",
    "        rx = (xmax + xmin)/2\n",
    "        ry = (ymax + ymin)/2\n",
    "        Jx = vdot(subtract(S1,S0),X-rx)\n",
    "        Jy = vdot(subtract(S1,S0),Y-ry)\n",
    "        Cx.append(rx)\n",
    "        Cy.append(ry)\n",
    "        Cu.append(2000*Jx)\n",
    "        Cv.append(2000*Jy)\n",
    "        \n",
    "    ArrCx.append(Cx)\n",
    "    ArrCy.append(Cy)\n",
    "    ArrCu.append(Cu)\n",
    "    ArrCv.append(Cv)\n",
    "    ArrS.append(s1)\n",
    "    \n",
    "    \n",
    "    U0 = U1 \n",
    "    Ek0 = Ek1\n",
    "    s0 = s1  \n",
    "    n+=1     "
   ]
  },
  {
   "cell_type": "markdown",
   "metadata": {},
   "source": [
    "# Simulacion"
   ]
  },
  {
   "cell_type": "code",
   "execution_count": null,
   "metadata": {
    "scrolled": true
   },
   "outputs": [],
   "source": [
    "step = 24\n",
    "S_array = []\n",
    "Pi_array = linspace(-pi,pi,step)\n",
    "for θ in Pi_array:\n",
    "    H = Hoti_Hamiltonian_transport(A,θ,nval)\n",
    "    Ek, U = eigh(H)\n",
    "    Ek = np.real(Ek)\n",
    "    S = density_of_states(Ek.T,U.T) \n",
    "    S_array.append(S)\n",
    "    \n",
    "\n",
    "    δ = 1e-3\n",
    "C   = 1.0     # cm^-1\n",
    "κ   = 1    # μm^-1\n",
    "L   = 1   # μm\n",
    "A   = 0.7     # μm\n",
    "γ, λ = 1.0,nval\n",
    "\n",
    "\n",
    "def func_cext1(θ,γ = 1.0, λ = nval):\n",
    "    return  λ*exp(-κ*(L+A*cos(θ)))\n",
    "\n",
    "def func_cint1(θ,γ = 1.0, λ = nval):\n",
    "    return γ*exp(-κ*(L-A*cos(θ)))\n",
    "\n",
    "\n",
    "\n",
    "x,y,f,d = np.loadtxt(name_array,usecols=(1,2,4,5),skiprows=2,unpack=True)\n",
    "ind = np.argsort(f)\n",
    "#x,y,f = x[ind], y[ind], f[ind]\n",
    "\n",
    "r = 1.05\n",
    "Dic_r = {}\n",
    "natoms = int( len(x) )\n",
    "for n in range(natoms):\n",
    "    a = sqrt( (x[n]-x)*(x[n]-x) + (y[n]-y)*(y[n]-y) ) < r \n",
    "    vecinos = [i for i, x in enumerate(a) if x and i!=n]\n",
    "    Dic_r[n] = vecinos\n",
    "    \n",
    "Hr = Hoti_Hamiltonian(1.0, 4.5, conection=False)\n",
    "\n",
    "Hop = {}\n",
    "for i in Dic_r.keys():\n",
    "    Hop[i] = [real(Hr[i][j]) for j in range(len(Hr[i])) if Hr[i][j] != 0]\n",
    "count=0\n",
    "\n",
    "Jx  = loadtxt('Rx.txt',unpack=True) \n",
    "Jx  = asmatrix(Jx.T) \n",
    "jval = where(Jx == amax(Jx))[0][0]\n",
    "\n",
    "dic_x = {i : x[i] for i in range(len(x))}\n",
    "dic_y = {i : y[i] for i in range(len(y))}\n",
    "for θ in np.linspace(-pi,pi,step):\n",
    "    Nx = []\n",
    "    Ny = []\n",
    "    cx = (np.amax(x) + np.amin(x))/2\n",
    "    cy = (np.amax(y) + np.amin(y))/2\n",
    "    \n",
    "    for i in np.unique(f):\n",
    "        find = [j for j,val in enumerate(f) if val == i]\n",
    "        #print(find)\n",
    "        X = [x[i] for i in find]\n",
    "        Y = [y[i] for i in find]\n",
    "        xmax = np.amax(X)\n",
    "        xmin = np.amin(X)\n",
    "        ymax = np.amax(Y)\n",
    "        ymin = np.amin(Y)\n",
    "        #print(X)\n",
    "        #print(Y)\n",
    "        rx = ((xmax + xmin)/2 - cx)*func_cext1(θ,γ = 1.0, λ = 1.0)/2 + cx \n",
    "        ry = ((ymax + ymin)/2 - cy)*func_cext1(θ,γ = 1.0, λ = 1.0)/2 + cy\n",
    "\n",
    "        X = func_cint1(θ,γ = 1.0, λ = 1.0)*(X - rx) + rx\n",
    "        Y = func_cint1(θ,γ = 1.0, λ = 1.0)*(Y - ry) + ry\n",
    "        \n",
    "        for j in range(len(find)):\n",
    "            dic_x[find[j]] = X[j]\n",
    "            dic_y[find[j]] = Y[j]\n",
    "            \n",
    "        \n",
    "        \n",
    "    Rx = []\n",
    "    Ry = []\n",
    "    for i in np.unique(f):\n",
    "        find = [j for j,val in enumerate(f) if val == i]\n",
    "        X = [dic_x[i] for i in find]\n",
    "        Y = [dic_y[i] for i in find]\n",
    "        xmax = np.amax(X)\n",
    "        xmin = np.amin(X)\n",
    "        ymax = np.amax(Y)\n",
    "        ymin = np.amin(Y)\n",
    "        rx = (xmax + xmin)/2\n",
    "        ry = (ymax + ymin)/2\n",
    "        Rx.append(rx)\n",
    "        Ry.append(ry)\n",
    "\n",
    "    \n",
    "        \n",
    "    fig, ax = plt.subplots(1,2, figsize=(14,7))\n",
    "    #ax[1].plot(Nx,Ny, marker='o', color='black', markersize=2,linestyle=\"\")\n",
    "    #ax[1].scatter(Nx,Ny, color='red', alpha=0.9, s=S_array[count][ind]*20000)\n",
    "    \n",
    "    ω = np.linspace(-pi,pi,101)\n",
    "    CutDx = array(M[val]*200).reshape(101)\n",
    "    ω1 = np.linspace(-pi,pi,len(array(Jx[jval])[0]))\n",
    "    \n",
    "    \n",
    "\n",
    "    ax[0].plot(func_cint1(ω) - func_cext1(ω), sin(ω), color='black', ls='-', lw=4, alpha=0.1)\n",
    "    colorline(func_cint1(ω) - func_cext1(ω), sin(ω), ax[0], CutDx, cmap='winter')\n",
    "\n",
    "    \n",
    "        \n",
    "    mid = func_cint1(pi/2) - func_cext1(pi/2)\n",
    "    ax[0].plot([func_cint1(-pi) - func_cext1(-pi) , mid], [sin(-pi),0], marker='o',color='red', ls='-', lw=4)\n",
    "    ax[0].plot([func_cint1(0) - func_cext1(0) , mid], [sin(0),0], marker='o',color='blue', ls='-', lw=4)\n",
    "    \n",
    "    ax[0].arrow(func_cint1(pi/4) - func_cext1(pi/4), sin(pi/4), \n",
    "               -0.01,0.02,\n",
    "                  head_width=0.03, head_length=0.05, fc='black', ec='black')\n",
    "    \n",
    "    ax[0].text((func_cint1(-pi) - func_cext1(-pi) + func_cint1(pi/2) - func_cext1(pi/2))/2 - 0.1, \n",
    "               sin(-pi)+0.05,'Topológica' , color='black')\n",
    "    ax[0].text((func_cint1(pi/2) - func_cext1(pi/2) + func_cint1(0) - func_cext1(0))/2 - 0.1, \n",
    "               sin(-pi)+0.05,'Trivial' , color='black')\n",
    "    ax[0].plot([func_cint1(θ) - func_cext1(θ)], [sin(θ)], marker='o', color='black', markersize=20)\n",
    "\n",
    "\n",
    "    boxes = []\n",
    "    for i in range(len(Rx)):\n",
    "        rect = Rectangle((Rx[i]- 0.4, Ry[i] - 0.4), 0.8,0.8)\n",
    "        boxes.append(rect)\n",
    "    \n",
    "    for i in Dic_r.keys():\n",
    "        c = 0\n",
    "    \n",
    "        for v in Dic_r[i]:\n",
    "            #print(Hop[i][c])\n",
    "            if Hop[i][c] == 1:\n",
    "                ax[1].plot((dic_x[i],dic_x[v]),(dic_y[i],dic_y[v]),c = 'black', lw = 1)\n",
    "            elif Hop[i][c] == -1:\n",
    "                ax[1].plot((dic_x[i],dic_x[v]),(dic_y[i],dic_y[v]),c = 'black', lw = 1, ls = ':')\n",
    "            elif Hop[i][c] == 4.5:\n",
    "                ax[1].plot((dic_x[i],dic_x[v]),(dic_y[i],dic_y[v]),c = 'r', lw =1)\n",
    "            elif Hop[i][c] == -4.5:\n",
    "                ax[1].plot((dic_x[i],dic_x[v]),(dic_y[i],dic_y[v]),c = 'r', lw =1, ls = ':')\n",
    "            c+=1\n",
    "\n",
    "\n",
    "    pc = PatchCollection(boxes, facecolor='#e6e6e6', alpha=0.7,edgecolor='black')\n",
    "    ax[1].add_collection(pc)\n",
    "    #print(len(S_array))\n",
    "    \n",
    "    cmap = plt.get_cmap('RdBu', len(S_array))\n",
    "    cmaplist = [cmap(i) for i in range(cmap.N)]\n",
    "    \n",
    "    \n",
    "    Nx = [i for i in dic_x.values()]\n",
    "    Ny = [i for i in dic_y.values()]\n",
    "\n",
    "    ax[1].scatter(Nx,Ny, s=S_array[count]*10000, alpha=0.8,c=S_array[count], \n",
    "                 cmap='winter',edgecolor='black', vmin=0,vmax=0.25)\n",
    "    \n",
    "    \n",
    "    fig.tight_layout()\n",
    "    ax[1].set_aspect('equal')\n",
    "    #ax.set_title(r'$\\lambda = 4.5, \\gamma = 1$')\n",
    "    ax[1].set_xticks([])\n",
    "    ax[1].set_yticks([])\n",
    "    ax[1].set_xlim(min(x)+2, max(x)-2)\n",
    "    ax[1].set_ylim(min(y)+2, max(y)-2)\n",
    "    ax[1].axis(\"off\")\n",
    "\n",
    "    \n",
    "    \n",
    "    ax[0].set_ylabel(r'$\\epsilon(\\theta)$')\n",
    "    ax[0].set_xlabel(r'$\\lambda(\\theta) - \\gamma(\\theta)$')\n",
    "    ax[0].set_xticks([round(mid,2)])\n",
    "    ax[0].set_yticks([0.0])\n",
    "    ax[0].grid(linestyle='--', lw=2)\n",
    "    \n",
    "    fig.tight_layout()\n",
    "    #fig.savefig('hoti_pomp_{}.pdf'.format(θ))\n",
    "    fig.savefig('images/video_images2/hoti_pomp_{}.pdf'.format(count))\n",
    "    #fig.savefig('images/video_images2/hoti_pomp_{}.png'.format(count))\n",
    "    count+=1\n",
    "    \n",
    "    plt.show()"
   ]
  },
  {
   "cell_type": "code",
   "execution_count": null,
   "metadata": {},
   "outputs": [],
   "source": [
    "step = 51\n",
    "S_array = []\n",
    "Pi_array = linspace(-pi,pi,step)\n",
    "for θ in Pi_array:\n",
    "    H = Hoti_Hamiltonian_transport(A,θ,nval)\n",
    "    Ek, U = eigh(H)\n",
    "    Ek = np.real(Ek)\n",
    "    S = density_of_states(Ek.T,U.T) \n",
    "    S_array.append(S)\n",
    "    \n",
    "\n",
    "δ = 1e-3\n",
    "C   = 1.0     # cm^-1\n",
    "κ   = 1    # μm^-1\n",
    "L   = 1   # μm\n",
    "A   = 0.7     # μm\n",
    "γ, λ = 1.0,nval\n",
    "\n",
    "\n",
    "def func_cext1(θ,γ = 1.0, λ = nval):\n",
    "    return  λ*exp(-κ*(L+A*cos(θ)))\n",
    "\n",
    "def func_cint1(θ,γ = 1.0, λ = nval):\n",
    "    return γ*exp(-κ*(L-A*cos(θ)))\n",
    "\n",
    "\n",
    "\n",
    "x,y,f,d = np.loadtxt(name_array,usecols=(1,2,4,5),skiprows=2,unpack=True)\n",
    "ind = np.argsort(f)\n",
    "#x,y,f = x[ind], y[ind], f[ind]\n",
    "\n",
    "r = 1.05\n",
    "Dic_r = {}\n",
    "natoms = int( len(x) )\n",
    "for n in range(natoms):\n",
    "    a = sqrt( (x[n]-x)*(x[n]-x) + (y[n]-y)*(y[n]-y) ) < r \n",
    "    vecinos = [i for i, x in enumerate(a) if x and i!=n]\n",
    "    Dic_r[n] = vecinos\n",
    "    \n",
    "Hr = Hoti_Hamiltonian(1.0, 4.5, conection=False)\n",
    "\n",
    "Hop = {}\n",
    "for i in Dic_r.keys():\n",
    "    Hop[i] = [real(Hr[i][j]) for j in range(len(Hr[i])) if Hr[i][j] != 0]\n",
    "count=0\n",
    "\n",
    "Jx  = loadtxt('Rx.txt',unpack=True) \n",
    "Jx  = asmatrix(Jx.T) \n",
    "jval = where(Jx == amax(Jx))[0][0]\n",
    "\n",
    "dic_x = {i : x[i] for i in range(len(x))}\n",
    "dic_y = {i : y[i] for i in range(len(y))}\n",
    "for θ in np.linspace(-pi,pi,step):\n",
    "    Nx = []\n",
    "    Ny = []\n",
    "    cx = (np.amax(x) + np.amin(x))/2\n",
    "    cy = (np.amax(y) + np.amin(y))/2\n",
    "    \n",
    "    for i in np.unique(f):\n",
    "        find = [j for j,val in enumerate(f) if val == i]\n",
    "        #print(find)\n",
    "        X = [x[i] for i in find]\n",
    "        Y = [y[i] for i in find]\n",
    "        xmax = np.amax(X)\n",
    "        xmin = np.amin(X)\n",
    "        ymax = np.amax(Y)\n",
    "        ymin = np.amin(Y)\n",
    "        #print(X)\n",
    "        #print(Y)\n",
    "        rx = ((xmax + xmin)/2 - cx)*func_cext1(θ,γ = 1.0, λ = 1.0)/2 + cx \n",
    "        ry = ((ymax + ymin)/2 - cy)*func_cext1(θ,γ = 1.0, λ = 1.0)/2 + cy\n",
    "\n",
    "        X = func_cint1(θ,γ = 1.0, λ = 1.0)*(X - rx) + rx\n",
    "        Y = func_cint1(θ,γ = 1.0, λ = 1.0)*(Y - ry) + ry\n",
    "        \n",
    "        for j in range(len(find)):\n",
    "            dic_x[find[j]] = X[j]\n",
    "            dic_y[find[j]] = Y[j]\n",
    "            \n",
    "        \n",
    "        \n",
    "    Rx = []\n",
    "    Ry = []\n",
    "    for i in np.unique(f):\n",
    "        find = [j for j,val in enumerate(f) if val == i]\n",
    "        X = [dic_x[i] for i in find]\n",
    "        Y = [dic_y[i] for i in find]\n",
    "        xmax = np.amax(X)\n",
    "        xmin = np.amin(X)\n",
    "        ymax = np.amax(Y)\n",
    "        ymin = np.amin(Y)\n",
    "        rx = (xmax + xmin)/2\n",
    "        ry = (ymax + ymin)/2\n",
    "        Rx.append(rx)\n",
    "        Ry.append(ry)\n",
    "\n",
    "    \n",
    "        \n",
    "    fig, ax = plt.subplots(1,2, figsize=(14,7))\n",
    "    #ax[1].plot(Nx,Ny, marker='o', color='black', markersize=2,linestyle=\"\")\n",
    "    #ax[1].scatter(Nx,Ny, color='red', alpha=0.9, s=S_array[count][ind]*20000)\n",
    "    \n",
    "    ω = np.linspace(-pi,pi,101)\n",
    "    CutDx = array(M[val]*200).reshape(101)\n",
    "    ω1 = np.linspace(-pi,pi,len(array(Jx[jval])[0]))\n",
    "    \n",
    "    \n",
    "\n",
    "    ax[0].plot(func_cint1(ω) - func_cext1(ω), sin(ω), color='black', ls='-', lw=4, alpha=0.1)\n",
    "    colorline(func_cint1(ω) - func_cext1(ω), sin(ω), ax[0], CutDx, cmap='winter')\n",
    "\n",
    "    \n",
    "        \n",
    "    mid = func_cint1(pi/2) - func_cext1(pi/2)\n",
    "    ax[0].plot([func_cint1(-pi) - func_cext1(-pi) , mid], [sin(-pi),0], marker='o',color='red', ls='-', lw=4)\n",
    "    ax[0].plot([func_cint1(0) - func_cext1(0) , mid], [sin(0),0], marker='o',color='blue', ls='-', lw=4)\n",
    "    \n",
    "    ax[0].arrow(func_cint1(pi/4) - func_cext1(pi/4), sin(pi/4), \n",
    "               -0.01,0.02,\n",
    "                  head_width=0.03, head_length=0.05, fc='black', ec='black')\n",
    "    \n",
    "    ax[0].text((func_cint1(-pi) - func_cext1(-pi) + func_cint1(pi/2) - func_cext1(pi/2))/2 - 0.1, \n",
    "               sin(-pi)+0.05,'Topológica' , color='black')\n",
    "    ax[0].text((func_cint1(pi/2) - func_cext1(pi/2) + func_cint1(0) - func_cext1(0))/2 - 0.1, \n",
    "               sin(-pi)+0.05,'Trivial' , color='black')\n",
    "    ax[0].plot([func_cint1(θ) - func_cext1(θ)], [sin(θ)], marker='o', color='black', markersize=20)\n",
    "\n",
    "\n",
    "    boxes = []\n",
    "    for i in range(len(Rx)):\n",
    "        rect = Rectangle((Rx[i]- 0.4, Ry[i] - 0.4), 0.8,0.8)\n",
    "        boxes.append(rect)\n",
    "    \n",
    "    for i in Dic_r.keys():\n",
    "        c = 0\n",
    "    \n",
    "        for v in Dic_r[i]:\n",
    "            #print(Hop[i][c])\n",
    "            if Hop[i][c] == 1:\n",
    "                ax[1].plot((dic_x[i],dic_x[v]),(dic_y[i],dic_y[v]),c = 'black', lw = 1)\n",
    "            elif Hop[i][c] == -1:\n",
    "                ax[1].plot((dic_x[i],dic_x[v]),(dic_y[i],dic_y[v]),c = 'black', lw = 1, ls = ':')\n",
    "            elif Hop[i][c] == 4.5:\n",
    "                ax[1].plot((dic_x[i],dic_x[v]),(dic_y[i],dic_y[v]),c = 'r', lw =1)\n",
    "            elif Hop[i][c] == -4.5:\n",
    "                ax[1].plot((dic_x[i],dic_x[v]),(dic_y[i],dic_y[v]),c = 'r', lw =1, ls = ':')\n",
    "            c+=1\n",
    "\n",
    "\n",
    "    pc = PatchCollection(boxes, facecolor='#e6e6e6', alpha=0.7,edgecolor='black')\n",
    "    ax[1].add_collection(pc)\n",
    "    #print(len(S_array))\n",
    "    \n",
    "    cmap = plt.get_cmap('RdBu', len(S_array))\n",
    "    cmaplist = [cmap(i) for i in range(cmap.N)]\n",
    "    \n",
    "    \n",
    "    Nx = [i for i in dic_x.values()]\n",
    "    Ny = [i for i in dic_y.values()]\n",
    "\n",
    "    ax[1].scatter(Nx,Ny, s=S_array[count]*10000, alpha=0.8,c=S_array[count], \n",
    "                 cmap='winter',edgecolor='black', vmin=0,vmax=0.25)\n",
    "    \n",
    "    \n",
    "    fig.tight_layout()\n",
    "    ax[1].set_aspect('equal')\n",
    "    #ax.set_title(r'$\\lambda = 4.5, \\gamma = 1$')\n",
    "    ax[1].set_xticks([])\n",
    "    ax[1].set_yticks([])\n",
    "    #ax[1].set_xlim(min(x)+2, max(x)-2)\n",
    "    #ax[1].set_ylim(min(y)+2, max(y)-2)\n",
    "    ax[1].axis(\"off\")\n",
    "\n",
    "    \n",
    "    \n",
    "    ax[0].set_ylabel(r'$\\epsilon(\\theta)$')\n",
    "    ax[0].set_xlabel(r'$\\lambda(\\theta) - \\gamma(\\theta)$')\n",
    "    ax[0].set_xticks([round(mid,2)])\n",
    "    ax[0].set_yticks([0.0])\n",
    "    ax[0].grid(linestyle='--', lw=2)\n",
    "    \n",
    "    fig.tight_layout()\n",
    "    #fig.savefig('hoti_pomp_{}.pdf'.format(θ))\n",
    "    #fig.savefig('images/video_images2/hoti_pomp_{}.pdf'.format(count))\n",
    "    fig.savefig('images/video_images2/hoti_pomp_{}.png'.format(count))\n",
    "    count+=1\n",
    "    \n",
    "    plt.show()"
   ]
  },
  {
   "cell_type": "markdown",
   "metadata": {},
   "source": [
    "# Centros de wannier"
   ]
  },
  {
   "cell_type": "code",
   "execution_count": null,
   "metadata": {},
   "outputs": [],
   "source": [
    "x,y,f,d = np.loadtxt(name_array,usecols=(1,2,4,5),skiprows=2,unpack=True)\n"
   ]
  },
  {
   "cell_type": "code",
   "execution_count": null,
   "metadata": {},
   "outputs": [],
   "source": [
    "A   = 0.5     # μm\n",
    "def func_cext(θ,A,λ):\n",
    "    return  λ*exp(-(1+A*cos(θ)))\n",
    "\n",
    "def func_cint(θ,A,γ):\n",
    "    return γ*exp(-(1-A*cos(θ)))\n",
    "\n",
    "def Hoti_Hamiltonian_transport(A, θ, γ, ϵ=epsi, natoms=natoms, M_rand=M_rand, conection=True):\n",
    "    H = Hoti_Hamiltonian(func_cint(θ,A,γ), func_cext(θ,A,1), ϵ=epsi,δ=0.05*sin(θ), \n",
    "                         natoms=natoms, M_rand=M_rand, conection=True)\n",
    "    return H"
   ]
  },
  {
   "cell_type": "code",
   "execution_count": null,
   "metadata": {},
   "outputs": [],
   "source": [
    "dic_rx = dict.fromkeys(range(len(x)))\n",
    "dic_ry = dict.fromkeys(range(len(y)))\n",
    "for i in unique(f):\n",
    "    rx = reshape(argwhere(f == i),(len(argwhere(f == i))))\n",
    "    px = mean(x[rx])\n",
    "    py = mean(y[rx])\n",
    "    \n",
    "    for j in rx:\n",
    "    \n",
    "        dic_rx[j] = px-0.5\n",
    "        dic_ry[j] = py-0.5\n",
    "        \n",
    "\n",
    "Lx = array([sum(dic_rx[i]) for i in dic_rx.keys()])\n",
    "Lxmax = max(Lx)\n",
    "Lx = Lx/max(Lx)\n",
    " \n",
    "    \n",
    "Ly = array([sum(dic_ry[i]) for i in dic_ry.keys()])\n",
    "Lymax = max(Ly)\n",
    "Ly = Ly/max(Ly)"
   ]
  },
  {
   "cell_type": "markdown",
   "metadata": {},
   "source": [
    "$$\\hat{x} = exp(i2\\pi (x)/L)$$\n",
    "$$\\hat{y} = exp(i2\\pi (y)/L)$$"
   ]
  },
  {
   "cell_type": "code",
   "execution_count": null,
   "metadata": {},
   "outputs": [],
   "source": [
    "POSx=matrix(diag(exp(2*pi*1j*Lx)))\n",
    "POSy=matrix(diag(exp(2*pi*1j*Ly)))\n",
    "\n",
    "#POSx=matrix(diag(Lx))\n",
    "#POSy=matrix(diag(Ly))\n",
    "\n",
    "\n",
    "Lwanflow=[]\n",
    "Hwanflow=[]\n",
    "Lwane=[]\n",
    "Hwane=[]\n",
    "for θ in linspace(0,2*pi,51):\n",
    "    H=matrix(Hoti_Hamiltonian_transport(0.5,θ,1,conection=True))\n",
    "    sys=eigh(H)\n",
    "\n",
    "    Lval=sys[0][sys[0]<0]\n",
    "    Lvec=matrix(sys[1][:,sys[0]<0])\n",
    "    LP=Lvec*Lvec.H\n",
    "    LW=LP*(POSx+POSy)*LP\n",
    "    LWval,LWvec=eig(LW)\n",
    "    LWvec=LWvec[:,abs(LWval)>1e-10]\n",
    "    LWe=real(diag(LWvec.H*H*LWvec))\n",
    "        \n",
    "    Hval=sys[0][sys[0]>0]\n",
    "    Hvec=matrix(sys[1][:,sys[0]>0])\n",
    "    HP=Hvec*Hvec.H\n",
    "    HW=HP*(POSx+POSy)*HP\n",
    "    HWval,HWvec=eig(HW)\n",
    "    \n",
    "    HWvec=HWvec[:,abs(HWval)>1e-10]\n",
    "    HWe=real(diag(HWvec.H*H*HWvec))\n",
    "    \n",
    "    #print(shape(Lxmax/(2*pi)*sort(angle(HWval[abs(HWval)>1e-10]))))\n",
    "    \n",
    "    Hwanflow.append(Lxmax/(2*pi)*sort(angle(HWval[abs(HWval)>1e-10])))\n",
    "    Lwanflow.append(Lxmax/(2*pi)*sort(angle(LWval[abs(LWval)>1e-10])))\n",
    "\n",
    "Hwanflow = array(Hwanflow)\n",
    "Lwanflow = array(Lwanflow)\n"
   ]
  },
  {
   "cell_type": "code",
   "execution_count": null,
   "metadata": {},
   "outputs": [],
   "source": [
    "fig, ax = subplots(figsize=(10,5))\n",
    "for i in range(len(Hwanflow[0])):\n",
    "    \n",
    "    xa = Hwanflow.T[i]\n",
    "    xL = Lwanflow.T[i]\n",
    "    #print(xa)\n",
    "    ya = linspace(-pi,pi,len(xa))\n",
    "    ax.scatter(xa,ya,c='black')\n",
    "    #ax.plot(xL,ya,c='r')\n",
    "ax.set_xlabel('$\\langle x \\\\rangle$')\n",
    "ax.set_ylabel('$\\\\theta$')\n",
    "ax.set_yticks([-pi,0,pi])\n",
    "ax.set_xticks(arange(-8,10,2))\n",
    "ax.set_yticklabels(['$-\\pi$','0','$\\pi$'])\n",
    "ax.set_xticklabels(['1','2','3','4','5','6','7','8','9'])\n",
    "fig.savefig('images/wannier_center.pdf')\n",
    "    "
   ]
  },
  {
   "cell_type": "code",
   "execution_count": null,
   "metadata": {},
   "outputs": [],
   "source": []
  },
  {
   "cell_type": "code",
   "execution_count": null,
   "metadata": {},
   "outputs": [],
   "source": []
  }
 ],
 "metadata": {
  "kernelspec": {
   "display_name": "Python 3 (ipykernel)",
   "language": "python",
   "name": "python3"
  },
  "language_info": {
   "codemirror_mode": {
    "name": "ipython",
    "version": 3
   },
   "file_extension": ".py",
   "mimetype": "text/x-python",
   "name": "python",
   "nbconvert_exporter": "python",
   "pygments_lexer": "ipython3",
   "version": "3.9.12"
  }
 },
 "nbformat": 4,
 "nbformat_minor": 4
}
