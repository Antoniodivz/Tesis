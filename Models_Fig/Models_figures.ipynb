{
 "cells": [
  {
   "cell_type": "code",
   "execution_count": 1,
   "id": "global-vaccine",
   "metadata": {},
   "outputs": [],
   "source": [
    "from pylab import *\n",
    "\n",
    "\n",
    "from matplotlib import rc\n",
    "import matplotlib.pylab as plt\n",
    "\n",
    "font = {'family' : 'serif',\n",
    "        'serif': ['Computer Modern'],\n",
    "        'weight' : 'bold',\n",
    "        'size'   : 28}\n",
    "\n",
    "rc('font', **font)\n",
    "rc('text', usetex=True)\n",
    "rc('text.latex', preamble=r'\\boldmath')\n",
    "\n",
    "from matplotlib.collections import PatchCollection\n",
    "from matplotlib.patches import Rectangle"
   ]
  },
  {
   "cell_type": "code",
   "execution_count": 73,
   "id": "convertible-feedback",
   "metadata": {},
   "outputs": [],
   "source": [
    "def Draw_Model(x,y,f,name,lw=1,ms=5):\n",
    "    r = 1.1\n",
    "    Dic = {}\n",
    "    natoms = int( len(x) )\n",
    "    for n in range(natoms):\n",
    "        a = sqrt( (x[n]-x)*(x[n]-x) + (y[n]-y)*(y[n]-y) ) < r\n",
    "        vecinos = [i for i, x in enumerate(a) if x and i!=n]\n",
    "        Dic[n] = vecinos\n",
    "        \n",
    "    H = np.zeros((natoms,natoms))\n",
    "    \n",
    "    γ = 1\n",
    "    λ = 4.5\n",
    "    for n in Dic.keys():\n",
    "        vecinos = Dic[n]\n",
    "        for v in vecinos:\n",
    "            f0 = f[n]\n",
    "            f1 = f[v]\n",
    "            if f0 == f1:\n",
    "                fase = γ\n",
    "            else: \n",
    "                fase = λ\n",
    "            H[n,v] = fase\n",
    "            H[v,n] = fase\n",
    "\n",
    "    f0 = 0\n",
    "    f1 = 0\n",
    "    fase = 1\n",
    "    for n in Dic.keys():\n",
    "        vecinos = Dic[n]\n",
    "        for v in vecinos:\n",
    "            posx     = x[n]\n",
    "            posy     = y[n]\n",
    "            f0       = f[n]\n",
    "            f1       = f[v] \n",
    "            if f0 == f1:\n",
    "                fase = γ\n",
    "            else: \n",
    "                fase = λ\n",
    "\n",
    "            if ( posx%2==0 and posy%2==0  ):\n",
    "                if ( x[v] > x[n] ):\n",
    "                    H[(n,v)] = -fase\n",
    "                    H[(v,n)] = -fase\n",
    "            elif(posx%2==1 and posy%2==1):\n",
    "                if ( x[v] > x[n] ):\n",
    "                    H[(n,v)] = -fase\n",
    "                    H[(v,n)] = -fase\n",
    "            else:\n",
    "                pass\n",
    "            \n",
    "    Hop = {}\n",
    "    for i in Dic.keys():\n",
    "        Hop[i] = [H[i][j] for j in range(len(H[i])) if H[i][j]!= 0]\n",
    "        \n",
    "        \n",
    "    Rx = []\n",
    "    Ry = []\n",
    "    for i in np.unique(f):\n",
    "        find = [j for j,val in enumerate(f) if val == i]\n",
    "        X = [x[i] for i in find]\n",
    "        Y = [y[i] for i in find]\n",
    "        xmax = np.amax(X)\n",
    "        xmin = np.amin(X)\n",
    "        ymax = np.amax(Y)\n",
    "        ymin = np.amin(Y)\n",
    "        rx = (xmax + xmin)/2\n",
    "        ry = (ymax + ymin)/2\n",
    "        Rx.append(rx)\n",
    "        Ry.append(ry)\n",
    "    \n",
    "    fig, ax = plt.subplots(figsize=(6,6))\n",
    "   \n",
    "\n",
    "    boxes = []\n",
    "    for i in range(len(Rx)):\n",
    "        rect = Rectangle((Rx[i] - .75, Ry[i] - .75), 1.5,1.5)\n",
    "        boxes.append(rect)\n",
    "    for i in Dic.keys():\n",
    "        c = 0\n",
    "        for v in Dic[i]:\n",
    "            if Hop[i][c] == 1:\n",
    "                ax.plot((x[i],x[v]),(y[i],y[v]),c = 'black', lw = lw)\n",
    "            elif Hop[i][c] == -1:\n",
    "                ax.plot((x[i],x[v]),(y[i],y[v]),c = 'black', lw = lw, ls = ':')\n",
    "            elif Hop[i][c] == 4.5:\n",
    "                ax.plot((x[i],x[v]),(y[i],y[v]),c = 'r', lw = lw)\n",
    "            elif Hop[i][c] == -4.5:\n",
    "                ax.plot((x[i],x[v]),(y[i],y[v]),c = 'r', lw = lw, ls = ':')\n",
    "            c+=1  \n",
    "\n",
    "\n",
    "    ax.plot(x,y, marker='o', color='black', markersize=ms,linestyle=\"\")\n",
    "    pc = PatchCollection(boxes, facecolor='#e6e6e6', alpha=0.7,edgecolor='black')\n",
    "    ax.add_collection(pc)\n",
    "    fig.tight_layout()\n",
    "    ax.set_aspect('equal')\n",
    "    ax.set_yticks([])\n",
    "    ax.set_xticks([])\n",
    "    ax.axis(\"off\")\n",
    "    fig.tight_layout()\n",
    "    fig.savefig('{}.pdf'.format(name))\n",
    "    return(fig,ax)"
   ]
  },
  {
   "cell_type": "markdown",
   "id": "religious-scratch",
   "metadata": {},
   "source": [
    "## Figures SSH model"
   ]
  },
  {
   "cell_type": "code",
   "execution_count": 74,
   "id": "hidden-arbor",
   "metadata": {},
   "outputs": [
    {
     "data": {
      "text/plain": [
       "(<Figure size 432x432 with 1 Axes>, <AxesSubplot:>)"
      ]
     },
     "execution_count": 74,
     "metadata": {},
     "output_type": "execute_result"
    },
    {
     "data": {
      "image/png": "[encoded data removed]",
      "text/plain": [
       "<Figure size 432x432 with 1 Axes>"
      ]
     },
     "metadata": {},
     "output_type": "display_data"
    }
   ],
   "source": [
    "x,y,f = np.loadtxt(\"array_18x18.xyz\",usecols=(1,2,4),skiprows=2,unpack=True)\n",
    "Draw_Model(x,y,f,'square_hoti_model')"
   ]
  },
  {
   "cell_type": "code",
   "execution_count": 75,
   "id": "innovative-whale",
   "metadata": {},
   "outputs": [
    {
     "data": {
      "text/plain": [
       "(<Figure size 432x432 with 1 Axes>, <AxesSubplot:>)"
      ]
     },
     "execution_count": 75,
     "metadata": {},
     "output_type": "execute_result"
    },
    {
     "data": {
      "image/png": "[encoded data removed]",
      "text/plain": [
       "<Figure size 432x432 with 1 Axes>"
      ]
     },
     "metadata": {},
     "output_type": "display_data"
    }
   ],
   "source": [
    "x,y,f = np.loadtxt(\"LatticeSierpinski_18x18.xyz\",usecols=(1,2,4),skiprows=2,unpack=True)\n",
    "Draw_Model(x,y,f,'fractal_hoti_model')"
   ]
  },
  {
   "cell_type": "code",
   "execution_count": 76,
   "id": "aggregate-driver",
   "metadata": {},
   "outputs": [
    {
     "data": {
      "image/png": "[encoded data removed]",
      "text/plain": [
       "<Figure size 432x432 with 1 Axes>"
      ]
     },
     "metadata": {},
     "output_type": "display_data"
    }
   ],
   "source": [
    "x,y,f = np.loadtxt(\"array_6x6.xyz\",usecols=(1,2,4),skiprows=2,unpack=True)\n",
    "fig,ax = Draw_Model(x,y,f,'square_hoti_model6',lw=3,ms=10)\n",
    "\n",
    "ax.set_ylim((-0.8,5.8))\n",
    "ax.set_xlim((-0.8,5.8))\n",
    "\n",
    "ax.text(0.4,5.4,'$\\gamma$')\n",
    "ax.text(1.4,4.2,'$\\lambda$')\n",
    "\n",
    "ax.text(0.4,1.2,'$\\pi$')\n",
    "ax.text(0.0,-0.4,'$-\\pi$')\n",
    "\n",
    "ax.text(2.1,3.1,'$3$')\n",
    "ax.text(3.1,3.1,'$4$')\n",
    "ax.text(2.1,2.1,'$1$')\n",
    "ax.text(3.1,2.1,'$2$')\n",
    "\n",
    "fig.savefig('square_hoti_model6.pdf')"
   ]
  },
  {
   "cell_type": "markdown",
   "id": "preceding-trail",
   "metadata": {},
   "source": [
    "## Figures Fractales"
   ]
  },
  {
   "cell_type": "code",
   "execution_count": 67,
   "id": "fabulous-society",
   "metadata": {},
   "outputs": [],
   "source": [
    "def Sierpinsky_carpet(N,name,l=20):\n",
    "    fig, ax = plt.subplots(figsize=(6,6))\n",
    "    ax.add_patch(Rectangle((0,0),l,l, facecolor='black'))\n",
    "    ax.set_ylim((0,l))\n",
    "    ax.set_xlim((0,l))\n",
    "    ax.set_xticks([])\n",
    "    ax.set_yticks([])\n",
    "    for n in range(N):\n",
    "        Squares = []\n",
    "        for i in range(3**n):\n",
    "            for j in range(3**n):\n",
    "                h = 3**n\n",
    "                if i%3==1 and j%3==1:\n",
    "                    rec = Rectangle((l*i/h, l*j/h), l/h,l/h,facecolor='white')\n",
    "                    ax.add_patch(rec)\n",
    "    fig.savefig('{}.pdf'.format(name))\n",
    "    plt.show()"
   ]
  },
  {
   "cell_type": "code",
   "execution_count": 68,
   "id": "dense-vancouver",
   "metadata": {},
   "outputs": [
    {
     "data": {
      "image/png": "[encoded data removed]",
      "text/plain": [
       "<Figure size 432x432 with 1 Axes>"
      ]
     },
     "metadata": {},
     "output_type": "display_data"
    }
   ],
   "source": [
    "Sierpinsky_carpet(1,'sierpinski_carpet_1')"
   ]
  },
  {
   "cell_type": "code",
   "execution_count": 69,
   "id": "wrong-establishment",
   "metadata": {},
   "outputs": [
    {
     "data": {
      "image/png": "[encoded data removed]",
      "text/plain": [
       "<Figure size 432x432 with 1 Axes>"
      ]
     },
     "metadata": {},
     "output_type": "display_data"
    }
   ],
   "source": [
    "Sierpinsky_carpet(2,'sierpinski_carpet_2')"
   ]
  },
  {
   "cell_type": "code",
   "execution_count": 70,
   "id": "headed-albany",
   "metadata": {},
   "outputs": [
    {
     "data": {
      "image/png": "[encoded data removed]",
      "text/plain": [
       "<Figure size 432x432 with 1 Axes>"
      ]
     },
     "metadata": {},
     "output_type": "display_data"
    }
   ],
   "source": [
    "Sierpinsky_carpet(3,'sierpinski_carpet_3')"
   ]
  },
  {
   "cell_type": "code",
   "execution_count": 71,
   "id": "designed-florida",
   "metadata": {},
   "outputs": [
    {
     "data": {
      "image/png": "[encoded data removed]",
      "text/plain": [
       "<Figure size 432x432 with 1 Axes>"
      ]
     },
     "metadata": {},
     "output_type": "display_data"
    }
   ],
   "source": [
    "Sierpinsky_carpet(4,'sierpinski_carpet_4')"
   ]
  },
  {
   "cell_type": "code",
   "execution_count": null,
   "id": "boring-writer",
   "metadata": {},
   "outputs": [],
   "source": []
  }
 ],
 "metadata": {
  "kernelspec": {
   "display_name": "Python 3",
   "language": "python",
   "name": "python3"
  },
  "language_info": {
   "codemirror_mode": {
    "name": "ipython",
    "version": 3
   },
   "file_extension": ".py",
   "mimetype": "text/x-python",
   "name": "python",
   "nbconvert_exporter": "python",
   "pygments_lexer": "ipython3",
   "version": "3.8.5"
  }
 },
 "nbformat": 4,
 "nbformat_minor": 5
}
